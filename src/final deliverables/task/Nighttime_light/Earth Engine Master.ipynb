{
 "cells": [
  {
   "cell_type": "markdown",
   "metadata": {},
   "source": [
    "## Initialize a map object with geemap\n",
    "\n",
    "Later in this tutorial, we're going to show you how to import other geospatial data files, such as the boundaries to countries or sub-national regions, to help you analyze nighttime lights.\n",
    "\n",
    "For now, we're going to focus our scene on Nigeria, but we'll do that simply by centering our map on the capital city of Abuja, which we can find at approximately: latitude: 9.0 and longitude: 7.4. \n",
    "\n",
    "We'll set our map zoom factor to 6 to include the entire country in our view. \n",
    "\n",
    "The try and except blocks in the code below help with Caveats incase you catch an error. "
   ]
  },
  {
   "cell_type": "code",
   "execution_count": 6,
   "metadata": {},
   "outputs": [],
   "source": [
    "try:\n",
    "    import geemap, ee\n",
    "except ModuleNotFoundError:\n",
    "    if 'google.colab' in str(get_ipython()):\n",
    "        print(\"package not found, installing w/ pip in Google Colab...\") ## for google collab\n",
    "        !pip install geemap\n",
    "    else:\n",
    "        print(\"package not found, installing w/ conda...\")\n",
    "        !conda install mamba -c conda-forge -y   ## for your local directory\n",
    "        !mamba install geemap -c conda-forge -y\n",
    "    import geemap, ee"
   ]
  },
  {
   "cell_type": "code",
   "execution_count": 7,
   "metadata": {},
   "outputs": [],
   "source": [
    "try:\n",
    "        ee.Initialize()    ## This is done anytime you want to use the google earth engine API.\n",
    "except Exception as e:\n",
    "        ee.Authenticate()  ## To help google earth engine link your account\n",
    "        ee.Initialize()"
   ]
  },
  {
   "cell_type": "code",
   "execution_count": 8,
   "metadata": {},
   "outputs": [
    {
     "data": {
      "application/vnd.jupyter.widget-view+json": {
       "model_id": "9b9acf0df1b94b5990ff4679d3b123a5",
       "version_major": 2,
       "version_minor": 0
      },
      "text/plain": [
       "Map(center=[9.0, 7.4], controls=(WidgetControl(options=['position', 'transparent_bg'], widget=HBox(children=(T…"
      ]
     },
     "metadata": {},
     "output_type": "display_data"
    }
   ],
   "source": [
    "# set our initial map parameters for Abuja, Nigeria\n",
    "center_lat = 9.0\n",
    "center_lon = 7.4\n",
    "zoomlevel=6\n",
    "\n",
    "# initialize our map\n",
    "myFirstMap = geemap.Map(center=[center_lat,center_lon], zoom=zoomlevel)\n",
    "\n",
    "# display our map\n",
    "myFirstMap.addLayerControl()\n",
    "myFirstMap"
   ]
  },
  {
   "cell_type": "code",
   "execution_count": 9,
   "metadata": {},
   "outputs": [],
   "source": [
    "## GRID3 population data\n",
    "img_pop3 = ee.ImageCollection('users/henrique/GRID3_NGA_PopEst_v1_1_mean_float')\n",
    "##Nigerian nightlights (1Y median)\n",
    "nighttime = ee.ImageCollection('NOAA/VIIRS/DNB/MONTHLY_V1/VCMSLCFG') \\\n",
    "                  .filter(ee.Filter.date('2018–09–01', '2019–09–30')) \\\n",
    "                  .median() \\\n",
    "                  .select('avg_rad') \\\n",
    "                  .clipToCollection(myFirstMap)"
   ]
  },
  {
   "cell_type": "markdown",
   "metadata": {},
   "source": [
    "## Night maps"
   ]
  },
  {
   "cell_type": "code",
   "execution_count": 10,
   "metadata": {},
   "outputs": [
    {
     "name": "stdout",
     "output_type": "stream",
     "text": [
      "there are 12 images in this collection. One per month.\n"
     ]
    }
   ],
   "source": [
    "start_date = '2019-01-01'\n",
    "end_date =  '2019-12-31'\n",
    "\n",
    "\n",
    "##VIIRS Nighttime Day/Night Band Composites Version 1\n",
    "\n",
    "dataset = ee.ImageCollection('NOAA/VIIRS/DNB/MONTHLY_V1/VCMCFG').filter(ee.Filter.date(start_date, end_date))\n",
    "\n",
    "print(f\"there are {dataset.size().getInfo()} images in this collection. One per month.\")  ## Shows how many images in our collection.\n",
    "\n",
    "start_date = '2020-01-01'\n",
    "end_date =  '2020-12-31'"
   ]
  },
  {
   "cell_type": "code",
   "execution_count": 11,
   "metadata": {},
   "outputs": [
    {
     "data": {
      "application/vnd.jupyter.widget-view+json": {
       "model_id": "9b9acf0df1b94b5990ff4679d3b123a5",
       "version_major": 2,
       "version_minor": 0
      },
      "text/plain": [
       "Map(center=[7.4, 9.0], controls=(WidgetControl(options=['position', 'transparent_bg'], widget=HBox(children=(T…"
      ]
     },
     "metadata": {},
     "output_type": "display_data"
    }
   ],
   "source": [
    "##VIIRS Nighttime Day/Night Band Composites Version 1\n",
    "\n",
    "dataset = ee.ImageCollection('NOAA/VIIRS/DNB/MONTHLY_V1/VCMCFG').filter(ee.Filter.date(start_date, end_date))\n",
    "nighttime = dataset.select('avg_rad')\n",
    "nighttimeVis = {min: 0.0, max: 100.0};\n",
    "myFirstMap.setCenter(center_lat, center_lon, zoomlevel);\n",
    "myFirstMap.addLayer(nighttime, nighttimeVis, '2020 Nighttime')\n",
    "\n",
    "# display our night time map\n",
    "myFirstMap.addLayerControl()\n",
    "myFirstMap\n"
   ]
  },
  {
   "cell_type": "markdown",
   "metadata": {},
   "source": [
    "---"
   ]
  },
  {
   "cell_type": "markdown",
   "metadata": {},
   "source": [
    "## Masked Maps\n",
    "\n",
    "This section is for masked Maps. Masked Maps are Maps that negative and Zero values have been filtered out."
   ]
  },
  {
   "cell_type": "code",
   "execution_count": 12,
   "metadata": {},
   "outputs": [
    {
     "data": {
      "application/vnd.jupyter.widget-view+json": {
       "model_id": "d10836398df94ad888f7937cb11958fc",
       "version_major": 2,
       "version_minor": 0
      },
      "text/plain": [
       "Map(center=[7.4, 9.0], controls=(WidgetControl(options=['position', 'transparent_bg'], widget=HBox(children=(T…"
      ]
     },
     "metadata": {},
     "output_type": "display_data"
    }
   ],
   "source": [
    "### Mask\n",
    "\n",
    "start_date = '2020-01-01'\n",
    "end_date =  '2020-12-31'\n",
    "\n",
    "mySecondMap = geemap.Map()\n",
    "\n",
    "##VIIRS Nighttime Day/Night Band Composites Version 1\n",
    "\n",
    "dataset = ee.ImageCollection('NOAA/VIIRS/DNB/MONTHLY_V1/VCMCFG').filter(ee.Filter.date(start_date, end_date))\n",
    "nighttime = dataset.select('avg_rad').median() ##Median is used when masking\n",
    "nighttimeVis = {min: 0.0, max: 60.0};\n",
    "mySecondMap.setCenter(center_lat, center_lon, zoomlevel);\n",
    "mySecondMap.addLayer(nighttime.mask(nighttime), nighttimeVis, '2020 Mask', opacity=0.75)  ##mask function called here.\n",
    "\n",
    "mySecondMap"
   ]
  },
  {
   "cell_type": "markdown",
   "metadata": {},
   "source": [
    "## Adding BaseMap"
   ]
  },
  {
   "cell_type": "code",
   "execution_count": 13,
   "metadata": {},
   "outputs": [
    {
     "data": {
      "application/vnd.jupyter.widget-view+json": {
       "model_id": "4db001de534f4165bb31608d7de588fb",
       "version_major": 2,
       "version_minor": 0
      },
      "text/plain": [
       "Map(center=[7.4, 9.0], controls=(WidgetControl(options=['position', 'transparent_bg'], widget=HBox(children=(T…"
      ]
     },
     "metadata": {},
     "output_type": "display_data"
    }
   ],
   "source": [
    "### Adding BaseMap\n",
    "\n",
    "start_date = '2020-01-01'\n",
    "end_date =  '2020-12-31'\n",
    "\n",
    "myThirdMap = geemap.Map()\n",
    "\n",
    "myThirdMap.add_basemap(\"SATELLITE\") ## BaseMap just means another layer of Map. \n",
    "## You can call different Maps as stored in the databases. You can read more on this. \n",
    "## Satellite BaseMap shows a typography of the Earth - kinda- from space.\n",
    "\n",
    "\n",
    "dataset = ee.ImageCollection('NOAA/VIIRS/DNB/MONTHLY_V1/VCMCFG').filter(ee.Filter.date(start_date, end_date))\n",
    "nighttime = dataset.select('avg_rad').median()\n",
    "nighttimeVis = {min: 0.0, max: 60.0};\n",
    "myThirdMap.setCenter(center_lat, center_lon, zoomlevel);\n",
    "myThirdMap.addLayer(nighttime.mask(nighttime), nighttimeVis, '2020 Mask', opacity=0.75)\n",
    "\n",
    "myThirdMap"
   ]
  },
  {
   "cell_type": "markdown",
   "metadata": {},
   "source": [
    "## Split Maps"
   ]
  },
  {
   "cell_type": "code",
   "execution_count": 14,
   "metadata": {},
   "outputs": [],
   "source": [
    "### Split Night MAps\n",
    "\n",
    "start_date = '2013-01-01'\n",
    "end_date =  '2013-12-31'\n",
    "\n",
    "myLeftMap = geemap.Map()\n",
    "\n",
    "dataset = ee.ImageCollection('NOAA/VIIRS/DNB/MONTHLY_V1/VCMCFG').filter(ee.Filter.date(start_date, end_date))\n",
    "nighttime = dataset.select('avg_rad')\n",
    "nighttimeVis = {min: 0.0, max: 100.0}\n",
    "\n",
    "\n",
    "myLeftMap.setCenter(center_lat, center_lon, zoomlevel)\n",
    "myLeftMap.addLayer(nighttime, nighttimeVis, '2013 Nighttime')"
   ]
  },
  {
   "cell_type": "code",
   "execution_count": 15,
   "metadata": {},
   "outputs": [],
   "source": [
    "start_datee = '2020-01-01'\n",
    "end_datee =  '2020-12-31'\n",
    "\n",
    "myRightMap = geemap.Map()\n",
    "\n",
    "dataset_1 = ee.ImageCollection('NOAA/VIIRS/DNB/MONTHLY_V1/VCMCFG').filter(ee.Filter.date(start_datee, end_datee))\n",
    "nighttime_1 = dataset_1.select('avg_rad')\n",
    "nighttimeVis = {min: 0.0, max: 100.0}\n",
    "myRightMap.setCenter(center_lat, center_lon, zoomlevel)\n",
    "myRightMap.addLayer(nighttime_1, nighttimeVis, '2020 Nighttime')"
   ]
  },
  {
   "cell_type": "code",
   "execution_count": 16,
   "metadata": {},
   "outputs": [],
   "source": [
    "# generate tile layers from the ee image objects, masking and changing opacity to 75%\n",
    "tile_2013 = geemap.ee_tile_layer(nighttime, {}, 'Nighttime 2013', opacity=0.75)\n",
    "tile_2020 = geemap.ee_tile_layer(nighttime_1, {}, 'Nighttime 2020', opacity=0.75)"
   ]
  },
  {
   "cell_type": "code",
   "execution_count": 17,
   "metadata": {},
   "outputs": [
    {
     "data": {
      "application/vnd.jupyter.widget-view+json": {
       "model_id": "e2ca6ebf2ab4457a93fd1d50943c9241",
       "version_major": 2,
       "version_minor": 0
      },
      "text/plain": [
       "Map(center=[9.0, 7.4], controls=(WidgetControl(options=['position', 'transparent_bg'], widget=HBox(children=(T…"
      ]
     },
     "metadata": {},
     "output_type": "display_data"
    }
   ],
   "source": [
    "# initial map object centered on Abuja. Our Split map will be called splitMap\n",
    "splitMap = geemap.Map(center=[center_lat,center_lon], zoom=zoomlevel)\n",
    "\n",
    "# use .split_map function to create split panels\n",
    "splitMap.split_map(left_layer=tile_2013, right_layer=tile_2020) ## split_map is the function here\n",
    "\n",
    "\n",
    "splitMap.addLayerControl()\n",
    "splitMap"
   ]
  },
  {
   "cell_type": "markdown",
   "metadata": {},
   "source": [
    "### Split Maps with masks"
   ]
  },
  {
   "cell_type": "code",
   "execution_count": 18,
   "metadata": {},
   "outputs": [],
   "source": [
    "start_date = '2013-01-01'\n",
    "end_date =  '2013-12-31'\n",
    "\n",
    "\n",
    "dataset = ee.ImageCollection('NOAA/VIIRS/DNB/MONTHLY_V1/VCMCFG').filter(ee.Filter.date(start_date, end_date))\n",
    "nighttime = dataset.select('avg_rad').median()\n",
    "nighttimeVis = {min: 0.0, max: 100.0}\n",
    "myFirstMap.setCenter(center_lat, center_lon, zoomlevel)\n",
    "myFirstMap.addLayer(nighttime, nighttimeVis, '2013 Nighttime')"
   ]
  },
  {
   "cell_type": "code",
   "execution_count": 19,
   "metadata": {},
   "outputs": [],
   "source": [
    "start_datee = '2020-01-01'\n",
    "end_datee =  '2020-12-31'\n",
    "\n",
    "\n",
    "dataset_1 = ee.ImageCollection('NOAA/VIIRS/DNB/MONTHLY_V1/VCMCFG').filter(ee.Filter.date(start_datee, end_datee))\n",
    "nighttime_1 = dataset_1.select('avg_rad').median()\n",
    "nighttimeVis = {min: 0.0, max: 100.0}\n",
    "myFirstMap.setCenter(center_lat, center_lon, zoomlevel)\n",
    "myFirstMap.addLayer(nighttime_1, nighttimeVis, '2020 Nighttime')"
   ]
  },
  {
   "cell_type": "code",
   "execution_count": 20,
   "metadata": {},
   "outputs": [],
   "source": [
    "# generate tile layers from the ee image objects, masking and changing opacity to 75%\n",
    "tile_2013 = geemap.ee_tile_layer(nighttime.mask(nighttime), {}, 'Nighttime 2013', )\n",
    "tile_2020 = geemap.ee_tile_layer(nighttime_1.mask(nighttime_1), {}, 'Nighttime 2020',)"
   ]
  },
  {
   "cell_type": "code",
   "execution_count": 21,
   "metadata": {},
   "outputs": [
    {
     "data": {
      "application/vnd.jupyter.widget-view+json": {
       "model_id": "9a0cf330cf504620ae5e729c3a3be4ea",
       "version_major": 2,
       "version_minor": 0
      },
      "text/plain": [
       "Map(center=[9.0, 7.4], controls=(WidgetControl(options=['position', 'transparent_bg'], widget=HBox(children=(T…"
      ]
     },
     "metadata": {},
     "output_type": "display_data"
    }
   ],
   "source": [
    "# initial map object centered on Abuja\n",
    "Map7 = geemap.Map(center=[center_lat,center_lon], zoom=zoomlevel)\n",
    "\n",
    "# use .split_map function to create split panels\n",
    "Map7.split_map(left_layer=tile_2013, right_layer=tile_2020)\n",
    "\n",
    "\n",
    "Map7.addLayerControl()\n",
    "Map7\n"
   ]
  },
  {
   "cell_type": "markdown",
   "metadata": {},
   "source": [
    "---"
   ]
  },
  {
   "cell_type": "code",
   "execution_count": 23,
   "metadata": {},
   "outputs": [
    {
     "data": {
      "application/vnd.jupyter.widget-view+json": {
       "model_id": "03555319aae34bba80356646411d8331",
       "version_major": 2,
       "version_minor": 0
      },
      "text/plain": [
       "Map(center=[7.6, 9.0], controls=(WidgetControl(options=['position', 'transparent_bg'], widget=HBox(children=(T…"
      ]
     },
     "metadata": {},
     "output_type": "display_data"
    }
   ],
   "source": [
    "## World Pop\n",
    "\n",
    "Map= geemap.Map()\n",
    "\n",
    "worldPop = ee.ImageCollection(\"WorldPop/GP/100m/pop\") .filterDate('2018');\n",
    "populationVis = {min: 0.0,max: 50.0, 'palette' : ['24126c', '1fff4f', 'd4ff50']};\n",
    "\n",
    "Map.setCenter(9.0, 7.6, 6);\n",
    "Map.addLayer(worldPop, populationVis, 'Population');\n",
    "\n",
    "Map\n",
    "\n"
   ]
  },
  {
   "cell_type": "markdown",
   "metadata": {},
   "source": [
    "\n",
    "## Exporting night time image\n",
    "\n",
    "In this section, we will be analyzing our nightime image and try to get data from them."
   ]
  },
  {
   "cell_type": "code",
   "execution_count": null,
   "metadata": {},
   "outputs": [],
   "source": [
    "import os\n",
    "import geemap\n",
    "import ee"
   ]
  },
  {
   "cell_type": "code",
   "execution_count": null,
   "metadata": {},
   "outputs": [],
   "source": [
    "try:\n",
    "        ee.Initialize()    ## This is done anytime you want to use the google earth engine API.\n",
    "except Exception as e:\n",
    "        ee.Authenticate()  ## To help google earth engine link your account\n",
    "        ee.Initialize()"
   ]
  },
  {
   "cell_type": "code",
   "execution_count": null,
   "metadata": {},
   "outputs": [],
   "source": [
    "# set our initial map parameters for Abuja, Nigeria\n",
    "center_lat = 9.0\n",
    "center_lon = 7.4\n",
    "zoomlevel=6\n",
    "\n",
    "# initialize our map\n",
    "myFirstMap = geemap.Map(center=[center_lat,center_lon], zoom=zoomlevel)\n",
    "\n",
    "# display our map\n",
    "myFirstMap.addLayerControl()\n",
    "myFirstMap"
   ]
  },
  {
   "cell_type": "code",
   "execution_count": null,
   "metadata": {},
   "outputs": [],
   "source": [
    "## Displaying nighttime image\n",
    "\n",
    "start_date = '2016-01-01'\n",
    "end_date =  '2016-12-31'\n",
    "\n",
    "\n",
    "## Creating night-time image from VIIRS dataset\n",
    "dataset = ee.ImageCollection('NOAA/VIIRS/DNB/MONTHLY_V1/VCMCFG').filter(ee.Filter.date(start_date, end_date))\n",
    "nighttime = dataset.select('avg_rad')\n",
    "nighttime_image = nighttime.median()\n",
    "nighttimeVis = {min: 0.0, max: 100.0};\n",
    "myFirstMap.setCenter(center_lat, center_lon, zoomlevel);\n",
    "myFirstMap.addLayer(nighttime_image.mask(nighttime_image), nighttimeVis, '2016 Nighttime Mask')\n",
    "\n",
    "\n",
    "# display our night time map\n",
    "myFirstMap.addLayerControl()\n",
    "myFirstMap"
   ]
  },
  {
   "cell_type": "code",
   "execution_count": null,
   "metadata": {},
   "outputs": [],
   "source": [
    "## run night mask first and draw the box before running this or you can use the cordinates approach. This approach is \n",
    "## commented\n",
    "feature = myFirstMap.draw_last_feature\n",
    "feature"
   ]
  },
  {
   "cell_type": "code",
   "execution_count": null,
   "metadata": {},
   "outputs": [],
   "source": [
    "print(feature)"
   ]
  },
  {
   "cell_type": "code",
   "execution_count": null,
   "metadata": {},
   "outputs": [],
   "source": [
    "## run night mask first and draw the box before running this or you can use the cordinates approach. This approach is \n",
    "## commented\n",
    "## feature = mySecondMap.draw_last_feature\n",
    "## feature\n",
    "\n",
    "# Draw any shapes on the map using the Drawing tools before executing this code block\n",
    "feature = myFirstMap.draw_last_feature\n",
    "\n",
    "if feature is None:\n",
    "    geom = ee.Geometry.Polygon([[[7.809796,4.887219],\n",
    "                                 [7.809796,5.160274],\n",
    "                                 [8.402061,5.160274],\n",
    "                                 [8.402061,4.887219],\n",
    "                                 [7.809796,4.887219]]])\n",
    "    feature = ee.Feature(geom, {})\n",
    "\n",
    "## ROI is region of interest\n",
    "roi = feature.geometry()"
   ]
  },
  {
   "cell_type": "code",
   "execution_count": null,
   "metadata": {},
   "outputs": [],
   "source": [
    "## ascertain path to download image\n",
    "path = \"~\\Desktop\\PERSONAL\\OMDENA\\Google Earth Engine\"\n",
    "out_dir = os.path.join(os.path.expanduser(path), \"Downloaded Maps\")\n",
    "\n",
    "filename = os.path.join(out_dir, \"NigeriaMask2016.tif\")"
   ]
  },
  {
   "cell_type": "code",
   "execution_count": null,
   "metadata": {},
   "outputs": [],
   "source": [
    "###Export function\n",
    "\n",
    "geemap.ee_export_image(nighttime_image, filename= filename, scale= 100, region = roi, file_per_band=False,)"
   ]
  },
  {
   "cell_type": "markdown",
   "metadata": {},
   "source": [
    "---"
   ]
  },
  {
   "cell_type": "markdown",
   "metadata": {},
   "source": [
    "## Night time image analysis"
   ]
  },
  {
   "cell_type": "markdown",
   "metadata": {},
   "source": [
    "Using VIIRS as the raster input, examine its attributes, plot a histogram showing the distribution of the night time intesity (avg_rad), and showing a simple masking technique to remove non habitable areas.\n",
    "\n",
    "The raster is already bounded from GEE."
   ]
  },
  {
   "cell_type": "markdown",
   "metadata": {},
   "source": [
    "1  Open Source Python Notebook using simple Rasterio library to examine raster"
   ]
  },
  {
   "cell_type": "markdown",
   "metadata": {},
   "source": [
    "1.1  Extract a raster file and examine its attributes as well as examine a single band from that raster then show the image.¶\n",
    "Check version & install libraries."
   ]
  },
  {
   "cell_type": "code",
   "execution_count": null,
   "metadata": {},
   "outputs": [],
   "source": [
    "# standard library\n",
    "import os\n",
    "from pprint import pprint\n",
    "\n",
    "# common library\n",
    "import numpy as np \n",
    "import pandas as  pd\n",
    "import matplotlib.pyplot as plt\n",
    "import seaborn as sns\n",
    "%matplotlib inline\n",
    "\n",
    "# GIS libraries\n",
    "import rasterio\n",
    "from rasterio.plot import show\n",
    "from rasterio.plot import show_hist\n",
    "import xarray as xr\n",
    "import rioxarray as rxr"
   ]
  },
  {
   "cell_type": "code",
   "execution_count": null,
   "metadata": {},
   "outputs": [],
   "source": [
    "## Put your downloaded geotiff image in the same folder.\n",
    "\n",
    "data = \"NigeriaMask2016.tif\""
   ]
  },
  {
   "cell_type": "code",
   "execution_count": null,
   "metadata": {},
   "outputs": [],
   "source": [
    "# Open the file:\n",
    "raster = rasterio.open(data)"
   ]
  },
  {
   "cell_type": "code",
   "execution_count": null,
   "metadata": {},
   "outputs": [],
   "source": [
    "# from rasterio doc: attributes\n",
    "print(f'Raster shape:\\t\\t {raster.shape}')\n",
    "print(f'Raster band count:\\t {raster.count}')\n",
    "print(f'Raster data types:\\t {raster.dtypes} ')\n",
    "print(f'Raster valid data mask:\\t {raster.nodatavals}')\n",
    "print(f'Raster not valid mask:\\t {raster.nodata}')"
   ]
  },
  {
   "cell_type": "code",
   "execution_count": null,
   "metadata": {},
   "outputs": [],
   "source": [
    "# the plot dimensions show the longitude, x, and lattitude, y\n",
    "show(raster);"
   ]
  },
  {
   "cell_type": "markdown",
   "metadata": {},
   "source": [
    "### Bands  \n",
    "\n",
    "From the metadata information block above, \"count\" shows 1 meaning only 1 band in this raster.  Using 1-based array index, showing the band information."
   ]
  },
  {
   "cell_type": "code",
   "execution_count": null,
   "metadata": {},
   "outputs": [],
   "source": [
    "# get the band and inspect\n",
    "band = raster.read(1)\n",
    "\n",
    "## Descriptions of band\n",
    "print(f'Band size:\\t{band.shape}')\n",
    "print(f'Band dimensions:\\t{band.ndim}')\n",
    "print(f'Band data type:\\t{type(band)}')"
   ]
  },
  {
   "cell_type": "code",
   "execution_count": null,
   "metadata": {},
   "outputs": [],
   "source": [
    "band"
   ]
  },
  {
   "cell_type": "code",
   "execution_count": null,
   "metadata": {},
   "outputs": [],
   "source": [
    "# band has nan values on certain pixels, look at non-nan values\n",
    "# band is a 2D ndarray, to examine values, it will flatten to 1D\n",
    "# using to inspect stats only\n",
    "count = band[~(np.isnan(band))] "
   ]
  },
  {
   "cell_type": "code",
   "execution_count": null,
   "metadata": {},
   "outputs": [],
   "source": [
    "# stats\n",
    "print(f'\\tmin: {count.min()},\\n \\tmean: {count.mean()},\\n\\tmedian: {np.median(count)},\\n\\tmax: {count.max()}')"
   ]
  },
  {
   "cell_type": "code",
   "execution_count": null,
   "metadata": {},
   "outputs": [],
   "source": [
    "# pink seems to show the light colors better than other colors\n",
    "fig, ax = plt.subplots()\n",
    "img = ax.imshow(band[:, :], cmap='pink')\n",
    "fig.colorbar(img, ax=ax);\n",
    "ax.set_xlabel('pixel dimensions')\n",
    "ax.set_ylabel('pixel dimensions')\n",
    "ax.set_title('Night time mask avg DNB radiance values for ');"
   ]
  },
  {
   "cell_type": "markdown",
   "metadata": {},
   "source": [
    "### Histogram "
   ]
  },
  {
   "cell_type": "code",
   "execution_count": null,
   "metadata": {},
   "outputs": [],
   "source": [
    "# this may take several minutes\n",
    "plt.hist(band)"
   ]
  },
  {
   "cell_type": "markdown",
   "metadata": {},
   "source": [
    "### Extracting Data from images"
   ]
  },
  {
   "cell_type": "code",
   "execution_count": null,
   "metadata": {},
   "outputs": [],
   "source": [
    "# Open DTM and DSM files\n",
    "raster2 = rxr.open_rasterio(\"NigeriaMask2016.tif\", masked=True).squeeze()"
   ]
  },
  {
   "cell_type": "code",
   "execution_count": null,
   "metadata": {},
   "outputs": [],
   "source": [
    "## Drop null values\n",
    "var1 = raster2.to_dataframe('results').dropna(how='all')"
   ]
  },
  {
   "cell_type": "code",
   "execution_count": null,
   "metadata": {},
   "outputs": [],
   "source": [
    "var1 = var1.dropna()"
   ]
  },
  {
   "cell_type": "code",
   "execution_count": null,
   "metadata": {},
   "outputs": [],
   "source": [
    "# Check nodata value for array\n",
    "raster2.rio.nodata\n"
   ]
  },
  {
   "cell_type": "code",
   "execution_count": null,
   "metadata": {},
   "outputs": [],
   "source": [
    "raster2"
   ]
  },
  {
   "cell_type": "code",
   "execution_count": null,
   "metadata": {},
   "outputs": [],
   "source": [
    "## Exporting data to a file\n",
    "var1.to_csv(\"data_extract.csv\")"
   ]
  },
  {
   "cell_type": "markdown",
   "metadata": {},
   "source": [
    "## Zonal statistics\n",
    "### Working with shapefiles"
   ]
  },
  {
   "cell_type": "code",
   "execution_count": null,
   "metadata": {},
   "outputs": [],
   "source": [
    "import geopandas as gpd"
   ]
  },
  {
   "cell_type": "code",
   "execution_count": null,
   "metadata": {},
   "outputs": [],
   "source": [
    "###Mask\n",
    "\n",
    "start_date = '2016-01-01'\n",
    "end_date =  '2016-12-31'\n",
    "\n",
    "mySecondMap = geemap.Map()\n",
    "\n",
    "##VIIRS Nighttime Day/Night Band Composites Version 1\n",
    "\n",
    "dataset = ee.ImageCollection('NOAA/VIIRS/DNB/MONTHLY_V1/VCMCFG').filter(ee.Filter.date(start_date, end_date))\n",
    "nighttime = dataset.select('avg_rad').median() ##Median is used when masking\n",
    "nighttimeVis = {min: 0.0, max: 60.0};\n",
    "mySecondMap.setCenter(center_lat, center_lon, zoomlevel);\n",
    "mySecondMap.addLayer(nighttime.mask(nighttime), nighttimeVis, '2016 Mask', opacity=0.75)  ##mask function called here.\n",
    "\n",
    "mySecondMap"
   ]
  },
  {
   "cell_type": "code",
   "execution_count": null,
   "metadata": {},
   "outputs": [],
   "source": [
    "## Quick look at the shape file\n",
    "gdf = gpd.read_file(r'C:\\Users\\edidiong.e\\Desktop\\PERSONAL\\OMDENA\\Google Earth Engine\\nigeria_lga\\gadm36_NGA_1.shp')\n",
    "gdf.plot()"
   ]
  },
  {
   "cell_type": "code",
   "execution_count": null,
   "metadata": {},
   "outputs": [],
   "source": [
    "## conda install pyshp to help view shapefile on map\n",
    "## conda install -c conda-forge pyshp if Attribute Error\n",
    "\n",
    "\n",
    "nigeria_shp = r'C:\\Users\\edidiong.e\\Desktop\\PERSONAL\\OMDENA\\Google Earth Engine\\nigeria_lga\\gadm36_NGA_1.shp'\n",
    "nigeria = geemap.shp_to_ee(nigeria_shp)\n",
    "mySecondMap.addLayer(nigeria, {}, 'Nigeria')\n",
    "\n",
    "##Look at Map\n",
    "mySecondMap"
   ]
  },
  {
   "cell_type": "code",
   "execution_count": null,
   "metadata": {},
   "outputs": [],
   "source": [
    "out_dir = os.path.expanduser('~/Downloads')\n",
    "if not os.path.exists(out_dir):\n",
    "    os.makedirs(out_dir)"
   ]
  },
  {
   "cell_type": "code",
   "execution_count": null,
   "metadata": {},
   "outputs": [],
   "source": [
    "out_dem_stats = os.path.join(out_dir, 'dem_stats2.csv')  \n",
    "\n",
    "# Allowed output formats: csv, shp, json, kml, kmz\n",
    "# Allowed statistics type: MEAN, MAXIMUM, MINIMUM, MEDIAN, STD, MIN_MAX, VARIANCE, SUM\n",
    "geemap.zonal_statistics(nighttime, nigeria, out_dem_stats, statistics_type='MEAN', scale=1000)"
   ]
  },
  {
   "cell_type": "code",
   "execution_count": null,
   "metadata": {},
   "outputs": [],
   "source": []
  }
 ],
 "metadata": {
  "kernelspec": {
   "display_name": "Python 3",
   "language": "python",
   "name": "python3"
  },
  "language_info": {
   "codemirror_mode": {
    "name": "ipython",
    "version": 3
   },
   "file_extension": ".py",
   "mimetype": "text/x-python",
   "name": "python",
   "nbconvert_exporter": "python",
   "pygments_lexer": "ipython3",
   "version": "3.8.5"
  },
  "toc": {
   "base_numbering": 1,
   "nav_menu": {},
   "number_sections": true,
   "sideBar": true,
   "skip_h1_title": false,
   "title_cell": "Table of Contents",
   "title_sidebar": "Contents",
   "toc_cell": false,
   "toc_position": {},
   "toc_section_display": true,
   "toc_window_display": false
  }
 },
 "nbformat": 4,
 "nbformat_minor": 5
}
