{
 "cells": [
  {
   "cell_type": "markdown",
   "id": "coordinate-hunter",
   "metadata": {},
   "source": [
    "# Importing useful libraries"
   ]
  },
  {
   "cell_type": "code",
   "execution_count": 1,
   "id": "confidential-personal",
   "metadata": {},
   "outputs": [],
   "source": [
    "import pandas as pd\n",
    "import numpy as np\n",
    "import seaborn as sns\n",
    "import matplotlib.pyplot as plt"
   ]
  },
  {
   "cell_type": "code",
   "execution_count": 2,
   "id": "immune-gnome",
   "metadata": {},
   "outputs": [],
   "source": [
    "#importing kmeans clustering model\n",
    "from sklearn.cluster import KMeans\n",
    "from sklearn.metrics import silhouette_score"
   ]
  },
  {
   "cell_type": "markdown",
   "id": "unlike-failing",
   "metadata": {},
   "source": [
    "# Reading data into notebook"
   ]
  },
  {
   "cell_type": "code",
   "execution_count": 3,
   "id": "parallel-hunger",
   "metadata": {},
   "outputs": [
    {
     "data": {
      "text/html": [
       "<div>\n",
       "<style scoped>\n",
       "    .dataframe tbody tr th:only-of-type {\n",
       "        vertical-align: middle;\n",
       "    }\n",
       "\n",
       "    .dataframe tbody tr th {\n",
       "        vertical-align: top;\n",
       "    }\n",
       "\n",
       "    .dataframe thead th {\n",
       "        text-align: right;\n",
       "    }\n",
       "</style>\n",
       "<table border=\"1\" class=\"dataframe\">\n",
       "  <thead>\n",
       "    <tr style=\"text-align: right;\">\n",
       "      <th></th>\n",
       "      <th>LGA</th>\n",
       "      <th>Average Nighttime mean</th>\n",
       "      <th>system:index</th>\n",
       "      <th>AREA</th>\n",
       "      <th>STATE</th>\n",
       "      <th>Latitude</th>\n",
       "      <th>Longitude</th>\n",
       "      <th>PERIMETER</th>\n",
       "      <th>Population</th>\n",
       "    </tr>\n",
       "  </thead>\n",
       "  <tbody>\n",
       "    <tr>\n",
       "      <th>0</th>\n",
       "      <td>Aba North</td>\n",
       "      <td>3.422659</td>\n",
       "      <td>698</td>\n",
       "      <td>18.116</td>\n",
       "      <td>Abia</td>\n",
       "      <td>5.100754</td>\n",
       "      <td>7.359617</td>\n",
       "      <td>31.927</td>\n",
       "      <td>245825.2780</td>\n",
       "    </tr>\n",
       "    <tr>\n",
       "      <th>1</th>\n",
       "      <td>Aba South</td>\n",
       "      <td>1.949728</td>\n",
       "      <td>699</td>\n",
       "      <td>51.131</td>\n",
       "      <td>Abia</td>\n",
       "      <td>5.071438</td>\n",
       "      <td>7.341737</td>\n",
       "      <td>29.855</td>\n",
       "      <td>380211.9108</td>\n",
       "    </tr>\n",
       "    <tr>\n",
       "      <th>2</th>\n",
       "      <td>Arochukwu</td>\n",
       "      <td>0.089510</td>\n",
       "      <td>656</td>\n",
       "      <td>386.125</td>\n",
       "      <td>Abia</td>\n",
       "      <td>5.498931</td>\n",
       "      <td>7.795863</td>\n",
       "      <td>133.618</td>\n",
       "      <td>146354.5149</td>\n",
       "    </tr>\n",
       "    <tr>\n",
       "      <th>3</th>\n",
       "      <td>Bende</td>\n",
       "      <td>0.076452</td>\n",
       "      <td>636</td>\n",
       "      <td>603.923</td>\n",
       "      <td>Abia</td>\n",
       "      <td>5.655239</td>\n",
       "      <td>7.588170</td>\n",
       "      <td>141.298</td>\n",
       "      <td>236492.5846</td>\n",
       "    </tr>\n",
       "    <tr>\n",
       "      <th>4</th>\n",
       "      <td>Ikwuano</td>\n",
       "      <td>0.066905</td>\n",
       "      <td>674</td>\n",
       "      <td>237.941</td>\n",
       "      <td>Abia</td>\n",
       "      <td>5.384024</td>\n",
       "      <td>7.568317</td>\n",
       "      <td>78.189</td>\n",
       "      <td>153494.9633</td>\n",
       "    </tr>\n",
       "  </tbody>\n",
       "</table>\n",
       "</div>"
      ],
      "text/plain": [
       "         LGA  Average Nighttime mean  system:index     AREA STATE  Latitude  \\\n",
       "0  Aba North                3.422659           698   18.116  Abia  5.100754   \n",
       "1  Aba South                1.949728           699   51.131  Abia  5.071438   \n",
       "2  Arochukwu                0.089510           656  386.125  Abia  5.498931   \n",
       "3      Bende                0.076452           636  603.923  Abia  5.655239   \n",
       "4    Ikwuano                0.066905           674  237.941  Abia  5.384024   \n",
       "\n",
       "   Longitude  PERIMETER   Population  \n",
       "0   7.359617     31.927  245825.2780  \n",
       "1   7.341737     29.855  380211.9108  \n",
       "2   7.795863    133.618  146354.5149  \n",
       "3   7.588170    141.298  236492.5846  \n",
       "4   7.568317     78.189  153494.9633  "
      ]
     },
     "execution_count": 3,
     "metadata": {},
     "output_type": "execute_result"
    }
   ],
   "source": [
    "data = pd.read_excel('Nighttime_and_population_data.xlsx')\n",
    "data.head()"
   ]
  },
  {
   "cell_type": "markdown",
   "id": "productive-positive",
   "metadata": {},
   "source": [
    "# Feature engineering"
   ]
  },
  {
   "cell_type": "code",
   "execution_count": 4,
   "id": "sunrise-session",
   "metadata": {},
   "outputs": [
    {
     "data": {
      "text/html": [
       "<div>\n",
       "<style scoped>\n",
       "    .dataframe tbody tr th:only-of-type {\n",
       "        vertical-align: middle;\n",
       "    }\n",
       "\n",
       "    .dataframe tbody tr th {\n",
       "        vertical-align: top;\n",
       "    }\n",
       "\n",
       "    .dataframe thead th {\n",
       "        text-align: right;\n",
       "    }\n",
       "</style>\n",
       "<table border=\"1\" class=\"dataframe\">\n",
       "  <thead>\n",
       "    <tr style=\"text-align: right;\">\n",
       "      <th></th>\n",
       "      <th>LGA</th>\n",
       "      <th>Average Nighttime mean</th>\n",
       "      <th>system:index</th>\n",
       "      <th>AREA</th>\n",
       "      <th>STATE</th>\n",
       "      <th>Latitude</th>\n",
       "      <th>Longitude</th>\n",
       "      <th>PERIMETER</th>\n",
       "      <th>Population</th>\n",
       "      <th>population density</th>\n",
       "    </tr>\n",
       "  </thead>\n",
       "  <tbody>\n",
       "    <tr>\n",
       "      <th>0</th>\n",
       "      <td>Aba North</td>\n",
       "      <td>3.422659</td>\n",
       "      <td>698</td>\n",
       "      <td>18.116</td>\n",
       "      <td>Abia</td>\n",
       "      <td>5.100754</td>\n",
       "      <td>7.359617</td>\n",
       "      <td>31.927</td>\n",
       "      <td>245825.2780</td>\n",
       "      <td>13569.511923</td>\n",
       "    </tr>\n",
       "    <tr>\n",
       "      <th>1</th>\n",
       "      <td>Aba South</td>\n",
       "      <td>1.949728</td>\n",
       "      <td>699</td>\n",
       "      <td>51.131</td>\n",
       "      <td>Abia</td>\n",
       "      <td>5.071438</td>\n",
       "      <td>7.341737</td>\n",
       "      <td>29.855</td>\n",
       "      <td>380211.9108</td>\n",
       "      <td>7436.035102</td>\n",
       "    </tr>\n",
       "    <tr>\n",
       "      <th>2</th>\n",
       "      <td>Arochukwu</td>\n",
       "      <td>0.089510</td>\n",
       "      <td>656</td>\n",
       "      <td>386.125</td>\n",
       "      <td>Abia</td>\n",
       "      <td>5.498931</td>\n",
       "      <td>7.795863</td>\n",
       "      <td>133.618</td>\n",
       "      <td>146354.5149</td>\n",
       "      <td>379.034030</td>\n",
       "    </tr>\n",
       "    <tr>\n",
       "      <th>3</th>\n",
       "      <td>Bende</td>\n",
       "      <td>0.076452</td>\n",
       "      <td>636</td>\n",
       "      <td>603.923</td>\n",
       "      <td>Abia</td>\n",
       "      <td>5.655239</td>\n",
       "      <td>7.588170</td>\n",
       "      <td>141.298</td>\n",
       "      <td>236492.5846</td>\n",
       "      <td>391.593936</td>\n",
       "    </tr>\n",
       "    <tr>\n",
       "      <th>4</th>\n",
       "      <td>Ikwuano</td>\n",
       "      <td>0.066905</td>\n",
       "      <td>674</td>\n",
       "      <td>237.941</td>\n",
       "      <td>Abia</td>\n",
       "      <td>5.384024</td>\n",
       "      <td>7.568317</td>\n",
       "      <td>78.189</td>\n",
       "      <td>153494.9633</td>\n",
       "      <td>645.096740</td>\n",
       "    </tr>\n",
       "  </tbody>\n",
       "</table>\n",
       "</div>"
      ],
      "text/plain": [
       "         LGA  Average Nighttime mean  system:index     AREA STATE  Latitude  \\\n",
       "0  Aba North                3.422659           698   18.116  Abia  5.100754   \n",
       "1  Aba South                1.949728           699   51.131  Abia  5.071438   \n",
       "2  Arochukwu                0.089510           656  386.125  Abia  5.498931   \n",
       "3      Bende                0.076452           636  603.923  Abia  5.655239   \n",
       "4    Ikwuano                0.066905           674  237.941  Abia  5.384024   \n",
       "\n",
       "   Longitude  PERIMETER   Population  population density  \n",
       "0   7.359617     31.927  245825.2780        13569.511923  \n",
       "1   7.341737     29.855  380211.9108         7436.035102  \n",
       "2   7.795863    133.618  146354.5149          379.034030  \n",
       "3   7.588170    141.298  236492.5846          391.593936  \n",
       "4   7.568317     78.189  153494.9633          645.096740  "
      ]
     },
     "execution_count": 4,
     "metadata": {},
     "output_type": "execute_result"
    }
   ],
   "source": [
    "# creating population density feature.\n",
    "\n",
    "data['population density'] = data['Population']/data['AREA']\n",
    "data.head()"
   ]
  },
  {
   "cell_type": "markdown",
   "id": "julian-valuation",
   "metadata": {},
   "source": [
    "# Feature scaling"
   ]
  },
  {
   "cell_type": "code",
   "execution_count": 5,
   "id": "executive-boulder",
   "metadata": {},
   "outputs": [],
   "source": [
    "from sklearn.preprocessing import StandardScaler, MinMaxScaler\n",
    "\n",
    "X = data[['Average Nighttime mean', 'population density']]"
   ]
  },
  {
   "cell_type": "markdown",
   "id": "described-missouri",
   "metadata": {},
   "source": [
    "> We used the two most relevant features for the clustering model, `Avearge Nighttime mean` and `Population density`."
   ]
  },
  {
   "cell_type": "code",
   "execution_count": 6,
   "id": "twelve-vehicle",
   "metadata": {},
   "outputs": [
    {
     "data": {
      "text/plain": [
       "array([[ 1.08741393,  4.16368693],\n",
       "       [ 0.4904068 ,  2.1226013 ],\n",
       "       [-0.26357502, -0.2258128 ],\n",
       "       ...,\n",
       "       [-0.29139817, -0.28961479],\n",
       "       [-0.29532429, -0.30925259],\n",
       "       [-0.30001705, -0.32184186]])"
      ]
     },
     "execution_count": 6,
     "metadata": {},
     "output_type": "execute_result"
    }
   ],
   "source": [
    "# instantiating standardscaler for scaling choosen features\n",
    "\n",
    "scaler = StandardScaler()\n",
    "X = scaler.fit_transform(X)\n",
    "X"
   ]
  },
  {
   "cell_type": "code",
   "execution_count": 7,
   "id": "cardiovascular-stanley",
   "metadata": {},
   "outputs": [
    {
     "data": {
      "image/png": "[encoded data removed]",
      "text/plain": [
       "<Figure size 1080x576 with 1 Axes>"
      ]
     },
     "metadata": {
      "needs_background": "light"
     },
     "output_type": "display_data"
    }
   ],
   "source": [
    "# creating an elbow plot to determine the optimal k, number of clusters for the data.\n",
    "\n",
    "inertia_scores = []\n",
    "K = np.arange(3, 20)\n",
    "\n",
    "for k in K:\n",
    "    kmeans = KMeans(n_clusters=k)\n",
    "    kmeans.fit(X)\n",
    "    inertia_scores.append(kmeans.inertia_)\n",
    "    \n",
    "\n",
    "fig, ax = plt.subplots(figsize=(15,8))\n",
    "ax.plot(K, inertia_scores)\n",
    "plt.ylabel('INERTIA', fontsize=13)\n",
    "plt.xlabel('n_clusters (k)', fontsize=13)\n",
    "plt.title('ELBOW PLOT', fontsize=20, color='blue')\n",
    "ax.set_xlim(3, 19)\n",
    "ax.set_xticks(K);"
   ]
  },
  {
   "cell_type": "markdown",
   "id": "choice-daisy",
   "metadata": {},
   "source": [
    "> Although the optimal clusters for the data suggested by the elbow plot seems to fall around 13, we choose to settle for **`5 clusters`**, the reason behind this is to avoid ambiguity in clustering as having too much clusters would mean resources would be pulled for several sections. This would require more labour and different procedures in installing the solar panels at strategic positions. "
   ]
  },
  {
   "cell_type": "markdown",
   "id": "right-standing",
   "metadata": {},
   "source": [
    "# Building the model"
   ]
  },
  {
   "cell_type": "code",
   "execution_count": 8,
   "id": "unique-poetry",
   "metadata": {},
   "outputs": [
    {
     "data": {
      "text/html": [
       "<div>\n",
       "<style scoped>\n",
       "    .dataframe tbody tr th:only-of-type {\n",
       "        vertical-align: middle;\n",
       "    }\n",
       "\n",
       "    .dataframe tbody tr th {\n",
       "        vertical-align: top;\n",
       "    }\n",
       "\n",
       "    .dataframe thead th {\n",
       "        text-align: right;\n",
       "    }\n",
       "</style>\n",
       "<table border=\"1\" class=\"dataframe\">\n",
       "  <thead>\n",
       "    <tr style=\"text-align: right;\">\n",
       "      <th></th>\n",
       "      <th>LGA</th>\n",
       "      <th>Average Nighttime mean</th>\n",
       "      <th>system:index</th>\n",
       "      <th>AREA</th>\n",
       "      <th>STATE</th>\n",
       "      <th>Latitude</th>\n",
       "      <th>Longitude</th>\n",
       "      <th>PERIMETER</th>\n",
       "      <th>Population</th>\n",
       "      <th>population density</th>\n",
       "      <th>clusters</th>\n",
       "    </tr>\n",
       "  </thead>\n",
       "  <tbody>\n",
       "    <tr>\n",
       "      <th>0</th>\n",
       "      <td>Aba North</td>\n",
       "      <td>3.422659</td>\n",
       "      <td>698</td>\n",
       "      <td>18.116</td>\n",
       "      <td>Abia</td>\n",
       "      <td>5.100754</td>\n",
       "      <td>7.359617</td>\n",
       "      <td>31.927</td>\n",
       "      <td>245825.2780</td>\n",
       "      <td>13569.511923</td>\n",
       "      <td>2</td>\n",
       "    </tr>\n",
       "    <tr>\n",
       "      <th>1</th>\n",
       "      <td>Aba South</td>\n",
       "      <td>1.949728</td>\n",
       "      <td>699</td>\n",
       "      <td>51.131</td>\n",
       "      <td>Abia</td>\n",
       "      <td>5.071438</td>\n",
       "      <td>7.341737</td>\n",
       "      <td>29.855</td>\n",
       "      <td>380211.9108</td>\n",
       "      <td>7436.035102</td>\n",
       "      <td>4</td>\n",
       "    </tr>\n",
       "    <tr>\n",
       "      <th>2</th>\n",
       "      <td>Arochukwu</td>\n",
       "      <td>0.089510</td>\n",
       "      <td>656</td>\n",
       "      <td>386.125</td>\n",
       "      <td>Abia</td>\n",
       "      <td>5.498931</td>\n",
       "      <td>7.795863</td>\n",
       "      <td>133.618</td>\n",
       "      <td>146354.5149</td>\n",
       "      <td>379.034030</td>\n",
       "      <td>0</td>\n",
       "    </tr>\n",
       "    <tr>\n",
       "      <th>3</th>\n",
       "      <td>Bende</td>\n",
       "      <td>0.076452</td>\n",
       "      <td>636</td>\n",
       "      <td>603.923</td>\n",
       "      <td>Abia</td>\n",
       "      <td>5.655239</td>\n",
       "      <td>7.588170</td>\n",
       "      <td>141.298</td>\n",
       "      <td>236492.5846</td>\n",
       "      <td>391.593936</td>\n",
       "      <td>0</td>\n",
       "    </tr>\n",
       "    <tr>\n",
       "      <th>4</th>\n",
       "      <td>Ikwuano</td>\n",
       "      <td>0.066905</td>\n",
       "      <td>674</td>\n",
       "      <td>237.941</td>\n",
       "      <td>Abia</td>\n",
       "      <td>5.384024</td>\n",
       "      <td>7.568317</td>\n",
       "      <td>78.189</td>\n",
       "      <td>153494.9633</td>\n",
       "      <td>645.096740</td>\n",
       "      <td>0</td>\n",
       "    </tr>\n",
       "  </tbody>\n",
       "</table>\n",
       "</div>"
      ],
      "text/plain": [
       "         LGA  Average Nighttime mean  system:index     AREA STATE  Latitude  \\\n",
       "0  Aba North                3.422659           698   18.116  Abia  5.100754   \n",
       "1  Aba South                1.949728           699   51.131  Abia  5.071438   \n",
       "2  Arochukwu                0.089510           656  386.125  Abia  5.498931   \n",
       "3      Bende                0.076452           636  603.923  Abia  5.655239   \n",
       "4    Ikwuano                0.066905           674  237.941  Abia  5.384024   \n",
       "\n",
       "   Longitude  PERIMETER   Population  population density  clusters  \n",
       "0   7.359617     31.927  245825.2780        13569.511923         2  \n",
       "1   7.341737     29.855  380211.9108         7436.035102         4  \n",
       "2   7.795863    133.618  146354.5149          379.034030         0  \n",
       "3   7.588170    141.298  236492.5846          391.593936         0  \n",
       "4   7.568317     78.189  153494.9633          645.096740         0  "
      ]
     },
     "execution_count": 8,
     "metadata": {},
     "output_type": "execute_result"
    }
   ],
   "source": [
    "# using 5 clusters to build a KMeans model\n",
    "\n",
    "kmeans = KMeans(n_clusters=5, random_state=42)\n",
    "kmeans.fit(X)\n",
    "labels = kmeans.predict(X)\n",
    "data['clusters'] = labels\n",
    "data.head()"
   ]
  },
  {
   "cell_type": "code",
   "execution_count": 9,
   "id": "convinced-sense",
   "metadata": {},
   "outputs": [
    {
     "data": {
      "text/plain": [
       "(array([[-0.23387389, -0.202038  ],\n",
       "        [ 5.91073544,  0.94918099],\n",
       "        [ 2.51700706,  4.69165976],\n",
       "        [ 5.33641219, 10.22962155],\n",
       "        [ 1.22482153,  0.88387885]]),\n",
       " array([0, 1, 2, 3, 4]))"
      ]
     },
     "execution_count": 9,
     "metadata": {},
     "output_type": "execute_result"
    }
   ],
   "source": [
    "# centroids scaled by the standard scaler and the clusters\n",
    "\n",
    "kmeans.cluster_centers_, np.unique(kmeans.labels_)"
   ]
  },
  {
   "cell_type": "code",
   "execution_count": 10,
   "id": "distributed-missile",
   "metadata": {},
   "outputs": [
    {
     "data": {
      "text/plain": [
       "array([[1.62788842e-01, 4.50477459e+02],\n",
       "       [1.53227186e+01, 3.90989871e+03],\n",
       "       [6.94973979e+00, 1.51560740e+04],\n",
       "       [1.39057530e+01, 3.17976886e+04],\n",
       "       [3.76167024e+00, 3.71366534e+03]])"
      ]
     },
     "execution_count": 10,
     "metadata": {},
     "output_type": "execute_result"
    }
   ],
   "source": [
    "#unscaled centroids\n",
    "\n",
    "scaled_centroids = kmeans.cluster_centers_\n",
    "centroids =scaler.inverse_transform(scaled_centroids)\n",
    "centroids"
   ]
  },
  {
   "cell_type": "code",
   "execution_count": 11,
   "id": "incident-turner",
   "metadata": {},
   "outputs": [
    {
     "data": {
      "image/png": "[encoded data removed]",
      "text/plain": [
       "<Figure size 1080x576 with 1 Axes>"
      ]
     },
     "metadata": {
      "needs_background": "light"
     },
     "output_type": "display_data"
    }
   ],
   "source": [
    "# plot of population density against Average nighttime mean\n",
    "\n",
    "fig, ax = plt.subplots(figsize=(15,8))\n",
    "sns.scatterplot(x='Average Nighttime mean', y='population density',\n",
    "                data=data, hue='clusters', ax=ax, palette=['red', 'blue', 'green', 'black', 'cyan'])\n",
    "ax.scatter(x=centroids[:,0], y=centroids[:,1], c='orange', label='centroids', marker='*', s=150)\n",
    "plt.legend(title='clusters and centroids')\n",
    "ax.set_title('population density against Average nighttime mean'.upper(), fontsize=20, color='blue');"
   ]
  },
  {
   "cell_type": "markdown",
   "id": "empty-message",
   "metadata": {},
   "source": [
    "> From the clusters displayed above, our order of priority would be as follows;\n",
    "\n",
    "* **cluster 0 (red) > cluster 4 (cyan) > cluster 2 (green) > cluster 3 (black) > cluster 1 (blue)**\n",
    "\n",
    "> These clusters generated by the model would be renamed based on how much luminuous intensity they emit.<br>\n",
    "> From least luminuous intensity to the most;\n",
    "\n",
    "* **low intensity, moderately low intensity, medium intensity, moderate high intensity, high intensity**"
   ]
  },
  {
   "cell_type": "code",
   "execution_count": 12,
   "id": "tight-solution",
   "metadata": {},
   "outputs": [
    {
     "name": "stdout",
     "output_type": "stream",
     "text": [
      "The Silhouette score of the model is: 0.8178367023324421\n"
     ]
    }
   ],
   "source": [
    "# using the silhouette score metrics to check for the performance of the model.\n",
    "\n",
    "sil_score = silhouette_score(X, labels)\n",
    "print(f'The Silhouette score of the model is: {sil_score}')"
   ]
  },
  {
   "cell_type": "markdown",
   "id": "precise-times",
   "metadata": {},
   "source": [
    "> Having a score tending towards +1 is very favourable, signifying that the clusters are properly segemented and have no overlapping layers."
   ]
  },
  {
   "cell_type": "code",
   "execution_count": 13,
   "id": "subjective-leadership",
   "metadata": {},
   "outputs": [
    {
     "data": {
      "image/png": "[encoded data removed]",
      "text/plain": [
       "<Figure size 1080x576 with 1 Axes>"
      ]
     },
     "metadata": {
      "needs_background": "light"
     },
     "output_type": "display_data"
    }
   ],
   "source": [
    "# the value counts of the clusters in the data represented in a bar chart\n",
    "\n",
    "data_counts = data['clusters'].value_counts()\n",
    "data_counts.plot(kind='bar', figsize=(15,8), color=['r', 'c', 'g', 'k', 'b'])\n",
    "plt.title('NUMBER OF LGA PER MODEL CLUSTER', fontsize=20)\n",
    "plt.ylabel('Number of LGA', fontsize=13)\n",
    "plt.xlabel('Model Clusters', fontsize=13)\n",
    "plt.xticks(rotation=0, fontsize=12)\n",
    "for x, y in zip(np.arange(len(data_counts)), data_counts[:]):\n",
    "    plt.text(x, y, str(y)+\" LGA's\" ,fontsize=14, ha='center', va='bottom');"
   ]
  },
  {
   "cell_type": "markdown",
   "id": "experienced-arthritis",
   "metadata": {},
   "source": [
    "# Labelling the clusters with appropriate names"
   ]
  },
  {
   "cell_type": "code",
   "execution_count": 14,
   "id": "related-drinking",
   "metadata": {},
   "outputs": [
    {
     "data": {
      "text/html": [
       "<div>\n",
       "<style scoped>\n",
       "    .dataframe tbody tr th:only-of-type {\n",
       "        vertical-align: middle;\n",
       "    }\n",
       "\n",
       "    .dataframe tbody tr th {\n",
       "        vertical-align: top;\n",
       "    }\n",
       "\n",
       "    .dataframe thead th {\n",
       "        text-align: right;\n",
       "    }\n",
       "</style>\n",
       "<table border=\"1\" class=\"dataframe\">\n",
       "  <thead>\n",
       "    <tr style=\"text-align: right;\">\n",
       "      <th></th>\n",
       "      <th>LGA</th>\n",
       "      <th>Average Nighttime mean</th>\n",
       "      <th>system:index</th>\n",
       "      <th>AREA</th>\n",
       "      <th>STATE</th>\n",
       "      <th>Latitude</th>\n",
       "      <th>Longitude</th>\n",
       "      <th>PERIMETER</th>\n",
       "      <th>Population</th>\n",
       "      <th>population density</th>\n",
       "      <th>clusters</th>\n",
       "    </tr>\n",
       "  </thead>\n",
       "  <tbody>\n",
       "    <tr>\n",
       "      <th>0</th>\n",
       "      <td>Aba North</td>\n",
       "      <td>3.422659</td>\n",
       "      <td>698</td>\n",
       "      <td>18.116</td>\n",
       "      <td>Abia</td>\n",
       "      <td>5.100754</td>\n",
       "      <td>7.359617</td>\n",
       "      <td>31.927</td>\n",
       "      <td>245825.2780</td>\n",
       "      <td>13569.511923</td>\n",
       "      <td>2</td>\n",
       "    </tr>\n",
       "    <tr>\n",
       "      <th>1</th>\n",
       "      <td>Aba South</td>\n",
       "      <td>1.949728</td>\n",
       "      <td>699</td>\n",
       "      <td>51.131</td>\n",
       "      <td>Abia</td>\n",
       "      <td>5.071438</td>\n",
       "      <td>7.341737</td>\n",
       "      <td>29.855</td>\n",
       "      <td>380211.9108</td>\n",
       "      <td>7436.035102</td>\n",
       "      <td>4</td>\n",
       "    </tr>\n",
       "    <tr>\n",
       "      <th>2</th>\n",
       "      <td>Arochukwu</td>\n",
       "      <td>0.089510</td>\n",
       "      <td>656</td>\n",
       "      <td>386.125</td>\n",
       "      <td>Abia</td>\n",
       "      <td>5.498931</td>\n",
       "      <td>7.795863</td>\n",
       "      <td>133.618</td>\n",
       "      <td>146354.5149</td>\n",
       "      <td>379.034030</td>\n",
       "      <td>0</td>\n",
       "    </tr>\n",
       "    <tr>\n",
       "      <th>3</th>\n",
       "      <td>Bende</td>\n",
       "      <td>0.076452</td>\n",
       "      <td>636</td>\n",
       "      <td>603.923</td>\n",
       "      <td>Abia</td>\n",
       "      <td>5.655239</td>\n",
       "      <td>7.588170</td>\n",
       "      <td>141.298</td>\n",
       "      <td>236492.5846</td>\n",
       "      <td>391.593936</td>\n",
       "      <td>0</td>\n",
       "    </tr>\n",
       "    <tr>\n",
       "      <th>4</th>\n",
       "      <td>Ikwuano</td>\n",
       "      <td>0.066905</td>\n",
       "      <td>674</td>\n",
       "      <td>237.941</td>\n",
       "      <td>Abia</td>\n",
       "      <td>5.384024</td>\n",
       "      <td>7.568317</td>\n",
       "      <td>78.189</td>\n",
       "      <td>153494.9633</td>\n",
       "      <td>645.096740</td>\n",
       "      <td>0</td>\n",
       "    </tr>\n",
       "  </tbody>\n",
       "</table>\n",
       "</div>"
      ],
      "text/plain": [
       "         LGA  Average Nighttime mean  system:index     AREA STATE  Latitude  \\\n",
       "0  Aba North                3.422659           698   18.116  Abia  5.100754   \n",
       "1  Aba South                1.949728           699   51.131  Abia  5.071438   \n",
       "2  Arochukwu                0.089510           656  386.125  Abia  5.498931   \n",
       "3      Bende                0.076452           636  603.923  Abia  5.655239   \n",
       "4    Ikwuano                0.066905           674  237.941  Abia  5.384024   \n",
       "\n",
       "   Longitude  PERIMETER   Population  population density  clusters  \n",
       "0   7.359617     31.927  245825.2780        13569.511923         2  \n",
       "1   7.341737     29.855  380211.9108         7436.035102         4  \n",
       "2   7.795863    133.618  146354.5149          379.034030         0  \n",
       "3   7.588170    141.298  236492.5846          391.593936         0  \n",
       "4   7.568317     78.189  153494.9633          645.096740         0  "
      ]
     },
     "execution_count": 14,
     "metadata": {},
     "output_type": "execute_result"
    }
   ],
   "source": [
    "data.head()"
   ]
  },
  {
   "cell_type": "code",
   "execution_count": 15,
   "id": "norman-luther",
   "metadata": {},
   "outputs": [],
   "source": [
    "# creating a NightClass function to return the labels of the clusters\n",
    "\n",
    "class_labels = ['low_intensity', 'moderately_low_intensity', 'medium_intensity', 'moderate_high_intensity', 'high_intensity']\n",
    "\n",
    "def NightClass(cluster):\n",
    "    \"\"\"\n",
    "    This function takes an integer cluster as argument and returns its appropraite name \n",
    "    showen in the class_labels list above.\n",
    "    \"\"\"\n",
    "    cluster = int(cluster)\n",
    "    if cluster == 0:\n",
    "        return class_labels[0]\n",
    "    elif cluster == 1:\n",
    "        return class_labels[-1]\n",
    "    elif cluster == 2:\n",
    "        return class_labels[2]\n",
    "    elif cluster == 3:\n",
    "        return class_labels[3]\n",
    "    elif cluster == 4:\n",
    "        return class_labels[-4]\n",
    "    else:\n",
    "        return None"
   ]
  },
  {
   "cell_type": "markdown",
   "id": "revolutionary-kingston",
   "metadata": {},
   "source": [
    "> The `NightClass` function is responsible for mapping the model's clusters to suite our labels. The mapping follows the table below;\n",
    "\n",
    "| Model Clusters     | Cluster Labels  |\n",
    "|--------------------|-----------------|\n",
    "|  0                 | low_intensity   |\n",
    "|  4                 | moderately_low_intensity |\n",
    "|  2                 | medium_intensity|\n",
    "|  3                 | moderate_high_intensity  |\n",
    "|  1                 | high_intensity  |"
   ]
  },
  {
   "cell_type": "code",
   "execution_count": 16,
   "id": "elementary-stations",
   "metadata": {},
   "outputs": [
    {
     "data": {
      "text/html": [
       "<div>\n",
       "<style scoped>\n",
       "    .dataframe tbody tr th:only-of-type {\n",
       "        vertical-align: middle;\n",
       "    }\n",
       "\n",
       "    .dataframe tbody tr th {\n",
       "        vertical-align: top;\n",
       "    }\n",
       "\n",
       "    .dataframe thead th {\n",
       "        text-align: right;\n",
       "    }\n",
       "</style>\n",
       "<table border=\"1\" class=\"dataframe\">\n",
       "  <thead>\n",
       "    <tr style=\"text-align: right;\">\n",
       "      <th></th>\n",
       "      <th>LGA</th>\n",
       "      <th>Average Nighttime mean</th>\n",
       "      <th>system:index</th>\n",
       "      <th>AREA</th>\n",
       "      <th>STATE</th>\n",
       "      <th>Latitude</th>\n",
       "      <th>Longitude</th>\n",
       "      <th>PERIMETER</th>\n",
       "      <th>Population</th>\n",
       "      <th>population density</th>\n",
       "      <th>clusters</th>\n",
       "      <th>cluster labels</th>\n",
       "    </tr>\n",
       "  </thead>\n",
       "  <tbody>\n",
       "    <tr>\n",
       "      <th>0</th>\n",
       "      <td>Aba North</td>\n",
       "      <td>3.422659</td>\n",
       "      <td>698</td>\n",
       "      <td>18.116</td>\n",
       "      <td>Abia</td>\n",
       "      <td>5.100754</td>\n",
       "      <td>7.359617</td>\n",
       "      <td>31.927</td>\n",
       "      <td>245825.2780</td>\n",
       "      <td>13569.511923</td>\n",
       "      <td>2</td>\n",
       "      <td>medium_intensity</td>\n",
       "    </tr>\n",
       "    <tr>\n",
       "      <th>1</th>\n",
       "      <td>Aba South</td>\n",
       "      <td>1.949728</td>\n",
       "      <td>699</td>\n",
       "      <td>51.131</td>\n",
       "      <td>Abia</td>\n",
       "      <td>5.071438</td>\n",
       "      <td>7.341737</td>\n",
       "      <td>29.855</td>\n",
       "      <td>380211.9108</td>\n",
       "      <td>7436.035102</td>\n",
       "      <td>4</td>\n",
       "      <td>moderately_low_intensity</td>\n",
       "    </tr>\n",
       "    <tr>\n",
       "      <th>2</th>\n",
       "      <td>Arochukwu</td>\n",
       "      <td>0.089510</td>\n",
       "      <td>656</td>\n",
       "      <td>386.125</td>\n",
       "      <td>Abia</td>\n",
       "      <td>5.498931</td>\n",
       "      <td>7.795863</td>\n",
       "      <td>133.618</td>\n",
       "      <td>146354.5149</td>\n",
       "      <td>379.034030</td>\n",
       "      <td>0</td>\n",
       "      <td>low_intensity</td>\n",
       "    </tr>\n",
       "    <tr>\n",
       "      <th>3</th>\n",
       "      <td>Bende</td>\n",
       "      <td>0.076452</td>\n",
       "      <td>636</td>\n",
       "      <td>603.923</td>\n",
       "      <td>Abia</td>\n",
       "      <td>5.655239</td>\n",
       "      <td>7.588170</td>\n",
       "      <td>141.298</td>\n",
       "      <td>236492.5846</td>\n",
       "      <td>391.593936</td>\n",
       "      <td>0</td>\n",
       "      <td>low_intensity</td>\n",
       "    </tr>\n",
       "    <tr>\n",
       "      <th>4</th>\n",
       "      <td>Ikwuano</td>\n",
       "      <td>0.066905</td>\n",
       "      <td>674</td>\n",
       "      <td>237.941</td>\n",
       "      <td>Abia</td>\n",
       "      <td>5.384024</td>\n",
       "      <td>7.568317</td>\n",
       "      <td>78.189</td>\n",
       "      <td>153494.9633</td>\n",
       "      <td>645.096740</td>\n",
       "      <td>0</td>\n",
       "      <td>low_intensity</td>\n",
       "    </tr>\n",
       "  </tbody>\n",
       "</table>\n",
       "</div>"
      ],
      "text/plain": [
       "         LGA  Average Nighttime mean  system:index     AREA STATE  Latitude  \\\n",
       "0  Aba North                3.422659           698   18.116  Abia  5.100754   \n",
       "1  Aba South                1.949728           699   51.131  Abia  5.071438   \n",
       "2  Arochukwu                0.089510           656  386.125  Abia  5.498931   \n",
       "3      Bende                0.076452           636  603.923  Abia  5.655239   \n",
       "4    Ikwuano                0.066905           674  237.941  Abia  5.384024   \n",
       "\n",
       "   Longitude  PERIMETER   Population  population density  clusters  \\\n",
       "0   7.359617     31.927  245825.2780        13569.511923         2   \n",
       "1   7.341737     29.855  380211.9108         7436.035102         4   \n",
       "2   7.795863    133.618  146354.5149          379.034030         0   \n",
       "3   7.588170    141.298  236492.5846          391.593936         0   \n",
       "4   7.568317     78.189  153494.9633          645.096740         0   \n",
       "\n",
       "             cluster labels  \n",
       "0          medium_intensity  \n",
       "1  moderately_low_intensity  \n",
       "2             low_intensity  \n",
       "3             low_intensity  \n",
       "4             low_intensity  "
      ]
     },
     "execution_count": 16,
     "metadata": {},
     "output_type": "execute_result"
    }
   ],
   "source": [
    "data['cluster labels'] = data['clusters'].apply(NightClass)\n",
    "data.head()"
   ]
  },
  {
   "cell_type": "code",
   "execution_count": 17,
   "id": "amazing-mongolia",
   "metadata": {},
   "outputs": [
    {
     "data": {
      "image/png": "[encoded data removed]",
      "text/plain": [
       "<Figure size 1080x576 with 1 Axes>"
      ]
     },
     "metadata": {
      "needs_background": "light"
     },
     "output_type": "display_data"
    }
   ],
   "source": [
    "# plot of population density against Average nighttime mean for labelled clusters\n",
    "\n",
    "fig, ax = plt.subplots(figsize=(15,8))\n",
    "sns.scatterplot(x='Average Nighttime mean', y='population density', \n",
    "                data=data[data['cluster labels']=='low_intensity'], color='r', label='low_intensity', ax=ax)\n",
    "sns.scatterplot(x='Average Nighttime mean', y='population density', \n",
    "                data=data[data['cluster labels']=='moderately_low_intensity'], \n",
    "                label='moderately_low_intensity', color='c', ax=ax)\n",
    "sns.scatterplot(x='Average Nighttime mean', y='population density', \n",
    "                data=data[data['cluster labels']=='medium_intensity'], label='medium_intensity', color='g', ax=ax)\n",
    "sns.scatterplot(x='Average Nighttime mean', y='population density', \n",
    "                data=data[data['cluster labels']=='moderate_high_intensity'], \n",
    "                label='moderate_high_intensity', color='k', ax=ax)\n",
    "sns.scatterplot(x='Average Nighttime mean', y='population density', \n",
    "                data=data[data['cluster labels']=='high_intensity'], label='high_intensity', color='b', ax=ax)\n",
    "\n",
    "plt.legend(title='Cluster Labels', fontsize=10)\n",
    "ax.set_title('population density against Average nighttime mean'.upper(), fontsize=20, color='blue');"
   ]
  },
  {
   "cell_type": "markdown",
   "id": "standing-villa",
   "metadata": {},
   "source": [
    "> Areas of top most priority are listed in order from top to bottom;\n",
    "\n",
    "* low_intensity\n",
    "* moderately_low_intensity\n",
    "* medium_intensity\n",
    "* moderate_high_intensity\n",
    "* high_intensity"
   ]
  },
  {
   "cell_type": "code",
   "execution_count": 18,
   "id": "final-female",
   "metadata": {},
   "outputs": [
    {
     "data": {
      "image/png": "[encoded data removed]",
      "text/plain": [
       "<Figure size 1080x576 with 1 Axes>"
      ]
     },
     "metadata": {
      "needs_background": "light"
     },
     "output_type": "display_data"
    }
   ],
   "source": [
    "# the value counts of the clusters with their appropraite labels in the data represented in a bar chart\n",
    "\n",
    "data_counts = data['cluster labels'].value_counts()\n",
    "data_counts.plot(kind='bar', figsize=(15,8), color=['r', 'c', 'g', 'k', 'b'])\n",
    "plt.title('NUMBER OF LGA PER LABELLED CLUSTER', fontsize=20)\n",
    "plt.ylabel('Number of LGA', fontsize=13)\n",
    "plt.xlabel('Labelled Clusters', fontsize=13)\n",
    "plt.xticks(rotation=0, fontsize=12)\n",
    "for x, y in zip(np.arange(len(data_counts)), data_counts[:]):\n",
    "    plt.text(x, y, str(y)+\" LGA's\" ,fontsize=14, ha='center', va='bottom');"
   ]
  },
  {
   "cell_type": "markdown",
   "id": "opponent-command",
   "metadata": {},
   "source": [
    "# Saving files to csv"
   ]
  },
  {
   "cell_type": "code",
   "execution_count": 19,
   "id": "prospective-tragedy",
   "metadata": {},
   "outputs": [],
   "source": [
    "# using the .to_csv method, the data is saved under the file name 'Nighttime Clusters.csv'\n",
    "\n",
    "data.to_csv('Nighttime Clusters.csv')"
   ]
  },
  {
   "cell_type": "code",
   "execution_count": 20,
   "id": "particular-dividend",
   "metadata": {
    "scrolled": true
   },
   "outputs": [
    {
     "data": {
      "text/plain": [
       "['low_intensity',\n",
       " 'moderately_low_intensity',\n",
       " 'medium_intensity',\n",
       " 'moderate_high_intensity',\n",
       " 'high_intensity']"
      ]
     },
     "execution_count": 20,
     "metadata": {},
     "output_type": "execute_result"
    }
   ],
   "source": [
    "class_labels"
   ]
  },
  {
   "cell_type": "code",
   "execution_count": 21,
   "id": "elect-russian",
   "metadata": {},
   "outputs": [],
   "source": [
    "# partitioning each cluster into its own csv file for ease in visualization and analysis.\n",
    "\n",
    "for label in class_labels:\n",
    "    df = data.loc[data['cluster labels']==label]\n",
    "    df.to_csv(label+'.csv')"
   ]
  },
  {
   "cell_type": "code",
   "execution_count": null,
   "id": "expected-lunch",
   "metadata": {},
   "outputs": [],
   "source": []
  }
 ],
 "metadata": {
  "kernelspec": {
   "display_name": "Python 3",
   "language": "python",
   "name": "python3"
  },
  "language_info": {
   "codemirror_mode": {
    "name": "ipython",
    "version": 3
   },
   "file_extension": ".py",
   "mimetype": "text/x-python",
   "name": "python",
   "nbconvert_exporter": "python",
   "pygments_lexer": "ipython3",
   "version": "3.9.2"
  }
 },
 "nbformat": 4,
 "nbformat_minor": 5
}
