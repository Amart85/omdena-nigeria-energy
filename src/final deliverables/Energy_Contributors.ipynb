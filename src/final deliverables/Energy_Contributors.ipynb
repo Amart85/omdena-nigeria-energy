{
  "nbformat": 4,
  "nbformat_minor": 5,
  "metadata": {
    "kernelspec": {
      "display_name": "Python 3",
      "language": "python",
      "name": "python3"
    },
    "language_info": {
      "codemirror_mode": {
        "name": "ipython",
        "version": 3
      },
      "file_extension": ".py",
      "mimetype": "text/x-python",
      "name": "python",
      "nbconvert_exporter": "python",
      "pygments_lexer": "ipython3",
      "version": "3.8.8"
    },
    "colab": {
      "name": "Energy Contributors.ipynb",
      "provenance": [],
      "collapsed_sections": []
    }
  },
  "cells": [
    {
      "cell_type": "markdown",
      "metadata": {
        "id": "824a5a7d"
      },
      "source": [
        "| Name | LinkedIn | Contribution |\n",
        "| :- | -: | :-: |\n",
        "| Opeyemi Adeniran| https://www.linkedin.com/in/opeyemi-taiwo-adeniran/ Chapter Lead\n",
        "| Edidiong Esu| https://www.linkedin.com/in/edidiong-esu-1942a2129/ | Task Lead Night time data; Carried out Tutorials on using Google Earth Engine\n",
        "|Kenneth Imade| https://www.linkedin.com/in/kenneth-imade/ | Task Lead Data Processing, Involved in the Gathering and Cleaning of datasets; Carried out Tutorials on using BeautifulSoup\n",
        "|Oluwadewalade Ade-Onojobi| https://www.linkedin.com/in/dewalade/ | Involved in the Gathering, Cleaning and Processing of datasets\n",
        "|Lukman Ismalia| https://www.linkedin.com/in/ismailukmanenegi/ | Involved in the Data Gathering and Data Modelling\n",
        "|Fauwzziyyah Umar| https://www.linkedin.com/in/fauzziyyah-ozohu-umar | Task Lead Data Visualization, Involved in Data Gathering\n",
        "|Adedoyin Ajeyomi| https://www.linkedin.com/in/adedoyin-samuel-ajeyomi-83b80914b | Involved in Data gathering and Visualization\n",
        "|Babatunde Ayanlowo| https://www.linkedin.com/in/ayanlola2002 | Task Lead, Data gathering. Involved in Data Cleaning\n",
        "|Osagie Eboigbe| https://www.linkedin.com/in/osagie-eboigbe-52b84794/ | Involved in Data Visualization\n",
        "|Samuel Ayo| https://www.linkedin.com/in/sam-ayo | Involved in extractioin of Night time data\n",
        "|Ojeifo Oziegbe| https://linkedin.com/in/ojeifo-oziegbe-516560146 | Involved in \n",
        "|Emmanuel Salako| https://www.linkedin.com/in/adekunle-salako-59b6801b1/ | Involved inData Gathering\n",
        "|Emmanuel Nnaemeka| https://www.linkedin.com/in/emmanuel-nnaemeka-2b8378199/ | Involved in Data Modelling\n",
        "|David Obembe| https://www.linkedin.com/in/david-obembe-7b1636174 | Involved in Data Modelling\n",
        "|Aderinsola Kola-Adepoyigi| https://www.linkedin.com/in/aderinsola-pj-kola-adepoyigi-733510109/ | Involved in Data Processing\n",
        "|Areago Adedayo| https://www.linkedin.com/in/adedayo-areago-2a6a94183/ | Involved in Data Gathering"
      ],
      "id": "824a5a7d"
    }
  ]
}