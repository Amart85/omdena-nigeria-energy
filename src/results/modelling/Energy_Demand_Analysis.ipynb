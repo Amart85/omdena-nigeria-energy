{
  "nbformat": 4,
  "nbformat_minor": 5,
  "metadata": {
    "kernelspec": {
      "display_name": "Python 3",
      "language": "python",
      "name": "python3"
    },
    "language_info": {
      "codemirror_mode": {
        "name": "ipython",
        "version": 3
      },
      "file_extension": ".py",
      "mimetype": "text/x-python",
      "name": "python",
      "nbconvert_exporter": "python",
      "pygments_lexer": "ipython3",
      "version": "3.7.3"
    },
    "colab": {
      "name": "Energy Demand Analysis.ipynb",
      "provenance": []
    }
  },
  "cells": [
    {
      "cell_type": "code",
      "metadata": {
        "id": "50afc326"
      },
      "source": [
        "import numpy as np\n",
        "import pandas as pd\n",
        "from google.colab import drive"
      ],
      "id": "50afc326",
      "execution_count": 1,
      "outputs": []
    },
    {
      "cell_type": "code",
      "metadata": {
        "colab": {
          "base_uri": "https://localhost:8080/"
        },
        "id": "7zwO_qMgrf8T",
        "outputId": "21a10dfa-7dda-4c58-ed6a-5587e0dab218"
      },
      "source": [
        "drive.mount('/content/drive')"
      ],
      "id": "7zwO_qMgrf8T",
      "execution_count": 2,
      "outputs": [
        {
          "output_type": "stream",
          "text": [
            "Drive already mounted at /content/drive; to attempt to forcibly remount, call drive.mount(\"/content/drive\", force_remount=True).\n"
          ],
          "name": "stdout"
        }
      ]
    },
    {
      "cell_type": "markdown",
      "metadata": {
        "id": "248IXxhTrQF3"
      },
      "source": [
        ""
      ],
      "id": "248IXxhTrQF3"
    },
    {
      "cell_type": "code",
      "metadata": {
        "id": "8b50fb83"
      },
      "source": [
        "df = pd.read_excel('/content/drive/MyDrive/Nighttime_and_population_data.xlsx')"
      ],
      "id": "8b50fb83",
      "execution_count": 3,
      "outputs": []
    },
    {
      "cell_type": "code",
      "metadata": {
        "colab": {
          "base_uri": "https://localhost:8080/",
          "height": 202
        },
        "id": "3d727055",
        "outputId": "532eaef8-0728-404e-8e96-b781017c9346"
      },
      "source": [
        "df.head()"
      ],
      "id": "3d727055",
      "execution_count": 4,
      "outputs": [
        {
          "output_type": "execute_result",
          "data": {
            "text/html": [
              "<div>\n",
              "<style scoped>\n",
              "    .dataframe tbody tr th:only-of-type {\n",
              "        vertical-align: middle;\n",
              "    }\n",
              "\n",
              "    .dataframe tbody tr th {\n",
              "        vertical-align: top;\n",
              "    }\n",
              "\n",
              "    .dataframe thead th {\n",
              "        text-align: right;\n",
              "    }\n",
              "</style>\n",
              "<table border=\"1\" class=\"dataframe\">\n",
              "  <thead>\n",
              "    <tr style=\"text-align: right;\">\n",
              "      <th></th>\n",
              "      <th>LGA</th>\n",
              "      <th>Average Nighttime mean</th>\n",
              "      <th>system:index</th>\n",
              "      <th>AREA</th>\n",
              "      <th>STATE</th>\n",
              "      <th>Latitude</th>\n",
              "      <th>Longitude</th>\n",
              "      <th>PERIMETER</th>\n",
              "      <th>Population</th>\n",
              "    </tr>\n",
              "  </thead>\n",
              "  <tbody>\n",
              "    <tr>\n",
              "      <th>0</th>\n",
              "      <td>Aba North</td>\n",
              "      <td>3.422659</td>\n",
              "      <td>698</td>\n",
              "      <td>18.116</td>\n",
              "      <td>Abia</td>\n",
              "      <td>5.100754</td>\n",
              "      <td>7.359617</td>\n",
              "      <td>31.927</td>\n",
              "      <td>245825.2780</td>\n",
              "    </tr>\n",
              "    <tr>\n",
              "      <th>1</th>\n",
              "      <td>Aba South</td>\n",
              "      <td>1.949728</td>\n",
              "      <td>699</td>\n",
              "      <td>51.131</td>\n",
              "      <td>Abia</td>\n",
              "      <td>5.071438</td>\n",
              "      <td>7.341737</td>\n",
              "      <td>29.855</td>\n",
              "      <td>380211.9108</td>\n",
              "    </tr>\n",
              "    <tr>\n",
              "      <th>2</th>\n",
              "      <td>Arochukwu</td>\n",
              "      <td>0.089510</td>\n",
              "      <td>656</td>\n",
              "      <td>386.125</td>\n",
              "      <td>Abia</td>\n",
              "      <td>5.498931</td>\n",
              "      <td>7.795863</td>\n",
              "      <td>133.618</td>\n",
              "      <td>146354.5149</td>\n",
              "    </tr>\n",
              "    <tr>\n",
              "      <th>3</th>\n",
              "      <td>Bende</td>\n",
              "      <td>0.076452</td>\n",
              "      <td>636</td>\n",
              "      <td>603.923</td>\n",
              "      <td>Abia</td>\n",
              "      <td>5.655239</td>\n",
              "      <td>7.588170</td>\n",
              "      <td>141.298</td>\n",
              "      <td>236492.5846</td>\n",
              "    </tr>\n",
              "    <tr>\n",
              "      <th>4</th>\n",
              "      <td>Ikwuano</td>\n",
              "      <td>0.066905</td>\n",
              "      <td>674</td>\n",
              "      <td>237.941</td>\n",
              "      <td>Abia</td>\n",
              "      <td>5.384024</td>\n",
              "      <td>7.568317</td>\n",
              "      <td>78.189</td>\n",
              "      <td>153494.9633</td>\n",
              "    </tr>\n",
              "  </tbody>\n",
              "</table>\n",
              "</div>"
            ],
            "text/plain": [
              "         LGA  Average Nighttime mean  ...  PERIMETER   Population\n",
              "0  Aba North                3.422659  ...     31.927  245825.2780\n",
              "1  Aba South                1.949728  ...     29.855  380211.9108\n",
              "2  Arochukwu                0.089510  ...    133.618  146354.5149\n",
              "3      Bende                0.076452  ...    141.298  236492.5846\n",
              "4    Ikwuano                0.066905  ...     78.189  153494.9633\n",
              "\n",
              "[5 rows x 9 columns]"
            ]
          },
          "metadata": {
            "tags": []
          },
          "execution_count": 4
        }
      ]
    },
    {
      "cell_type": "code",
      "metadata": {
        "colab": {
          "base_uri": "https://localhost:8080/",
          "height": 294
        },
        "id": "d304743b",
        "outputId": "b667bfdd-599b-4301-d2b1-6f6a90fcdae5"
      },
      "source": [
        "df.describe()"
      ],
      "id": "d304743b",
      "execution_count": 5,
      "outputs": [
        {
          "output_type": "execute_result",
          "data": {
            "text/html": [
              "<div>\n",
              "<style scoped>\n",
              "    .dataframe tbody tr th:only-of-type {\n",
              "        vertical-align: middle;\n",
              "    }\n",
              "\n",
              "    .dataframe tbody tr th {\n",
              "        vertical-align: top;\n",
              "    }\n",
              "\n",
              "    .dataframe thead th {\n",
              "        text-align: right;\n",
              "    }\n",
              "</style>\n",
              "<table border=\"1\" class=\"dataframe\">\n",
              "  <thead>\n",
              "    <tr style=\"text-align: right;\">\n",
              "      <th></th>\n",
              "      <th>Average Nighttime mean</th>\n",
              "      <th>system:index</th>\n",
              "      <th>AREA</th>\n",
              "      <th>Latitude</th>\n",
              "      <th>Longitude</th>\n",
              "      <th>PERIMETER</th>\n",
              "      <th>Population</th>\n",
              "    </tr>\n",
              "  </thead>\n",
              "  <tbody>\n",
              "    <tr>\n",
              "      <th>count</th>\n",
              "      <td>774.000000</td>\n",
              "      <td>774.000000</td>\n",
              "      <td>774.000000</td>\n",
              "      <td>774.000000</td>\n",
              "      <td>774.000000</td>\n",
              "      <td>774.000000</td>\n",
              "      <td>7.740000e+02</td>\n",
              "    </tr>\n",
              "    <tr>\n",
              "      <th>mean</th>\n",
              "      <td>0.739801</td>\n",
              "      <td>387.494832</td>\n",
              "      <td>1173.072955</td>\n",
              "      <td>8.651160</td>\n",
              "      <td>7.362809</td>\n",
              "      <td>151.709443</td>\n",
              "      <td>2.329035e+05</td>\n",
              "    </tr>\n",
              "    <tr>\n",
              "      <th>std</th>\n",
              "      <td>2.468787</td>\n",
              "      <td>223.587767</td>\n",
              "      <td>1419.020617</td>\n",
              "      <td>2.648851</td>\n",
              "      <td>2.460057</td>\n",
              "      <td>95.130596</td>\n",
              "      <td>2.061493e+05</td>\n",
              "    </tr>\n",
              "    <tr>\n",
              "      <th>min</th>\n",
              "      <td>-0.031743</td>\n",
              "      <td>0.000000</td>\n",
              "      <td>11.645000</td>\n",
              "      <td>4.457937</td>\n",
              "      <td>2.800247</td>\n",
              "      <td>13.097000</td>\n",
              "      <td>3.459978e+03</td>\n",
              "    </tr>\n",
              "    <tr>\n",
              "      <th>25%</th>\n",
              "      <td>0.006954</td>\n",
              "      <td>194.250000</td>\n",
              "      <td>287.411750</td>\n",
              "      <td>6.469302</td>\n",
              "      <td>5.524614</td>\n",
              "      <td>82.488250</td>\n",
              "      <td>1.149685e+05</td>\n",
              "    </tr>\n",
              "    <tr>\n",
              "      <th>50%</th>\n",
              "      <td>0.044481</td>\n",
              "      <td>387.500000</td>\n",
              "      <td>691.699500</td>\n",
              "      <td>8.003153</td>\n",
              "      <td>7.307865</td>\n",
              "      <td>130.497500</td>\n",
              "      <td>1.902539e+05</td>\n",
              "    </tr>\n",
              "    <tr>\n",
              "      <th>75%</th>\n",
              "      <td>0.224103</td>\n",
              "      <td>580.750000</td>\n",
              "      <td>1519.811000</td>\n",
              "      <td>11.373730</td>\n",
              "      <td>8.556582</td>\n",
              "      <td>202.914750</td>\n",
              "      <td>2.844820e+05</td>\n",
              "    </tr>\n",
              "    <tr>\n",
              "      <th>max</th>\n",
              "      <td>28.572277</td>\n",
              "      <td>774.000000</td>\n",
              "      <td>10357.668000</td>\n",
              "      <td>13.686694</td>\n",
              "      <td>14.525843</td>\n",
              "      <td>582.572000</td>\n",
              "      <td>2.181858e+06</td>\n",
              "    </tr>\n",
              "  </tbody>\n",
              "</table>\n",
              "</div>"
            ],
            "text/plain": [
              "       Average Nighttime mean  system:index  ...   PERIMETER    Population\n",
              "count              774.000000    774.000000  ...  774.000000  7.740000e+02\n",
              "mean                 0.739801    387.494832  ...  151.709443  2.329035e+05\n",
              "std                  2.468787    223.587767  ...   95.130596  2.061493e+05\n",
              "min                 -0.031743      0.000000  ...   13.097000  3.459978e+03\n",
              "25%                  0.006954    194.250000  ...   82.488250  1.149685e+05\n",
              "50%                  0.044481    387.500000  ...  130.497500  1.902539e+05\n",
              "75%                  0.224103    580.750000  ...  202.914750  2.844820e+05\n",
              "max                 28.572277    774.000000  ...  582.572000  2.181858e+06\n",
              "\n",
              "[8 rows x 7 columns]"
            ]
          },
          "metadata": {
            "tags": []
          },
          "execution_count": 5
        }
      ]
    },
    {
      "cell_type": "code",
      "metadata": {
        "colab": {
          "base_uri": "https://localhost:8080/"
        },
        "id": "a0b1f706",
        "outputId": "110da04c-91a1-49db-f05f-defb9fc26da1"
      },
      "source": [
        "#check for number of negative values\n",
        "df[df['Average Nighttime mean'] < 0].count()\n",
        "\n",
        "#too many negative values although close to zero, so I left as is"
      ],
      "id": "a0b1f706",
      "execution_count": 6,
      "outputs": [
        {
          "output_type": "execute_result",
          "data": {
            "text/plain": [
              "LGA                       116\n",
              "Average Nighttime mean    116\n",
              "system:index              116\n",
              "AREA                      116\n",
              "STATE                     116\n",
              "Latitude                  116\n",
              "Longitude                 116\n",
              "PERIMETER                 116\n",
              "Population                116\n",
              "dtype: int64"
            ]
          },
          "metadata": {
            "tags": []
          },
          "execution_count": 6
        }
      ]
    },
    {
      "cell_type": "code",
      "metadata": {
        "id": "0b75a153"
      },
      "source": [
        "import matplotlib.pyplot as plt\n",
        "import seaborn as sns"
      ],
      "id": "0b75a153",
      "execution_count": 7,
      "outputs": []
    },
    {
      "cell_type": "code",
      "metadata": {
        "colab": {
          "base_uri": "https://localhost:8080/",
          "height": 296
        },
        "id": "615bbff7",
        "outputId": "c3a73d10-bd7f-438e-df61-60a308c518f3"
      },
      "source": [
        "#visualize the distribution of the nighttime column\n",
        "sns.histplot(df['Average Nighttime mean'])"
      ],
      "id": "615bbff7",
      "execution_count": 8,
      "outputs": [
        {
          "output_type": "execute_result",
          "data": {
            "text/plain": [
              "<matplotlib.axes._subplots.AxesSubplot at 0x7f4d3e015c10>"
            ]
          },
          "metadata": {
            "tags": []
          },
          "execution_count": 8
        },
        {
          "output_type": "display_data",
          "data": {
            "image/png": "[encoded data removed]",
            "text/plain": [
              "<Figure size 432x288 with 1 Axes>"
            ]
          },
          "metadata": {
            "tags": [],
            "needs_background": "light"
          }
        }
      ]
    },
    {
      "cell_type": "code",
      "metadata": {
        "scrolled": true,
        "colab": {
          "base_uri": "https://localhost:8080/",
          "height": 296
        },
        "id": "d7c6e0b1",
        "outputId": "632ca85f-8675-4a03-94a2-7ebe96c63cc6"
      },
      "source": [
        "#visualize the distribution of the population\n",
        "sns.histplot(df['Population'])"
      ],
      "id": "d7c6e0b1",
      "execution_count": 9,
      "outputs": [
        {
          "output_type": "execute_result",
          "data": {
            "text/plain": [
              "<matplotlib.axes._subplots.AxesSubplot at 0x7f4d3d8a8d90>"
            ]
          },
          "metadata": {
            "tags": []
          },
          "execution_count": 9
        },
        {
          "output_type": "display_data",
          "data": {
            "image/png": "[encoded data removed]",
            "text/plain": [
              "<Figure size 432x288 with 1 Axes>"
            ]
          },
          "metadata": {
            "tags": [],
            "needs_background": "light"
          }
        }
      ]
    },
    {
      "cell_type": "code",
      "metadata": {
        "id": "578f97cc"
      },
      "source": [
        "#create a column called population density. To metric to indicate how populated an area is\n",
        "df['Population Density'] = df['Population'] / df['AREA']"
      ],
      "id": "578f97cc",
      "execution_count": 10,
      "outputs": []
    },
    {
      "cell_type": "code",
      "metadata": {
        "id": "76ae5f68"
      },
      "source": [
        "#split the nighttime data into 5 class based on its distribution\n",
        "Q1 = np.percentile(df['Average Nighttime mean'], 20, interpolation = 'midpoint')\n",
        "Q2 = np.percentile(df['Average Nighttime mean'], 40, interpolation = 'midpoint')\n",
        "Q3 = np.percentile(df['Average Nighttime mean'], 60, interpolation = 'midpoint')\n",
        "Q4 = np.percentile(df['Average Nighttime mean'], 80, interpolation = 'midpoint')\n",
        "Q5 = np.percentile(df['Average Nighttime mean'], 100, interpolation = 'midpoint')"
      ],
      "id": "76ae5f68",
      "execution_count": 11,
      "outputs": []
    },
    {
      "cell_type": "code",
      "metadata": {
        "colab": {
          "base_uri": "https://localhost:8080/"
        },
        "id": "YR42AyQxb08y",
        "outputId": "e8dfd9cc-c7ac-4209-d6bb-961343803017"
      },
      "source": [
        "print(min(df['Average Nighttime mean']))\n",
        "print()\n",
        "print(max(df['Average Nighttime mean']))"
      ],
      "id": "YR42AyQxb08y",
      "execution_count": 12,
      "outputs": [
        {
          "output_type": "stream",
          "text": [
            "-0.031742745\n",
            "\n",
            "28.57227675\n"
          ],
          "name": "stdout"
        }
      ]
    },
    {
      "cell_type": "code",
      "metadata": {
        "colab": {
          "base_uri": "https://localhost:8080/"
        },
        "id": "50c20acd",
        "outputId": "02a370fa-b73f-4030-b84e-e51744e337b0"
      },
      "source": [
        "print(Q1)\n",
        "print(Q2)\n",
        "print(Q3)\n",
        "print(Q4)\n",
        "print(Q5)"
      ],
      "id": "50c20acd",
      "execution_count": 13,
      "outputs": [
        {
          "output_type": "stream",
          "text": [
            "0.0036519165\n",
            "0.024093387\n",
            "0.0786186105\n",
            "0.3702403995\n",
            "28.57227675\n"
          ],
          "name": "stdout"
        }
      ]
    },
    {
      "cell_type": "code",
      "metadata": {
        "id": "45d4bd88"
      },
      "source": [
        "#define the conditions for splitting each sample\n",
        "conditions = [\n",
        "    (df['Average Nighttime mean'] <= Q1),\n",
        "    (df['Average Nighttime mean'] > Q1) & (df['Average Nighttime mean'] <= Q2),\n",
        "    (df['Average Nighttime mean'] > Q2) & (df['Average Nighttime mean'] <= Q3),\n",
        "    (df['Average Nighttime mean'] > Q3) & (df['Average Nighttime mean'] <= Q4),\n",
        "    (df['Average Nighttime mean'] > Q4)\n",
        "    ]"
      ],
      "id": "45d4bd88",
      "execution_count": 14,
      "outputs": []
    },
    {
      "cell_type": "code",
      "metadata": {
        "colab": {
          "base_uri": "https://localhost:8080/",
          "height": 202
        },
        "id": "1978bb50",
        "outputId": "7457f901-fef0-4c71-a564-4917665890ad"
      },
      "source": [
        "#define the 5 classes\n",
        "values = ['low', 'moderately_low', 'medium_intensity', 'moderate_high_intensity', 'high_intensity']\n",
        "\n",
        "# create a new column and input values based on the set conditions\n",
        "df['Night Light Class'] = np.select(conditions, values)\n",
        "\n",
        "df.head()"
      ],
      "id": "1978bb50",
      "execution_count": 15,
      "outputs": [
        {
          "output_type": "execute_result",
          "data": {
            "text/html": [
              "<div>\n",
              "<style scoped>\n",
              "    .dataframe tbody tr th:only-of-type {\n",
              "        vertical-align: middle;\n",
              "    }\n",
              "\n",
              "    .dataframe tbody tr th {\n",
              "        vertical-align: top;\n",
              "    }\n",
              "\n",
              "    .dataframe thead th {\n",
              "        text-align: right;\n",
              "    }\n",
              "</style>\n",
              "<table border=\"1\" class=\"dataframe\">\n",
              "  <thead>\n",
              "    <tr style=\"text-align: right;\">\n",
              "      <th></th>\n",
              "      <th>LGA</th>\n",
              "      <th>Average Nighttime mean</th>\n",
              "      <th>system:index</th>\n",
              "      <th>AREA</th>\n",
              "      <th>STATE</th>\n",
              "      <th>Latitude</th>\n",
              "      <th>Longitude</th>\n",
              "      <th>PERIMETER</th>\n",
              "      <th>Population</th>\n",
              "      <th>Population Density</th>\n",
              "      <th>Night Light Class</th>\n",
              "    </tr>\n",
              "  </thead>\n",
              "  <tbody>\n",
              "    <tr>\n",
              "      <th>0</th>\n",
              "      <td>Aba North</td>\n",
              "      <td>3.422659</td>\n",
              "      <td>698</td>\n",
              "      <td>18.116</td>\n",
              "      <td>Abia</td>\n",
              "      <td>5.100754</td>\n",
              "      <td>7.359617</td>\n",
              "      <td>31.927</td>\n",
              "      <td>245825.2780</td>\n",
              "      <td>13569.511923</td>\n",
              "      <td>high_intensity</td>\n",
              "    </tr>\n",
              "    <tr>\n",
              "      <th>1</th>\n",
              "      <td>Aba South</td>\n",
              "      <td>1.949728</td>\n",
              "      <td>699</td>\n",
              "      <td>51.131</td>\n",
              "      <td>Abia</td>\n",
              "      <td>5.071438</td>\n",
              "      <td>7.341737</td>\n",
              "      <td>29.855</td>\n",
              "      <td>380211.9108</td>\n",
              "      <td>7436.035102</td>\n",
              "      <td>high_intensity</td>\n",
              "    </tr>\n",
              "    <tr>\n",
              "      <th>2</th>\n",
              "      <td>Arochukwu</td>\n",
              "      <td>0.089510</td>\n",
              "      <td>656</td>\n",
              "      <td>386.125</td>\n",
              "      <td>Abia</td>\n",
              "      <td>5.498931</td>\n",
              "      <td>7.795863</td>\n",
              "      <td>133.618</td>\n",
              "      <td>146354.5149</td>\n",
              "      <td>379.034030</td>\n",
              "      <td>moderate_high_intensity</td>\n",
              "    </tr>\n",
              "    <tr>\n",
              "      <th>3</th>\n",
              "      <td>Bende</td>\n",
              "      <td>0.076452</td>\n",
              "      <td>636</td>\n",
              "      <td>603.923</td>\n",
              "      <td>Abia</td>\n",
              "      <td>5.655239</td>\n",
              "      <td>7.588170</td>\n",
              "      <td>141.298</td>\n",
              "      <td>236492.5846</td>\n",
              "      <td>391.593936</td>\n",
              "      <td>medium_intensity</td>\n",
              "    </tr>\n",
              "    <tr>\n",
              "      <th>4</th>\n",
              "      <td>Ikwuano</td>\n",
              "      <td>0.066905</td>\n",
              "      <td>674</td>\n",
              "      <td>237.941</td>\n",
              "      <td>Abia</td>\n",
              "      <td>5.384024</td>\n",
              "      <td>7.568317</td>\n",
              "      <td>78.189</td>\n",
              "      <td>153494.9633</td>\n",
              "      <td>645.096740</td>\n",
              "      <td>medium_intensity</td>\n",
              "    </tr>\n",
              "  </tbody>\n",
              "</table>\n",
              "</div>"
            ],
            "text/plain": [
              "         LGA  ...        Night Light Class\n",
              "0  Aba North  ...           high_intensity\n",
              "1  Aba South  ...           high_intensity\n",
              "2  Arochukwu  ...  moderate_high_intensity\n",
              "3      Bende  ...         medium_intensity\n",
              "4    Ikwuano  ...         medium_intensity\n",
              "\n",
              "[5 rows x 11 columns]"
            ]
          },
          "metadata": {
            "tags": []
          },
          "execution_count": 15
        }
      ]
    },
    {
      "cell_type": "code",
      "metadata": {
        "colab": {
          "base_uri": "https://localhost:8080/",
          "height": 450
        },
        "id": "0b27f415",
        "outputId": "243b8a99-1ef7-40f3-e413-a2d95c9ece8b"
      },
      "source": [
        "#visualize how the night time classes are distributed\n",
        "sns.countplot(df['Night Light Class'])\n",
        "plt.xticks(rotation=90);\n",
        "\n",
        "#from the plot, the classes are almost spread evenly. Interesting coincidence perhaps."
      ],
      "id": "0b27f415",
      "execution_count": 16,
      "outputs": [
        {
          "output_type": "stream",
          "text": [
            "/usr/local/lib/python3.7/dist-packages/seaborn/_decorators.py:43: FutureWarning: Pass the following variable as a keyword arg: x. From version 0.12, the only valid positional argument will be `data`, and passing other arguments without an explicit keyword will result in an error or misinterpretation.\n",
            "  FutureWarning\n"
          ],
          "name": "stderr"
        },
        {
          "output_type": "display_data",
          "data": {
            "image/png": "[encoded data removed]",
            "text/plain": [
              "<Figure size 432x288 with 1 Axes>"
            ]
          },
          "metadata": {
            "tags": [],
            "needs_background": "light"
          }
        }
      ]
    },
    {
      "cell_type": "code",
      "metadata": {
        "colab": {
          "base_uri": "https://localhost:8080/"
        },
        "id": "270a003e",
        "outputId": "db282d06-689d-4fde-d806-5f0c97eb9f67"
      },
      "source": [
        "df['Population Density'].describe()"
      ],
      "id": "270a003e",
      "execution_count": 17,
      "outputs": [
        {
          "output_type": "execute_result",
          "data": {
            "text/plain": [
              "count      774.000000\n",
              "mean      1057.603096\n",
              "std       3006.950210\n",
              "min          4.368622\n",
              "25%        109.645338\n",
              "50%        246.086803\n",
              "75%        586.832764\n",
              "max      34682.189336\n",
              "Name: Population Density, dtype: float64"
            ]
          },
          "metadata": {
            "tags": []
          },
          "execution_count": 17
        }
      ]
    },
    {
      "cell_type": "code",
      "metadata": {
        "colab": {
          "base_uri": "https://localhost:8080/",
          "height": 414
        },
        "id": "3ca86ef2",
        "outputId": "1213576d-c2cc-4cda-f8e5-f3f05664f676"
      },
      "source": [
        "#sort dataframe from lowest population density to highest\n",
        "df.sort_values('Population Density')"
      ],
      "id": "3ca86ef2",
      "execution_count": 18,
      "outputs": [
        {
          "output_type": "execute_result",
          "data": {
            "text/html": [
              "<div>\n",
              "<style scoped>\n",
              "    .dataframe tbody tr th:only-of-type {\n",
              "        vertical-align: middle;\n",
              "    }\n",
              "\n",
              "    .dataframe tbody tr th {\n",
              "        vertical-align: top;\n",
              "    }\n",
              "\n",
              "    .dataframe thead th {\n",
              "        text-align: right;\n",
              "    }\n",
              "</style>\n",
              "<table border=\"1\" class=\"dataframe\">\n",
              "  <thead>\n",
              "    <tr style=\"text-align: right;\">\n",
              "      <th></th>\n",
              "      <th>LGA</th>\n",
              "      <th>Average Nighttime mean</th>\n",
              "      <th>system:index</th>\n",
              "      <th>AREA</th>\n",
              "      <th>STATE</th>\n",
              "      <th>Latitude</th>\n",
              "      <th>Longitude</th>\n",
              "      <th>PERIMETER</th>\n",
              "      <th>Population</th>\n",
              "      <th>Population Density</th>\n",
              "      <th>Night Light Class</th>\n",
              "    </tr>\n",
              "  </thead>\n",
              "  <tbody>\n",
              "    <tr>\n",
              "      <th>216</th>\n",
              "      <td>Warri South-West</td>\n",
              "      <td>2.050127</td>\n",
              "      <td>638</td>\n",
              "      <td>1677.985</td>\n",
              "      <td>Delta</td>\n",
              "      <td>5.571430</td>\n",
              "      <td>5.409900</td>\n",
              "      <td>232.485</td>\n",
              "      <td>7330.4822</td>\n",
              "      <td>4.368622</td>\n",
              "      <td>high_intensity</td>\n",
              "    </tr>\n",
              "    <tr>\n",
              "      <th>41</th>\n",
              "      <td>Toungo</td>\n",
              "      <td>-0.006275</td>\n",
              "      <td>358</td>\n",
              "      <td>4627.869</td>\n",
              "      <td>Adamawa</td>\n",
              "      <td>8.001850</td>\n",
              "      <td>11.850566</td>\n",
              "      <td>340.831</td>\n",
              "      <td>49834.2979</td>\n",
              "      <td>10.768303</td>\n",
              "      <td>low</td>\n",
              "    </tr>\n",
              "    <tr>\n",
              "      <th>730</th>\n",
              "      <td>Gashaka</td>\n",
              "      <td>0.004144</td>\n",
              "      <td>381</td>\n",
              "      <td>8267.946</td>\n",
              "      <td>Taraba</td>\n",
              "      <td>7.556608</td>\n",
              "      <td>11.430372</td>\n",
              "      <td>412.380</td>\n",
              "      <td>97738.0819</td>\n",
              "      <td>11.821326</td>\n",
              "      <td>moderately_low</td>\n",
              "    </tr>\n",
              "    <tr>\n",
              "      <th>735</th>\n",
              "      <td>Kurmi</td>\n",
              "      <td>-0.003896</td>\n",
              "      <td>430</td>\n",
              "      <td>4969.120</td>\n",
              "      <td>Taraba</td>\n",
              "      <td>7.229056</td>\n",
              "      <td>10.667912</td>\n",
              "      <td>358.321</td>\n",
              "      <td>91719.0622</td>\n",
              "      <td>18.457808</td>\n",
              "      <td>low</td>\n",
              "    </tr>\n",
              "    <tr>\n",
              "      <th>214</th>\n",
              "      <td>Warri North</td>\n",
              "      <td>0.584901</td>\n",
              "      <td>606</td>\n",
              "      <td>1746.102</td>\n",
              "      <td>Delta</td>\n",
              "      <td>5.879112</td>\n",
              "      <td>5.252769</td>\n",
              "      <td>252.816</td>\n",
              "      <td>35259.6832</td>\n",
              "      <td>20.193370</td>\n",
              "      <td>high_intensity</td>\n",
              "    </tr>\n",
              "    <tr>\n",
              "      <th>...</th>\n",
              "      <td>...</td>\n",
              "      <td>...</td>\n",
              "      <td>...</td>\n",
              "      <td>...</td>\n",
              "      <td>...</td>\n",
              "      <td>...</td>\n",
              "      <td>...</td>\n",
              "      <td>...</td>\n",
              "      <td>...</td>\n",
              "      <td>...</td>\n",
              "      <td>...</td>\n",
              "    </tr>\n",
              "    <tr>\n",
              "      <th>520</th>\n",
              "      <td>Mushin</td>\n",
              "      <td>13.109613</td>\n",
              "      <td>562</td>\n",
              "      <td>17.387</td>\n",
              "      <td>Lagos</td>\n",
              "      <td>6.551415</td>\n",
              "      <td>3.342004</td>\n",
              "      <td>18.422</td>\n",
              "      <td>350625.5487</td>\n",
              "      <td>20165.960125</td>\n",
              "      <td>high_intensity</td>\n",
              "    </tr>\n",
              "    <tr>\n",
              "      <th>637</th>\n",
              "      <td>Ibadan North-East</td>\n",
              "      <td>1.657818</td>\n",
              "      <td>469</td>\n",
              "      <td>17.724</td>\n",
              "      <td>Oyo</td>\n",
              "      <td>7.374327</td>\n",
              "      <td>3.931289</td>\n",
              "      <td>22.323</td>\n",
              "      <td>367239.7494</td>\n",
              "      <td>20719.913643</td>\n",
              "      <td>high_intensity</td>\n",
              "    </tr>\n",
              "    <tr>\n",
              "      <th>506</th>\n",
              "      <td>Ajeromi-Ifelodun</td>\n",
              "      <td>10.497266</td>\n",
              "      <td>574</td>\n",
              "      <td>11.645</td>\n",
              "      <td>Lagos</td>\n",
              "      <td>6.466175</td>\n",
              "      <td>3.324313</td>\n",
              "      <td>13.097</td>\n",
              "      <td>314222.5886</td>\n",
              "      <td>26983.476909</td>\n",
              "      <td>high_intensity</td>\n",
              "    </tr>\n",
              "    <tr>\n",
              "      <th>399</th>\n",
              "      <td>Nassarawa</td>\n",
              "      <td>17.912518</td>\n",
              "      <td>133</td>\n",
              "      <td>19.019</td>\n",
              "      <td>Kano</td>\n",
              "      <td>12.005883</td>\n",
              "      <td>8.508378</td>\n",
              "      <td>21.054</td>\n",
              "      <td>641461.4104</td>\n",
              "      <td>33727.399464</td>\n",
              "      <td>high_intensity</td>\n",
              "    </tr>\n",
              "    <tr>\n",
              "      <th>386</th>\n",
              "      <td>Gwale</td>\n",
              "      <td>13.307475</td>\n",
              "      <td>139</td>\n",
              "      <td>23.810</td>\n",
              "      <td>Kano</td>\n",
              "      <td>11.968264</td>\n",
              "      <td>8.468683</td>\n",
              "      <td>23.055</td>\n",
              "      <td>825782.9281</td>\n",
              "      <td>34682.189336</td>\n",
              "      <td>high_intensity</td>\n",
              "    </tr>\n",
              "  </tbody>\n",
              "</table>\n",
              "<p>774 rows × 11 columns</p>\n",
              "</div>"
            ],
            "text/plain": [
              "                   LGA  ...  Night Light Class\n",
              "216   Warri South-West  ...     high_intensity\n",
              "41              Toungo  ...                low\n",
              "730            Gashaka  ...     moderately_low\n",
              "735              Kurmi  ...                low\n",
              "214        Warri North  ...     high_intensity\n",
              "..                 ...  ...                ...\n",
              "520             Mushin  ...     high_intensity\n",
              "637  Ibadan North-East  ...     high_intensity\n",
              "506   Ajeromi-Ifelodun  ...     high_intensity\n",
              "399          Nassarawa  ...     high_intensity\n",
              "386              Gwale  ...     high_intensity\n",
              "\n",
              "[774 rows x 11 columns]"
            ]
          },
          "metadata": {
            "tags": []
          },
          "execution_count": 18
        }
      ]
    },
    {
      "cell_type": "code",
      "metadata": {
        "colab": {
          "base_uri": "https://localhost:8080/"
        },
        "id": "ce8578d8",
        "outputId": "62f09f26-26a4-4887-c9f5-e7d147090961"
      },
      "source": [
        "df['Night Light Class'].unique()"
      ],
      "id": "ce8578d8",
      "execution_count": 19,
      "outputs": [
        {
          "output_type": "execute_result",
          "data": {
            "text/plain": [
              "array(['high_intensity', 'moderate_high_intensity', 'medium_intensity',\n",
              "       'moderately_low', 'low'], dtype=object)"
            ]
          },
          "metadata": {
            "tags": []
          },
          "execution_count": 19
        }
      ]
    },
    {
      "cell_type": "code",
      "metadata": {
        "id": "138a686d"
      },
      "source": [
        "#create 5 new dataframe for each of the night time classes\n",
        "low_df = df[df['Night Light Class'] == 'low']\n",
        "moderately_low_df = df[df['Night Light Class'] == 'moderately_low']\n",
        "medium_intensity_df = df[df['Night Light Class'] == 'medium_intensity']\n",
        "moderate_high_intensity_df = df[df['Night Light Class'] == 'moderate_high_intensity']\n",
        "high_intensity_df = df[df['Night Light Class'] == 'high_intensity']"
      ],
      "id": "138a686d",
      "execution_count": 20,
      "outputs": []
    },
    {
      "cell_type": "code",
      "metadata": {
        "id": "e215122f"
      },
      "source": [
        "#sort each of the dataframe based on the population density from lowest to highest\n",
        "\n",
        "sorted_low_df = low_df.sort_values('Population Density', ascending=False)\n",
        "sorted_moderately_low_df = moderately_low_df.sort_values('Population Density', ascending=False)\n",
        "sorted_medium_intensity_df = medium_intensity_df.sort_values('Population Density', ascending=False)\n",
        "sorted_moderate_high_intensity_df = moderate_high_intensity_df.sort_values('Population Density', ascending=False)\n",
        "sorted_high_intensity_df = high_intensity_df.sort_values('Population Density', ascending=False)\n"
      ],
      "id": "e215122f",
      "execution_count": 21,
      "outputs": []
    },
    {
      "cell_type": "code",
      "metadata": {
        "colab": {
          "base_uri": "https://localhost:8080/",
          "height": 414
        },
        "id": "a3cfb494",
        "outputId": "b91872fa-e5af-454a-c3fb-5b1fac7bfdfa"
      },
      "source": [
        "#check the lga with low night time and high population density. There is energy demand\n",
        "sorted_low_df"
      ],
      "id": "a3cfb494",
      "execution_count": 22,
      "outputs": [
        {
          "output_type": "execute_result",
          "data": {
            "text/html": [
              "<div>\n",
              "<style scoped>\n",
              "    .dataframe tbody tr th:only-of-type {\n",
              "        vertical-align: middle;\n",
              "    }\n",
              "\n",
              "    .dataframe tbody tr th {\n",
              "        vertical-align: top;\n",
              "    }\n",
              "\n",
              "    .dataframe thead th {\n",
              "        text-align: right;\n",
              "    }\n",
              "</style>\n",
              "<table border=\"1\" class=\"dataframe\">\n",
              "  <thead>\n",
              "    <tr style=\"text-align: right;\">\n",
              "      <th></th>\n",
              "      <th>LGA</th>\n",
              "      <th>Average Nighttime mean</th>\n",
              "      <th>system:index</th>\n",
              "      <th>AREA</th>\n",
              "      <th>STATE</th>\n",
              "      <th>Latitude</th>\n",
              "      <th>Longitude</th>\n",
              "      <th>PERIMETER</th>\n",
              "      <th>Population</th>\n",
              "      <th>Population Density</th>\n",
              "      <th>Night Light Class</th>\n",
              "    </tr>\n",
              "  </thead>\n",
              "  <tbody>\n",
              "    <tr>\n",
              "      <th>37</th>\n",
              "      <td>Mubi South</td>\n",
              "      <td>-0.017975</td>\n",
              "      <td>252</td>\n",
              "      <td>185.577</td>\n",
              "      <td>Adamawa</td>\n",
              "      <td>10.190380</td>\n",
              "      <td>13.393257</td>\n",
              "      <td>57.961</td>\n",
              "      <td>170740.0858</td>\n",
              "      <td>920.049822</td>\n",
              "      <td>low</td>\n",
              "    </tr>\n",
              "    <tr>\n",
              "      <th>223</th>\n",
              "      <td>Ikwo</td>\n",
              "      <td>0.003647</td>\n",
              "      <td>600</td>\n",
              "      <td>463.579</td>\n",
              "      <td>Ebonyi</td>\n",
              "      <td>6.078639</td>\n",
              "      <td>8.172586</td>\n",
              "      <td>114.720</td>\n",
              "      <td>355238.0451</td>\n",
              "      <td>766.294515</td>\n",
              "      <td>low</td>\n",
              "    </tr>\n",
              "    <tr>\n",
              "      <th>474</th>\n",
              "      <td>Idah</td>\n",
              "      <td>0.003247</td>\n",
              "      <td>502</td>\n",
              "      <td>47.846</td>\n",
              "      <td>Kogi</td>\n",
              "      <td>7.060723</td>\n",
              "      <td>6.713154</td>\n",
              "      <td>30.648</td>\n",
              "      <td>35322.7548</td>\n",
              "      <td>738.259307</td>\n",
              "      <td>low</td>\n",
              "    </tr>\n",
              "    <tr>\n",
              "      <th>382</th>\n",
              "      <td>Garko</td>\n",
              "      <td>-0.003368</td>\n",
              "      <td>172</td>\n",
              "      <td>458.608</td>\n",
              "      <td>Kano</td>\n",
              "      <td>11.550638</td>\n",
              "      <td>8.808934</td>\n",
              "      <td>127.175</td>\n",
              "      <td>219544.2736</td>\n",
              "      <td>478.718805</td>\n",
              "      <td>low</td>\n",
              "    </tr>\n",
              "    <tr>\n",
              "      <th>384</th>\n",
              "      <td>Gaya</td>\n",
              "      <td>0.003059</td>\n",
              "      <td>154</td>\n",
              "      <td>619.544</td>\n",
              "      <td>Kano</td>\n",
              "      <td>11.772951</td>\n",
              "      <td>9.016087</td>\n",
              "      <td>119.561</td>\n",
              "      <td>265273.4781</td>\n",
              "      <td>428.175365</td>\n",
              "      <td>low</td>\n",
              "    </tr>\n",
              "    <tr>\n",
              "      <th>...</th>\n",
              "      <td>...</td>\n",
              "      <td>...</td>\n",
              "      <td>...</td>\n",
              "      <td>...</td>\n",
              "      <td>...</td>\n",
              "      <td>...</td>\n",
              "      <td>...</td>\n",
              "      <td>...</td>\n",
              "      <td>...</td>\n",
              "      <td>...</td>\n",
              "      <td>...</td>\n",
              "    </tr>\n",
              "    <tr>\n",
              "      <th>153</th>\n",
              "      <td>Damboa</td>\n",
              "      <td>-0.010433</td>\n",
              "      <td>188</td>\n",
              "      <td>6485.544</td>\n",
              "      <td>Borno</td>\n",
              "      <td>11.127215</td>\n",
              "      <td>12.837075</td>\n",
              "      <td>427.860</td>\n",
              "      <td>190951.2600</td>\n",
              "      <td>29.442597</td>\n",
              "      <td>low</td>\n",
              "    </tr>\n",
              "    <tr>\n",
              "      <th>713</th>\n",
              "      <td>Kebbe</td>\n",
              "      <td>0.001207</td>\n",
              "      <td>117</td>\n",
              "      <td>2758.110</td>\n",
              "      <td>Sokoto</td>\n",
              "      <td>11.882302</td>\n",
              "      <td>4.805728</td>\n",
              "      <td>233.705</td>\n",
              "      <td>79882.2843</td>\n",
              "      <td>28.962690</td>\n",
              "      <td>low</td>\n",
              "    </tr>\n",
              "    <tr>\n",
              "      <th>757</th>\n",
              "      <td>Tarmuwa</td>\n",
              "      <td>-0.000991</td>\n",
              "      <td>86</td>\n",
              "      <td>4504.328</td>\n",
              "      <td>Yobe</td>\n",
              "      <td>12.210048</td>\n",
              "      <td>11.828837</td>\n",
              "      <td>319.692</td>\n",
              "      <td>129830.2395</td>\n",
              "      <td>28.823443</td>\n",
              "      <td>low</td>\n",
              "    </tr>\n",
              "    <tr>\n",
              "      <th>735</th>\n",
              "      <td>Kurmi</td>\n",
              "      <td>-0.003896</td>\n",
              "      <td>430</td>\n",
              "      <td>4969.120</td>\n",
              "      <td>Taraba</td>\n",
              "      <td>7.229056</td>\n",
              "      <td>10.667912</td>\n",
              "      <td>358.321</td>\n",
              "      <td>91719.0622</td>\n",
              "      <td>18.457808</td>\n",
              "      <td>low</td>\n",
              "    </tr>\n",
              "    <tr>\n",
              "      <th>41</th>\n",
              "      <td>Toungo</td>\n",
              "      <td>-0.006275</td>\n",
              "      <td>358</td>\n",
              "      <td>4627.869</td>\n",
              "      <td>Adamawa</td>\n",
              "      <td>8.001850</td>\n",
              "      <td>11.850566</td>\n",
              "      <td>340.831</td>\n",
              "      <td>49834.2979</td>\n",
              "      <td>10.768303</td>\n",
              "      <td>low</td>\n",
              "    </tr>\n",
              "  </tbody>\n",
              "</table>\n",
              "<p>155 rows × 11 columns</p>\n",
              "</div>"
            ],
            "text/plain": [
              "            LGA  Average Nighttime mean  ...  Population Density  Night Light Class\n",
              "37   Mubi South               -0.017975  ...          920.049822                low\n",
              "223        Ikwo                0.003647  ...          766.294515                low\n",
              "474        Idah                0.003247  ...          738.259307                low\n",
              "382       Garko               -0.003368  ...          478.718805                low\n",
              "384        Gaya                0.003059  ...          428.175365                low\n",
              "..          ...                     ...  ...                 ...                ...\n",
              "153      Damboa               -0.010433  ...           29.442597                low\n",
              "713       Kebbe                0.001207  ...           28.962690                low\n",
              "757     Tarmuwa               -0.000991  ...           28.823443                low\n",
              "735       Kurmi               -0.003896  ...           18.457808                low\n",
              "41       Toungo               -0.006275  ...           10.768303                low\n",
              "\n",
              "[155 rows x 11 columns]"
            ]
          },
          "metadata": {
            "tags": []
          },
          "execution_count": 22
        }
      ]
    },
    {
      "cell_type": "code",
      "metadata": {
        "colab": {
          "base_uri": "https://localhost:8080/"
        },
        "id": "cb01c828",
        "outputId": "ebaaa6b9-13d7-4083-96bd-af680f7ce909"
      },
      "source": [
        "#list LGA with top energy demand\n",
        "[x for x in sorted_low_df['LGA']]"
      ],
      "id": "cb01c828",
      "execution_count": 23,
      "outputs": [
        {
          "output_type": "execute_result",
          "data": {
            "text/plain": [
              "['Mubi South',\n",
              " 'Ikwo',\n",
              " 'Idah',\n",
              " 'Garko',\n",
              " 'Gaya',\n",
              " 'Doma',\n",
              " 'Kibiya',\n",
              " 'Baure',\n",
              " 'Ikara',\n",
              " 'Rogo',\n",
              " 'Shira',\n",
              " 'Sumaila',\n",
              " 'Matazu',\n",
              " 'Babura',\n",
              " 'Giade',\n",
              " 'Batsari',\n",
              " 'Mubi North',\n",
              " 'Danmusa',\n",
              " 'Madagali',\n",
              " 'Soba',\n",
              " 'Lere',\n",
              " 'Gwadabawa',\n",
              " 'Michika',\n",
              " 'Ukum',\n",
              " 'Kubau',\n",
              " 'Billiri',\n",
              " 'Logo',\n",
              " 'Musawa',\n",
              " 'Ankpa',\n",
              " 'Takum',\n",
              " 'Bade',\n",
              " 'Guyuk',\n",
              " 'Shani',\n",
              " 'Illela',\n",
              " 'Okpokwu',\n",
              " 'Kwaya Kusar',\n",
              " 'Maiha',\n",
              " 'Birnin-Magaji-Kiyaw',\n",
              " 'Apa',\n",
              " 'Safana',\n",
              " 'Vandeikya',\n",
              " 'Kaltungo',\n",
              " 'Bayo',\n",
              " 'Sabon Birni',\n",
              " 'Shomgom',\n",
              " 'Warji',\n",
              " 'Silame',\n",
              " 'Zaki',\n",
              " 'Katsina-Ala',\n",
              " 'Darazo',\n",
              " 'Shinkafi',\n",
              " 'Dass',\n",
              " 'Askira-Uba',\n",
              " 'Konshisha',\n",
              " 'Monguno',\n",
              " 'Kauru',\n",
              " 'Wukari',\n",
              " 'Shanga',\n",
              " 'Hawul',\n",
              " 'Kwande',\n",
              " 'Balanga',\n",
              " 'Goronyo',\n",
              " 'Shendam',\n",
              " 'Gwoza',\n",
              " 'Bogoro',\n",
              " 'Jada',\n",
              " 'Ngala',\n",
              " 'Keana',\n",
              " 'Mikang',\n",
              " 'Yauri',\n",
              " 'Fika',\n",
              " 'Ganye',\n",
              " 'Ikom',\n",
              " 'Tafawa-Balewa',\n",
              " \"Qua'an Pan\",\n",
              " 'Wasagu-Danko',\n",
              " 'Sakaba',\n",
              " 'Girie',\n",
              " 'Ado',\n",
              " 'Ganjuwa',\n",
              " 'Gassol',\n",
              " 'Mayo-Belwa',\n",
              " 'Obi',\n",
              " 'Zurmi',\n",
              " 'Lau',\n",
              " 'Gulani',\n",
              " 'Langtang South',\n",
              " 'Biu',\n",
              " 'Machina',\n",
              " 'Chibok',\n",
              " 'Hong',\n",
              " 'Kajuru',\n",
              " 'Isa',\n",
              " 'Magama',\n",
              " 'Maradun',\n",
              " 'Agatu',\n",
              " 'Ningi',\n",
              " 'Shelleng',\n",
              " 'Bukkuyum',\n",
              " 'Kachia',\n",
              " 'Mashegu',\n",
              " 'Rijau',\n",
              " 'Bagudu',\n",
              " 'Dukku',\n",
              " 'Gujba',\n",
              " 'Awe',\n",
              " 'Gubio',\n",
              " 'Marte',\n",
              " 'Tureta',\n",
              " 'Kirfi',\n",
              " 'Lapai',\n",
              " 'Kukawa',\n",
              " 'Mariga',\n",
              " 'Boki',\n",
              " 'Ibarapa North',\n",
              " 'Etung',\n",
              " 'Anka',\n",
              " 'Kanke',\n",
              " 'Donga',\n",
              " 'Toro',\n",
              " 'Alkaleri',\n",
              " 'Nganzai',\n",
              " 'Wushishi',\n",
              " 'Dikwa',\n",
              " 'Fufore',\n",
              " 'Rabah',\n",
              " 'Bama',\n",
              " 'Song',\n",
              " 'Guzamala',\n",
              " 'Omala',\n",
              " 'Kala-Balge',\n",
              " 'Magumeri',\n",
              " 'Agwara',\n",
              " 'Ngaski',\n",
              " 'Nafada',\n",
              " 'Geidam',\n",
              " 'Guma',\n",
              " 'Kanam',\n",
              " 'Ibaji',\n",
              " 'Toto',\n",
              " 'Kaga',\n",
              " 'Yagba East',\n",
              " 'Jakusko',\n",
              " 'Bali',\n",
              " 'Karim Lamido',\n",
              " 'Yusufari',\n",
              " 'Ibi',\n",
              " 'Bursari',\n",
              " 'Wase',\n",
              " 'Gudu',\n",
              " 'Damboa',\n",
              " 'Kebbe',\n",
              " 'Tarmuwa',\n",
              " 'Kurmi',\n",
              " 'Toungo']"
            ]
          },
          "metadata": {
            "tags": []
          },
          "execution_count": 23
        }
      ]
    },
    {
      "cell_type": "code",
      "metadata": {
        "id": "6a5015dc",
        "colab": {
          "base_uri": "https://localhost:8080/"
        },
        "outputId": "eb8f332e-a048-468f-c580-9ab69b54d79e"
      },
      "source": [
        "#list states where LGA has high energy demand\n",
        "[x for x in sorted_low_df['STATE']]"
      ],
      "id": "6a5015dc",
      "execution_count": 24,
      "outputs": [
        {
          "output_type": "execute_result",
          "data": {
            "text/plain": [
              "['Adamawa',\n",
              " 'Ebonyi',\n",
              " 'Kogi',\n",
              " 'Kano',\n",
              " 'Kano',\n",
              " 'Nasarawa',\n",
              " 'Kano',\n",
              " 'Katsina',\n",
              " 'Kaduna',\n",
              " 'Kano',\n",
              " 'Bauchi',\n",
              " 'Kano',\n",
              " 'Katsina',\n",
              " 'Jigawa',\n",
              " 'Bauchi',\n",
              " 'Katsina',\n",
              " 'Adamawa',\n",
              " 'Katsina',\n",
              " 'Adamawa',\n",
              " 'Kaduna',\n",
              " 'Kaduna',\n",
              " 'Sokoto',\n",
              " 'Adamawa',\n",
              " 'Benue',\n",
              " 'Kaduna',\n",
              " 'Gombe',\n",
              " 'Benue',\n",
              " 'Katsina',\n",
              " 'Kogi',\n",
              " 'Taraba',\n",
              " 'Yobe',\n",
              " 'Adamawa',\n",
              " 'Borno',\n",
              " 'Sokoto',\n",
              " 'Benue',\n",
              " 'Borno',\n",
              " 'Adamawa',\n",
              " 'Zamfara',\n",
              " 'Benue',\n",
              " 'Katsina',\n",
              " 'Benue',\n",
              " 'Gombe',\n",
              " 'Borno',\n",
              " 'Sokoto',\n",
              " 'Gombe',\n",
              " 'Bauchi',\n",
              " 'Sokoto',\n",
              " 'Bauchi',\n",
              " 'Benue',\n",
              " 'Bauchi',\n",
              " 'Zamfara',\n",
              " 'Bauchi',\n",
              " 'Borno',\n",
              " 'Benue',\n",
              " 'Borno',\n",
              " 'Kaduna',\n",
              " 'Taraba',\n",
              " 'Kebbi',\n",
              " 'Borno',\n",
              " 'Benue',\n",
              " 'Gombe',\n",
              " 'Sokoto',\n",
              " 'Plateau',\n",
              " 'Borno',\n",
              " 'Bauchi',\n",
              " 'Adamawa',\n",
              " 'Borno',\n",
              " 'Nasarawa',\n",
              " 'Plateau',\n",
              " 'Kebbi',\n",
              " 'Yobe',\n",
              " 'Adamawa',\n",
              " 'Cross River',\n",
              " 'Bauchi',\n",
              " 'Plateau',\n",
              " 'Kebbi',\n",
              " 'Kebbi',\n",
              " 'Adamawa',\n",
              " 'Benue',\n",
              " 'Bauchi',\n",
              " 'Taraba',\n",
              " 'Adamawa',\n",
              " 'Nasarawa',\n",
              " 'Zamfara',\n",
              " 'Taraba',\n",
              " 'Yobe',\n",
              " 'Plateau',\n",
              " 'Borno',\n",
              " 'Yobe',\n",
              " 'Borno',\n",
              " 'Adamawa',\n",
              " 'Kaduna',\n",
              " 'Sokoto',\n",
              " 'Niger',\n",
              " 'Zamfara',\n",
              " 'Benue',\n",
              " 'Bauchi',\n",
              " 'Adamawa',\n",
              " 'Zamfara',\n",
              " 'Kaduna',\n",
              " 'Niger',\n",
              " 'Niger',\n",
              " 'Kebbi',\n",
              " 'Gombe',\n",
              " 'Yobe',\n",
              " 'Nasarawa',\n",
              " 'Borno',\n",
              " 'Borno',\n",
              " 'Sokoto',\n",
              " 'Bauchi',\n",
              " 'Niger',\n",
              " 'Borno',\n",
              " 'Niger',\n",
              " 'Cross River',\n",
              " 'Oyo',\n",
              " 'Cross River',\n",
              " 'Zamfara',\n",
              " 'Plateau',\n",
              " 'Taraba',\n",
              " 'Bauchi',\n",
              " 'Bauchi',\n",
              " 'Borno',\n",
              " 'Niger',\n",
              " 'Borno',\n",
              " 'Adamawa',\n",
              " 'Sokoto',\n",
              " 'Borno',\n",
              " 'Adamawa',\n",
              " 'Borno',\n",
              " 'Kogi',\n",
              " 'Borno',\n",
              " 'Borno',\n",
              " 'Niger',\n",
              " 'Kebbi',\n",
              " 'Gombe',\n",
              " 'Yobe',\n",
              " 'Benue',\n",
              " 'Plateau',\n",
              " 'Kogi',\n",
              " 'Nasarawa',\n",
              " 'Borno',\n",
              " 'Kogi',\n",
              " 'Yobe',\n",
              " 'Taraba',\n",
              " 'Taraba',\n",
              " 'Yobe',\n",
              " 'Taraba',\n",
              " 'Yobe',\n",
              " 'Plateau',\n",
              " 'Sokoto',\n",
              " 'Borno',\n",
              " 'Sokoto',\n",
              " 'Yobe',\n",
              " 'Taraba',\n",
              " 'Adamawa']"
            ]
          },
          "metadata": {
            "tags": []
          },
          "execution_count": 24
        }
      ]
    },
    {
      "cell_type": "code",
      "metadata": {
        "id": "56MDFqm7wZal"
      },
      "source": [
        "#stack each class of the dataframe to one dataframe\n",
        "sorted_energy_demand_df = pd.concat([sorted_low_df, sorted_moderately_low_df, sorted_medium_intensity_df, sorted_moderate_high_intensity_df, sorted_high_intensity_df], ignore_index=True)"
      ],
      "id": "56MDFqm7wZal",
      "execution_count": 25,
      "outputs": []
    },
    {
      "cell_type": "code",
      "metadata": {
        "colab": {
          "base_uri": "https://localhost:8080/",
          "height": 950
        },
        "id": "7ZviSwcQnGrh",
        "outputId": "1bba1964-1e20-46de-b4cb-cbc9f9a7440a"
      },
      "source": [
        "#draw a scatterplot to show the distribution of the classes\n",
        "fig, ax = plt.subplots(figsize=(15, 15))\n",
        "sns.scatterplot('Average Nighttime mean', 'Population Density', data=sorted_energy_demand_df, hue='Night Light Class', ax=ax, s=100)"
      ],
      "id": "7ZviSwcQnGrh",
      "execution_count": 26,
      "outputs": [
        {
          "output_type": "stream",
          "text": [
            "/usr/local/lib/python3.7/dist-packages/seaborn/_decorators.py:43: FutureWarning: Pass the following variables as keyword args: x, y. From version 0.12, the only valid positional argument will be `data`, and passing other arguments without an explicit keyword will result in an error or misinterpretation.\n",
            "  FutureWarning\n"
          ],
          "name": "stderr"
        },
        {
          "output_type": "execute_result",
          "data": {
            "text/plain": [
              "<matplotlib.axes._subplots.AxesSubplot at 0x7f4d3d247750>"
            ]
          },
          "metadata": {
            "tags": []
          },
          "execution_count": 26
        },
        {
          "output_type": "display_data",
          "data": {
            "image/png": "[encoded data removed]",
            "text/plain": [
              "<Figure size 1080x1080 with 1 Axes>"
            ]
          },
          "metadata": {
            "tags": [],
            "needs_background": "light"
          }
        }
      ]
    },
    {
      "cell_type": "code",
      "metadata": {
        "colab": {
          "base_uri": "https://localhost:8080/",
          "height": 542
        },
        "id": "27Iy0KzErSOL",
        "outputId": "e945c93e-fd2e-4ee8-bb80-0a6da3cb4ed1"
      },
      "source": [
        "#plot the scatter plot with plotly\n",
        "import plotly.express as px\n",
        "\n",
        "px.scatter(sorted_energy_demand_df, x='Average Nighttime mean', y='Population Density', color='Night Light Class')"
      ],
      "id": "27Iy0KzErSOL",
      "execution_count": 27,
      "outputs": [
        {
          "output_type": "display_data",
          "data": {
            "text/html": [
              "<html>\n",
              "<head><meta charset=\"utf-8\" /></head>\n",
              "<body>\n",
              "    <div>\n",
              "            <script src=\"https://cdnjs.cloudflare.com/ajax/libs/mathjax/2.7.5/MathJax.js?config=TeX-AMS-MML_SVG\"></script><script type=\"text/javascript\">if (window.MathJax) {MathJax.Hub.Config({SVG: {font: \"STIX-Web\"}});}</script>\n",
              "                <script type=\"text/javascript\">window.PlotlyConfig = {MathJaxConfig: 'local'};</script>\n",
              "        <script src=\"https://cdn.plot.ly/plotly-latest.min.js\"></script>    \n",
              "            <div id=\"d70f4f85-037a-414f-905e-19559500f53a\" class=\"plotly-graph-div\" style=\"height:525px; width:100%;\"></div>\n",
              "            <script type=\"text/javascript\">\n",
              "                \n",
              "                    window.PLOTLYENV=window.PLOTLYENV || {};\n",
              "                    \n",
              "                if (document.getElementById(\"d70f4f85-037a-414f-905e-19559500f53a\")) {\n",
              "                    Plotly.newPlot(\n",
              "                        'd70f4f85-037a-414f-905e-19559500f53a',\n",
              "                        [{\"hoverlabel\": {\"namelength\": 0}, \"hovertemplate\": \"Night Light Class=low<br>Average Nighttime mean=%{x}<br>Population Density=%{y}\", \"legendgroup\": \"Night Light Class=low\", \"marker\": {\"color\": \"#636efa\", \"symbol\": \"circle\"}, \"mode\": \"markers\", \"name\": \"Night Light Class=low\", \"showlegend\": true, \"type\": \"scatter\", \"x\": [-0.017975349, 0.003646645, 0.003247121, -0.003368476, 0.003059412, -0.007335718, -0.006459693, -0.000779, -0.000204, 6.53e-05, -0.003260689, -0.011383717, 0.001318548, 0.002277919, 0.001089729, 0.003616707, 0.001949576, -0.003613663, -0.003766043, -0.002076367, -0.00202759, 0.002764663, -0.0189067, -0.012899769, -0.002991397, -0.005537116, -0.000352, 0.00265241, 0.002143709, -0.014141797, -0.004622853, -0.003953803, -0.011039936, -0.005184608, -0.002416685, -0.010025813, -0.017190038, 0.000118, -0.006729207, -0.003776581, -0.0016449, -0.008582746, -0.005910769, -0.00263533, -0.011925741, 0.000166, 0.00130153, -0.000246, -0.008645593, -0.002040799, 0.000263, -0.008027794, -0.017671898, 0.002423673, -0.00178373, -0.009680654, -0.013020978, 0.001643734, 0.002417804, -0.00517092, 3.67e-05, -0.001497585, -0.014401934, -0.007585018, -0.010802112, -0.000657, -0.007311463, -0.018902763, -0.001150499, 0.001536622, 0.002943455, -0.006360987, -0.00027, -0.010850502, -0.012141378, -0.006526368, -0.01161102, -0.0119069, -0.006755062, -0.017366991, -0.022139031, -0.006342652, -0.013209721, -0.000399, -0.009198856, -0.01247922, -0.015933451, -0.007042969, -0.000366, -0.022636835, -0.009042694, -0.003316936, -0.005727746, 0.003304858, -0.006153864, -0.002805334, -0.005676119, -0.018019296, -0.005577652, 0.000544, -0.000193, -0.005065182, 0.002990419, -0.006666514, -0.007651559, -0.020159027, 0.000283, -0.000289, 0.002064594, -0.009044492, -0.000349, -0.002342662, -0.014037968, -0.012700187, 0.001000547, -0.021257644, -0.00033, 0.003281002, -0.013196608, -0.004898088, -0.012105507, 0.002294147, -0.006973947, 0.001068616, -0.004980624, -0.006237503, -0.001912477, -0.013663465, -0.003590599, 0.003251476, -0.003355443, -0.003684781, 0.000367, -0.003799071, 0.002184343, 0.003603096, -0.002970153, -0.017697544, -0.000584, -0.007212118, -0.008462529, -0.000698, 0.002044899, -0.00719547, -0.015017323, 0.002478698, -0.031742745, 0.003108809, -0.012478577, -0.000227, -0.010433045, 0.001207114, -0.000991, -0.003895772, -0.006275245], \"xaxis\": \"x\", \"y\": [920.0498219068096, 766.2945152821849, 738.2593069431092, 478.71880473083763, 428.1753646230131, 403.4776665066112, 391.48029679431124, 384.48200576220046, 381.9829254351664, 370.7415028623553, 331.84772156093027, 311.6727638156354, 306.00717337509184, 305.5289536531183, 295.88915500210237, 275.7913549657281, 262.09835130251753, 261.85191770655126, 257.83397256318267, 251.17417301237998, 239.06477329947194, 234.93296692522225, 229.44377785868346, 224.07699314238656, 214.50982497267387, 211.9192642949493, 209.14574359359847, 207.27434221126438, 205.4886244615787, 204.13591435292423, 200.72192949612116, 195.5370750248273, 191.5256926037089, 185.03208653882442, 182.00335285450743, 180.33154384758683, 177.4485968313541, 175.94760633492703, 175.52487684673937, 172.4974250024386, 168.43452260605167, 164.75291058997834, 158.5477823916058, 158.3760381844541, 158.1402356578302, 154.84848735866774, 153.37572033502963, 152.7910710231304, 152.2240802678062, 149.88998776706507, 141.55001939603886, 130.0783355907323, 127.82108865691288, 124.20364354389818, 123.31841483948598, 122.76102805410042, 122.64909669075982, 121.95617438893781, 121.94654705599697, 121.58682962539832, 119.21863066729725, 116.09445989065216, 115.16368908441484, 113.55115688833303, 112.27449988225327, 111.48361580712093, 109.29072251918824, 108.66582667928779, 106.81546287475781, 106.76208313090815, 106.03992498036672, 105.18021169974747, 103.42406777400437, 102.43722339116717, 102.27441580794253, 98.02385742223812, 97.71219539465554, 97.11849812422312, 92.96439605829264, 92.89963444433805, 92.28171188388374, 90.69768911232204, 90.6928353148446, 90.46601058070239, 89.89770228099032, 89.74022992898999, 88.05597181384974, 87.10381112352216, 85.34810680610761, 85.00166375043958, 84.82410586413461, 82.20761305471062, 81.9587314984586, 78.74395108672122, 77.95103055260647, 77.65354630993964, 77.45282172218086, 75.84505899112439, 75.77778255797229, 73.19657510087893, 73.0217662599657, 71.35120322254042, 70.61767409751607, 69.43819225186569, 69.39292836029789, 69.06273322038595, 68.63261907966226, 67.85855488078877, 67.60998127611657, 67.23373686110412, 65.85098768625845, 65.47036080189274, 64.69357803520776, 63.67706947886486, 63.20665171742567, 62.31509661476003, 61.06533496027495, 61.03413898485563, 60.67235868329591, 60.10314256030762, 59.05184150862313, 57.33688869139269, 57.11106257986183, 57.07107874688712, 56.196831167152425, 56.1693628997296, 55.82325630122388, 55.464674982628516, 55.22301564244169, 55.16059939995005, 54.124642455828045, 52.99404190820075, 52.19730595257726, 49.82584806207045, 49.34306068634992, 49.18972005677723, 48.95183607569069, 48.92370431757237, 48.15519042382323, 47.99697580011849, 47.19532280994113, 44.158447419769864, 43.448779241099466, 43.43456027017923, 43.23085215655585, 40.09249308271755, 39.366870836291426, 35.25529806806829, 34.70961268661007, 32.85721560223317, 29.44259725938179, 28.96268977669491, 28.823442586774316, 18.457807861351707, 10.768303489143708], \"yaxis\": \"y\"}, {\"hoverlabel\": {\"namelength\": 0}, \"hovertemplate\": \"Night Light Class=moderately_low<br>Average Nighttime mean=%{x}<br>Population Density=%{y}\", \"legendgroup\": \"Night Light Class=moderately_low\", \"marker\": {\"color\": \"#EF553B\", \"symbol\": \"circle\"}, \"mode\": \"markers\", \"name\": \"Night Light Class=moderately_low\", \"showlegend\": true, \"type\": \"scatter\", \"x\": [0.018085659, 0.010245442, 0.022093655, 0.017816314, 0.004987691, 0.023619613, 0.014942649, 0.010589746, 0.017624796, 0.020051938, 0.018098035, 0.009702905, 0.015897551, 0.008958682, 0.011330273, 0.004326844, 0.004250644, 0.021456909, 0.023478853, 0.005026283, 0.019073758, 0.01459833, 0.011952343, 0.017228475, 0.003929493, 0.02405384, 0.014180304, 0.009702485, 0.010714262, 0.011347405, 0.005036805, 0.010400134, 0.008040642, 0.019409043, 0.005794477, 0.012488506, 0.020997998, 0.003834394, 0.020466011, 0.007667652, 0.015074542, 0.021603566, 0.009294814, 0.011051979, 0.010736552, 0.015283572, 0.013610783, 0.003948628, 0.01968112, 0.018137575, 0.004686759, 0.011332317, 0.003731099, 0.006846578, 0.014821193, 0.009743745, 0.02086543, 0.010631399, 0.006232231, 0.011491448, 0.003665154, 0.007584123, 0.012801995, 0.00896487, 0.009542132, 0.015306557, 0.009227136, 0.021440356, 0.017459954, 0.005508152, 0.010176968, 0.010746586, 0.014195713, 0.01389758, 0.015675748, 0.010741299, 0.008417894, 0.021308336, 0.017759418, 0.01708663, 0.003892824, 0.021536958, 0.017815229, 0.004728884, 0.012394307, 0.004804571, 0.008911706, 0.023388608, 0.011178933, 0.011702884, 0.018951468, 0.006680311, 0.009492895, 0.023565315, 0.015451098, 0.014358004, 0.010581172, 0.005832642, 0.008884737, 0.011861267, 0.004188126, 0.022161001, 0.022496528, 0.015305184, 0.010517926, 0.003657188, 0.019931108, 0.023050546, 0.01005347, 0.023544573, 0.005141528, 0.022016583, 0.005618319, 0.007900269, 0.022844805, 0.005563953, 0.004876115, 0.01106363, 0.016287318, 0.017384537, 0.021234191, 0.003921262, 0.017465765, 0.015324175, 0.006877905, 0.00883628, 0.021805365, 0.007709122, 0.010457774, 0.004753063, 0.005587995, 0.005252385, 0.005963811, 0.020638672, 0.006754227, 0.004352377, 0.019207565, 0.006829548, 0.018073851, 0.008840139, 0.012417123, 0.006400776, 0.019954824, 0.008767779, 0.015548452, 0.021500784, 0.007601879, 0.015737032, 0.014564948, 0.02226576, 0.011133579, 0.007184223, 0.006406794, 0.003830902, 0.004144086], \"xaxis\": \"x\", \"y\": [4380.137432124372, 989.8581301444806, 729.8548346381315, 686.2221957113346, 658.067069556535, 619.8391535105301, 550.8943078141527, 533.6712313106733, 512.3762012958856, 496.6735285581009, 469.3478517413858, 463.6596776820204, 459.96573894217903, 447.83896126834605, 444.1598082035701, 434.0652029151432, 411.22573375135073, 399.19764615202183, 398.24868447564614, 391.7087762650683, 371.6139369164949, 359.37585916951286, 358.02028243135396, 349.9252874148124, 345.2821779239231, 339.23327055841855, 339.223076362488, 338.48895468270064, 320.06188400330825, 319.54579446119, 299.91412211039915, 295.1179419819515, 288.6242901536759, 285.2370026151991, 277.3825319080686, 272.0010863375874, 260.06452054921346, 259.4582437281568, 255.39075709922082, 253.1111771913202, 252.01462809943743, 247.78731135094904, 246.2789228105705, 246.04989819074444, 238.44963509022023, 232.74051826105946, 224.44365157304702, 220.0396762694141, 219.85420933886505, 217.99315670872883, 215.88865548755894, 210.97528945103025, 208.85779970856956, 195.71442114752253, 193.00393002372857, 189.18305419686206, 187.3085960159017, 185.44347499920792, 180.8690242443754, 176.80878541861233, 174.37821822084751, 173.52617994575647, 171.12013800684358, 170.89606682718627, 169.63824392943442, 169.3543099123493, 161.74296097101725, 159.77936426194648, 159.22683962164294, 158.74516300460348, 158.3848027940424, 150.8168632022441, 150.60148417516652, 148.11469284917834, 147.66967217186527, 144.7195816328844, 143.4013239889047, 143.0393502861037, 142.6800716685412, 139.73851698266736, 138.347829758617, 137.17395189599912, 136.91978285581507, 135.4231842304974, 135.24521212749968, 134.09917779628103, 130.28218940821768, 129.68865104236042, 128.29685498535474, 128.13054688055067, 124.89503758641519, 120.49099166808718, 120.18291573430275, 118.16816001400773, 117.74867500559273, 116.29830091716771, 112.82662491829034, 112.79409952635959, 111.40282615273203, 110.26019912239298, 108.77913436269887, 107.29902399654644, 103.10609122166208, 100.71137184703616, 98.77228791520912, 97.92754471375468, 94.56648890453748, 92.32550366633674, 90.20417914203335, 88.78530663579838, 88.58216777797676, 85.68342233965214, 83.19007205256831, 82.94989636412896, 81.10564681121437, 80.19528794676724, 79.51169907802355, 79.27580470833641, 78.7139926564546, 69.90154944679671, 69.8335495277551, 69.68911950154185, 68.07664111249777, 63.24159613324395, 61.30358026020892, 59.64439007393623, 59.39760036494206, 59.33030203003287, 57.107064668802586, 56.01362686010817, 55.96301152954464, 55.85660956628534, 55.79847523740152, 55.07639028339913, 54.374531729797376, 53.65839819527448, 51.10944404473766, 50.29597571825323, 49.85190795105094, 48.83273046277731, 48.68383223697946, 48.08122630033107, 47.909249207660636, 46.0753716890488, 44.98416141900166, 40.815865402009145, 38.619415841846426, 35.62404087367351, 33.89400921402294, 33.71179035067936, 33.45169638407488, 26.205312278266813, 25.84352113815581, 24.95330092365923, 11.821325623074946], \"yaxis\": \"y\"}, {\"hoverlabel\": {\"namelength\": 0}, \"hovertemplate\": \"Night Light Class=medium_intensity<br>Average Nighttime mean=%{x}<br>Population Density=%{y}\", \"legendgroup\": \"Night Light Class=medium_intensity\", \"marker\": {\"color\": \"#00cc96\", \"symbol\": \"circle\"}, \"mode\": \"markers\", \"name\": \"Night Light Class=medium_intensity\", \"showlegend\": true, \"type\": \"scatter\", \"x\": [0.064059928, 0.054400293, 0.066762695, 0.076361705, 0.03161456, 0.028767037, 0.041022885, 0.040870734, 0.042563712, 0.071719732, 0.037180685, 0.075540216, 0.050021276, 0.066904772, 0.03059015, 0.065169558, 0.03147369, 0.046022056, 0.078137443, 0.036815769, 0.077269192, 0.050037596, 0.053775774, 0.026322682, 0.06559927, 0.071290301, 0.057344632, 0.065894657, 0.040320758, 0.027952749, 0.065967039, 0.028508886, 0.070413168, 0.045941016, 0.055823364, 0.048184287, 0.045772358, 0.041086985, 0.047447849, 0.045997412, 0.040228858, 0.076452124, 0.025300614, 0.040189567, 0.04962264, 0.065590507, 0.061113066, 0.066863367, 0.027869753, 0.034061751, 0.036227422, 0.033132889, 0.060667726, 0.067298841, 0.035327126, 0.05544266, 0.064408266, 0.058930011, 0.031379888, 0.045389352, 0.073120282, 0.045216173, 0.045986765, 0.059491336, 0.043959673, 0.075567682, 0.044292758, 0.057987139, 0.067295457, 0.032899788, 0.062811582, 0.076645116, 0.049419155, 0.033905832, 0.02559372, 0.030714999, 0.037801035, 0.031721682, 0.058178824, 0.029921676, 0.07050635, 0.028031879, 0.04714199, 0.04940379, 0.038995213, 0.024439766, 0.024298963, 0.063429, 0.052676091, 0.042321667, 0.055515601, 0.050369954, 0.048984064, 0.078214685, 0.033690054, 0.034254173, 0.03064773, 0.024153636, 0.071203449, 0.044506, 0.069444562, 0.029357349, 0.03947657, 0.04616253, 0.02589991, 0.051949131, 0.03630422, 0.045567029, 0.029034565, 0.02799161, 0.043252227, 0.066191409, 0.042741826, 0.048653405, 0.029731711, 0.024232575, 0.037931336, 0.039891673, 0.044456519, 0.031419532, 0.032502759, 0.064341584, 0.036995951, 0.060148658, 0.025978269, 0.061246845, 0.078387333, 0.025346601, 0.024957585, 0.068156656, 0.056095672, 0.028429771, 0.065707029, 0.041003515, 0.028542665, 0.024132934, 0.074464021, 0.029360655, 0.030472279, 0.040151909, 0.057635126, 0.060392706, 0.041407033, 0.026310774, 0.024960018, 0.05564351, 0.028884437, 0.028189655, 0.033927456, 0.024488669, 0.076416368, 0.035148183, 0.025552605, 0.029720776], \"xaxis\": \"x\", \"y\": [2187.0666388645623, 2152.5448250154204, 1979.9028501238477, 1578.2394893407698, 1572.833868190815, 1543.970883698138, 902.126292434236, 899.9630796890963, 856.236047482634, 786.0113200800398, 732.1318182994137, 683.7467922872007, 659.9116806320409, 645.0967395278661, 643.021242887648, 640.6822248837685, 638.934996141435, 616.101988323062, 594.891804934188, 575.1631716536813, 566.2461744206058, 561.1959001300123, 552.6302502497145, 538.7052205605384, 528.6426274709886, 526.6836503386339, 514.8635912732159, 513.4095770281663, 510.09960450425706, 507.21020122770693, 501.6818602780574, 488.1306623624319, 481.968576295542, 472.9820369336971, 455.2022524529068, 452.12349187566014, 447.6831352327598, 443.6986910177094, 415.707243271761, 411.4434444228257, 401.88668377715925, 391.59393598190496, 391.043358267192, 386.06350329427806, 385.5852835560388, 382.8019497374264, 376.5571326465046, 371.7079139428823, 369.1104576544773, 365.31865714518324, 365.2555319025542, 363.7181310263721, 351.1109622370979, 349.1620828766141, 329.63432550866406, 327.83209310187584, 324.8956963493923, 322.9493946017949, 316.33116524013167, 310.81236949802076, 308.8081864988879, 295.110820408956, 292.11398844066997, 291.258241309663, 290.9909080254017, 290.8165424068861, 287.6184223870133, 287.5390768895267, 286.5318846891451, 282.5008111726039, 278.2107619869042, 274.42173553833356, 262.1252069225661, 260.75022762094494, 255.52162948714644, 246.0932033088137, 246.08040368674628, 238.70574328553158, 237.2993229269455, 234.4869979715074, 224.93423988274571, 224.25344855193543, 219.71088160684107, 219.03932652878822, 215.30924099013689, 214.68815817413565, 212.6886026573397, 209.67703784760218, 206.57443762463535, 206.56403065734762, 205.15578948778156, 204.52410045183458, 203.22045962592267, 202.26847192506904, 194.14426250698034, 192.44906016552676, 186.78009361719364, 185.3052192453794, 185.14285472195488, 182.67972673178784, 182.39774569222112, 182.2403406637308, 175.949613059828, 170.89754428164113, 167.43682788842094, 166.30268859102245, 160.37432264693263, 160.21248233891757, 151.8528052816541, 147.99793134772077, 146.36817048395665, 139.31889266298478, 139.158931010688, 137.17100970742607, 132.59486089597064, 132.3059163762878, 131.8999974675263, 125.69028497286948, 124.65328493380571, 116.40941630745883, 114.53646156300503, 113.85994911026833, 111.98487013931832, 108.29615356591434, 102.68861850763729, 102.03329561920641, 97.26085943160962, 97.17713206291248, 96.58902007909849, 80.37800764216894, 78.73493248708853, 78.12793929137936, 72.83185402049486, 71.65052589234706, 71.19833594643869, 70.25614631187796, 68.24691738425469, 68.03877852696392, 67.20800318070735, 65.96707429172768, 65.71971880260277, 62.63415689707034, 58.81302957195599, 53.41494595706756, 52.93088884128552, 52.75520654108463, 50.30255575193791, 49.79335537947989, 45.10219169124162, 42.692057137817244, 39.84990868229323, 36.96967732994634, 33.06411210516638, 21.079688445437128], \"yaxis\": \"y\"}, {\"hoverlabel\": {\"namelength\": 0}, \"hovertemplate\": \"Night Light Class=moderate_high_intensity<br>Average Nighttime mean=%{x}<br>Population Density=%{y}\", \"legendgroup\": \"Night Light Class=moderate_high_intensity\", \"marker\": {\"color\": \"#ab63fa\", \"symbol\": \"circle\"}, \"mode\": \"markers\", \"name\": \"Night Light Class=moderate_high_intensity\", \"showlegend\": true, \"type\": \"scatter\", \"x\": [0.152181353, 0.15513558, 0.127673201, 0.116433914, 0.204243191, 0.195530382, 0.112916536, 0.285748634, 0.239580589, 0.214189996, 0.096611405, 0.211202022, 0.180510884, 0.115274221, 0.322444508, 0.22380449, 0.208681138, 0.317454085, 0.139053909, 0.154241151, 0.341422325, 0.180776273, 0.324239776, 0.125718848, 0.259748834, 0.163842537, 0.217851515, 0.295962236, 0.204174102, 0.262089847, 0.343480582, 0.34917052, 0.347799107, 0.362878366, 0.212572162, 0.197329619, 0.185484249, 0.171310929, 0.367207778, 0.125491925, 0.147221981, 0.089842249, 0.143322189, 0.124624434, 0.369911881, 0.293841279, 0.168221299, 0.224203138, 0.149540675, 0.180882475, 0.087674097, 0.35875434, 0.197064379, 0.127468583, 0.108496155, 0.181411962, 0.189094947, 0.092533046, 0.233923664, 0.151236251, 0.111674583, 0.115684929, 0.135594163, 0.107655255, 0.148509336, 0.122230214, 0.309835355, 0.167478238, 0.229488988, 0.092989089, 0.17663915, 0.177722975, 0.104004888, 0.223607522, 0.079823097, 0.181553677, 0.306336106, 0.182331832, 0.244640878, 0.160966163, 0.133724988, 0.093119864, 0.325948581, 0.291504546, 0.088224568, 0.175979013, 0.22457231, 0.091655813, 0.147469807, 0.316810904, 0.145100359, 0.194968689, 0.099715636, 0.089510468, 0.262474626, 0.165993676, 0.294839581, 0.141788206, 0.240101098, 0.281158217, 0.118318925, 0.079271134, 0.170412631, 0.085942514, 0.080108531, 0.137059388, 0.096333457, 0.105352896, 0.178933778, 0.148015976, 0.084149852, 0.26924641, 0.086777175, 0.14078734, 0.209349406, 0.131874361, 0.268399037, 0.138578737, 0.13697183, 0.143101768, 0.105367528, 0.103517109, 0.087393344, 0.204100056, 0.235302567, 0.110020245, 0.095235451, 0.152083808, 0.338363098, 0.113357986, 0.361931511, 0.180126855, 0.178124013, 0.139311211, 0.102145753, 0.090163535, 0.145111351, 0.103958573, 0.124498362, 0.138789554, 0.081796843, 0.102413659, 0.126787441, 0.121517793, 0.120614301, 0.136935464, 0.262500319, 0.318002039, 0.078849888, 0.089187348, 0.124730925, 0.083018859, 0.093079366, 0.13905414, 0.2717315], \"xaxis\": \"x\", \"y\": [18788.37697117283, 4808.255365839846, 4248.437332750806, 4037.60788756917, 3152.9243731280476, 3061.613728690885, 2935.8854338737633, 2885.952290479206, 2682.4473973881745, 2659.6049916859574, 2523.7257646160556, 2520.7889358072084, 2419.835534091132, 2302.2122325148657, 2108.3074457326884, 2048.8606203509867, 1907.534287109716, 1906.9722295840547, 1898.425918702381, 1761.2627864749766, 1742.4510113367462, 1709.0509198668383, 1702.0311310794116, 1621.569677212094, 1612.55367013968, 1609.3556519079575, 1569.8801081947793, 1558.4369546434234, 1464.463982717989, 1425.9925752118104, 1406.6870177008313, 1303.7223630555584, 1260.5719773187814, 1208.954874965233, 1087.1358487777145, 1044.192294177624, 1023.6651910891392, 995.9003926864182, 970.8013399853888, 944.6003887879435, 924.2784179637171, 914.471633158692, 910.8206811843254, 845.6227599955698, 815.065158115597, 809.8696496408487, 775.8138031196445, 742.8053410612546, 742.6638778587434, 718.1908905975887, 689.0937151296356, 652.4596743939501, 638.6911780179782, 625.4736994628215, 618.7313351114614, 616.0366096217407, 607.556369232884, 599.4400446952748, 586.8577090144975, 586.7579290555659, 571.7318600551775, 565.6144488417834, 557.3697619122355, 539.5265628325973, 513.3517902802215, 497.59889883263185, 496.2115653238206, 477.7662551975832, 473.1480308233335, 461.977493454332, 461.8574247109718, 455.6098144519861, 449.33023214161545, 447.15520565112485, 439.4893355694216, 438.3051833630668, 434.8301401251432, 434.7344568187829, 430.37431409983134, 424.86265880981165, 418.00298856864885, 407.346468886638, 402.5785330868356, 396.34320480811306, 392.67326924494864, 391.11331334261087, 389.35355180585714, 388.71634390520944, 385.72185036670885, 383.5154113012289, 383.349793434569, 382.672416305046, 380.05966651431373, 379.0340301715766, 366.66680443131463, 355.9213543959798, 337.1338370430876, 334.2227513438449, 329.87081166028463, 328.6058497620666, 327.87837665126847, 325.4856429899741, 321.1901542400948, 319.65894159015096, 312.5239804785663, 310.84171796240287, 307.1576405770215, 302.31375637295395, 288.94343010835183, 273.711982815625, 269.4702256674589, 269.18633455246356, 261.4558361137061, 257.13665099169, 239.1356399101072, 238.83107628043402, 235.42277105353247, 230.10686065697024, 223.32586221303467, 222.4968399215392, 220.87058225247927, 211.57028920350615, 201.87464909755187, 191.34397854830993, 191.27428427568938, 189.81263991685887, 188.7304290517576, 180.84100716053777, 177.1223645835244, 177.02467500852902, 175.7454947297337, 175.24073055473704, 168.34279688473572, 167.5108075229188, 161.9719455372023, 157.16491179819735, 153.16540728393508, 152.12098419431152, 144.06465483353563, 140.8600229081231, 138.49261011559116, 133.99677997905064, 131.6953588437389, 128.63303617605393, 119.45676710355131, 119.00064500153293, 117.69628887061876, 115.98021399940743, 98.30081497054167, 86.80419839695949, 82.88527041172365, 78.9153508549038, 50.3207547408244, 30.971192198181264, 20.64364547597029], \"yaxis\": \"y\"}, {\"hoverlabel\": {\"namelength\": 0}, \"hovertemplate\": \"Night Light Class=high_intensity<br>Average Nighttime mean=%{x}<br>Population Density=%{y}\", \"legendgroup\": \"Night Light Class=high_intensity\", \"marker\": {\"color\": \"#FFA15A\", \"symbol\": \"circle\"}, \"mode\": \"markers\", \"name\": \"Night Light Class=high_intensity\", \"showlegend\": true, \"type\": \"scatter\", \"x\": [13.30747521, 17.91251811, 10.49726575, 1.657817825, 13.10961275, 6.349254606, 10.06471657, 9.339666849, 5.743507962, 3.422659343, 6.915155973, 11.51342767, 1.609625765, 11.659153, 20.16933113, 1.991615472, 8.809837562, 11.98190406, 3.289780336, 1.949728226, 3.147911307, 17.12913933, 8.81912905, 1.330278063, 4.958433186, 2.750379049, 18.56885596, 1.911886744, 1.197962579, 5.919052041, 3.772660545, 7.77297752, 2.189523394, 1.058845885, 0.589433046, 1.014361032, 1.170654683, 3.717411098, 0.99723155, 2.606165846, 10.04605972, 0.51445518, 3.441937134, 6.531496567, 2.044719931, 0.564478988, 1.735200881, 1.318323499, 0.908528456, 3.576643951, 0.449307069, 1.554438055, 0.759793082, 1.895001462, 2.214396498, 0.462934227, 4.537368395, 10.26324599, 1.160349655, 0.51273581, 4.695164342, 1.192634072, 0.697344461, 0.569081898, 0.584623202, 3.306997327, 0.494737345, 0.943519845, 2.536140166, 0.817090553, 0.507565908, 3.462541079, 0.546641386, 0.461907829, 0.713534257, 0.515042284, 5.323072439, 0.58375873, 1.729032384, 0.408804627, 0.67360109, 0.971216758, 0.65489554, 0.44490345, 0.907658277, 0.894234906, 0.797231575, 2.721918416, 1.433287957, 3.062904556, 0.505195252, 0.377408048, 0.649664022, 0.959274472, 0.57383655, 1.144924316, 1.679154988, 0.509253512, 0.55213616, 0.690908578, 0.959395849, 1.956087369, 1.959756607, 1.451075095, 0.690527704, 3.989982477, 0.61599334, 0.375856444, 0.399647855, 13.22123108, 0.558307875, 0.731387825, 2.59592938, 0.474322644, 1.340079762, 8.13349597, 0.608465127, 1.596521839, 0.519564873, 0.703103922, 1.263589689, 2.016389527, 0.434312463, 0.959377897, 0.462025449, 0.51707516, 0.844770538, 0.436601029, 5.645851799, 1.252819794, 0.370568918, 8.689126524, 0.660556368, 0.432009247, 0.443623346, 1.324913458, 28.57227675, 1.336557527, 6.084256737, 2.785135551, 2.551891865, 8.614411214, 12.58286894, 0.760767173, 0.635410104, 8.526271582, 1.585779594, 1.057892503, 0.852713931, 7.239749161, 10.69227345, 2.347948553, 2.413668445, 0.584901025, 2.05012709], \"xaxis\": \"x\", \"y\": [34682.18933641328, 33727.39946369421, 26983.476908544442, 20719.913642518615, 20165.96012538103, 19402.5249729383, 17463.033622926094, 14440.017564451357, 14047.791593386552, 13569.511923161846, 13350.08800709461, 12508.980442695107, 11897.05394450669, 11834.94176287257, 10553.753402024586, 9811.480523181624, 8840.767692994199, 8285.534211101398, 8087.9393441186785, 7436.03510199292, 7185.10234516576, 6724.028235396992, 6609.634059202894, 6565.156704124123, 6503.209183115398, 6416.03855132513, 6277.776808476184, 6128.9013039739575, 6013.242228563276, 5219.677819233448, 5217.215234315948, 5075.5987224061355, 5067.727305392468, 5051.427302201925, 4936.24812937063, 4843.117137849577, 4818.617578924685, 4742.005667353101, 4511.8264395570595, 4431.358583261729, 3850.7118110492565, 3748.985952106794, 3603.4817849177584, 3563.6967812478647, 3539.8159637405065, 3532.890984178319, 3508.6045038819557, 3494.694789594381, 3412.0039503124754, 3361.1027927381765, 3106.5798807884034, 3047.2541465408735, 2898.939584781909, 2884.7479086320322, 2877.5105035169213, 2558.0910995456625, 2479.891270236549, 2450.966841548299, 2413.229156730714, 2303.0860269532745, 2204.579593268585, 2203.7500242457468, 2176.271828349815, 2041.673633262849, 1986.4538193501676, 1977.1217684794847, 1932.8023523949146, 1931.6040438635791, 1917.0654005085823, 1888.547999573283, 1864.0747346771961, 1676.1131880357004, 1672.3853634813893, 1665.7321375699973, 1596.0021163296665, 1554.204381809702, 1476.6005312359353, 1473.6271255812624, 1465.8723606141975, 1461.1833863211175, 1436.4509396106243, 1417.4311332365103, 1332.823433849615, 1311.3147947777113, 1309.457734524413, 1284.975440002633, 1238.0954333815669, 1223.340849963514, 1214.646342440276, 1206.7794465470695, 1178.2553223009106, 1149.6713078608211, 1135.9087536820148, 1095.8067458283892, 991.1887213257241, 982.3511645497359, 889.9455223962614, 889.1077394048829, 864.8880903770961, 857.724096549436, 806.1681454228403, 745.2085577071947, 728.07468438455, 648.3520305227961, 643.0101519363933, 623.6147412127925, 620.2000165958101, 578.1222341839986, 563.4101363444173, 552.1388155620502, 551.2788703165975, 544.5783127465659, 538.9831697083735, 533.1355880704446, 464.9966009434233, 463.7480425383757, 456.50240251729986, 406.0445409649715, 401.4894939371226, 398.0094242756265, 385.31865074057777, 384.0739002428384, 376.09753823402104, 364.2347234390714, 350.5550245666416, 299.29982307823764, 298.5557615656677, 298.4612662853786, 291.69970883007176, 287.6351761847957, 270.6767905883343, 268.98118379942696, 265.5911964397637, 263.984901765075, 228.41584034802617, 224.93884749571282, 207.24681956856918, 204.96437864465594, 200.10009084714966, 187.16212770408805, 166.1779927627772, 165.5853963875185, 162.7934689313209, 109.44038399185813, 100.75968502906822, 63.883040279580314, 61.48867328515956, 54.916992391946025, 51.7139736814987, 37.03283549210871, 34.03666086005862, 32.64369472508694, 29.258053092351517, 20.1933696885978, 4.368622007944053], \"yaxis\": \"y\"}],\n",
              "                        {\"legend\": {\"tracegroupgap\": 0}, \"margin\": {\"t\": 60}, \"template\": {\"data\": {\"bar\": [{\"error_x\": {\"color\": \"#2a3f5f\"}, \"error_y\": {\"color\": \"#2a3f5f\"}, \"marker\": {\"line\": {\"color\": \"#E5ECF6\", \"width\": 0.5}}, \"type\": \"bar\"}], \"barpolar\": [{\"marker\": {\"line\": {\"color\": \"#E5ECF6\", \"width\": 0.5}}, \"type\": \"barpolar\"}], \"carpet\": [{\"aaxis\": {\"endlinecolor\": \"#2a3f5f\", \"gridcolor\": \"white\", \"linecolor\": \"white\", \"minorgridcolor\": \"white\", \"startlinecolor\": \"#2a3f5f\"}, \"baxis\": {\"endlinecolor\": \"#2a3f5f\", \"gridcolor\": \"white\", \"linecolor\": \"white\", \"minorgridcolor\": \"white\", \"startlinecolor\": \"#2a3f5f\"}, \"type\": \"carpet\"}], \"choropleth\": [{\"colorbar\": {\"outlinewidth\": 0, \"ticks\": \"\"}, \"type\": \"choropleth\"}], \"contour\": [{\"colorbar\": {\"outlinewidth\": 0, \"ticks\": \"\"}, \"colorscale\": [[0.0, \"#0d0887\"], [0.1111111111111111, \"#46039f\"], [0.2222222222222222, \"#7201a8\"], [0.3333333333333333, \"#9c179e\"], [0.4444444444444444, \"#bd3786\"], [0.5555555555555556, \"#d8576b\"], [0.6666666666666666, \"#ed7953\"], [0.7777777777777778, \"#fb9f3a\"], [0.8888888888888888, \"#fdca26\"], [1.0, \"#f0f921\"]], \"type\": \"contour\"}], \"contourcarpet\": [{\"colorbar\": {\"outlinewidth\": 0, \"ticks\": \"\"}, \"type\": \"contourcarpet\"}], \"heatmap\": [{\"colorbar\": {\"outlinewidth\": 0, \"ticks\": \"\"}, \"colorscale\": [[0.0, \"#0d0887\"], [0.1111111111111111, \"#46039f\"], [0.2222222222222222, \"#7201a8\"], [0.3333333333333333, \"#9c179e\"], [0.4444444444444444, \"#bd3786\"], [0.5555555555555556, \"#d8576b\"], [0.6666666666666666, \"#ed7953\"], [0.7777777777777778, \"#fb9f3a\"], [0.8888888888888888, \"#fdca26\"], [1.0, \"#f0f921\"]], \"type\": \"heatmap\"}], \"heatmapgl\": [{\"colorbar\": {\"outlinewidth\": 0, \"ticks\": \"\"}, \"colorscale\": [[0.0, \"#0d0887\"], [0.1111111111111111, \"#46039f\"], [0.2222222222222222, \"#7201a8\"], [0.3333333333333333, \"#9c179e\"], [0.4444444444444444, \"#bd3786\"], [0.5555555555555556, \"#d8576b\"], [0.6666666666666666, \"#ed7953\"], [0.7777777777777778, \"#fb9f3a\"], [0.8888888888888888, \"#fdca26\"], [1.0, \"#f0f921\"]], \"type\": \"heatmapgl\"}], \"histogram\": [{\"marker\": {\"colorbar\": {\"outlinewidth\": 0, \"ticks\": \"\"}}, \"type\": \"histogram\"}], \"histogram2d\": [{\"colorbar\": {\"outlinewidth\": 0, \"ticks\": \"\"}, \"colorscale\": [[0.0, \"#0d0887\"], [0.1111111111111111, \"#46039f\"], [0.2222222222222222, \"#7201a8\"], [0.3333333333333333, \"#9c179e\"], [0.4444444444444444, \"#bd3786\"], [0.5555555555555556, \"#d8576b\"], [0.6666666666666666, \"#ed7953\"], [0.7777777777777778, \"#fb9f3a\"], [0.8888888888888888, \"#fdca26\"], [1.0, \"#f0f921\"]], \"type\": \"histogram2d\"}], \"histogram2dcontour\": [{\"colorbar\": {\"outlinewidth\": 0, \"ticks\": \"\"}, \"colorscale\": [[0.0, \"#0d0887\"], [0.1111111111111111, \"#46039f\"], [0.2222222222222222, \"#7201a8\"], [0.3333333333333333, \"#9c179e\"], [0.4444444444444444, \"#bd3786\"], [0.5555555555555556, \"#d8576b\"], [0.6666666666666666, \"#ed7953\"], [0.7777777777777778, \"#fb9f3a\"], [0.8888888888888888, \"#fdca26\"], [1.0, \"#f0f921\"]], \"type\": \"histogram2dcontour\"}], \"mesh3d\": [{\"colorbar\": {\"outlinewidth\": 0, \"ticks\": \"\"}, \"type\": \"mesh3d\"}], \"parcoords\": [{\"line\": {\"colorbar\": {\"outlinewidth\": 0, \"ticks\": \"\"}}, \"type\": \"parcoords\"}], \"pie\": [{\"automargin\": true, \"type\": \"pie\"}], \"scatter\": [{\"marker\": {\"colorbar\": {\"outlinewidth\": 0, \"ticks\": \"\"}}, \"type\": \"scatter\"}], \"scatter3d\": [{\"line\": {\"colorbar\": {\"outlinewidth\": 0, \"ticks\": \"\"}}, \"marker\": {\"colorbar\": {\"outlinewidth\": 0, \"ticks\": \"\"}}, \"type\": \"scatter3d\"}], \"scattercarpet\": [{\"marker\": {\"colorbar\": {\"outlinewidth\": 0, \"ticks\": \"\"}}, \"type\": \"scattercarpet\"}], \"scattergeo\": [{\"marker\": {\"colorbar\": {\"outlinewidth\": 0, \"ticks\": \"\"}}, \"type\": \"scattergeo\"}], \"scattergl\": [{\"marker\": {\"colorbar\": {\"outlinewidth\": 0, \"ticks\": \"\"}}, \"type\": \"scattergl\"}], \"scattermapbox\": [{\"marker\": {\"colorbar\": {\"outlinewidth\": 0, \"ticks\": \"\"}}, \"type\": \"scattermapbox\"}], \"scatterpolar\": [{\"marker\": {\"colorbar\": {\"outlinewidth\": 0, \"ticks\": \"\"}}, \"type\": \"scatterpolar\"}], \"scatterpolargl\": [{\"marker\": {\"colorbar\": {\"outlinewidth\": 0, \"ticks\": \"\"}}, \"type\": \"scatterpolargl\"}], \"scatterternary\": [{\"marker\": {\"colorbar\": {\"outlinewidth\": 0, \"ticks\": \"\"}}, \"type\": \"scatterternary\"}], \"surface\": [{\"colorbar\": {\"outlinewidth\": 0, \"ticks\": \"\"}, \"colorscale\": [[0.0, \"#0d0887\"], [0.1111111111111111, \"#46039f\"], [0.2222222222222222, \"#7201a8\"], [0.3333333333333333, \"#9c179e\"], [0.4444444444444444, \"#bd3786\"], [0.5555555555555556, \"#d8576b\"], [0.6666666666666666, \"#ed7953\"], [0.7777777777777778, \"#fb9f3a\"], [0.8888888888888888, \"#fdca26\"], [1.0, \"#f0f921\"]], \"type\": \"surface\"}], \"table\": [{\"cells\": {\"fill\": {\"color\": \"#EBF0F8\"}, \"line\": {\"color\": \"white\"}}, \"header\": {\"fill\": {\"color\": \"#C8D4E3\"}, \"line\": {\"color\": \"white\"}}, \"type\": \"table\"}]}, \"layout\": {\"annotationdefaults\": {\"arrowcolor\": \"#2a3f5f\", \"arrowhead\": 0, \"arrowwidth\": 1}, \"coloraxis\": {\"colorbar\": {\"outlinewidth\": 0, \"ticks\": \"\"}}, \"colorscale\": {\"diverging\": [[0, \"#8e0152\"], [0.1, \"#c51b7d\"], [0.2, \"#de77ae\"], [0.3, \"#f1b6da\"], [0.4, \"#fde0ef\"], [0.5, \"#f7f7f7\"], [0.6, \"#e6f5d0\"], [0.7, \"#b8e186\"], [0.8, \"#7fbc41\"], [0.9, \"#4d9221\"], [1, \"#276419\"]], \"sequential\": [[0.0, \"#0d0887\"], [0.1111111111111111, \"#46039f\"], [0.2222222222222222, \"#7201a8\"], [0.3333333333333333, \"#9c179e\"], [0.4444444444444444, \"#bd3786\"], [0.5555555555555556, \"#d8576b\"], [0.6666666666666666, \"#ed7953\"], [0.7777777777777778, \"#fb9f3a\"], [0.8888888888888888, \"#fdca26\"], [1.0, \"#f0f921\"]], \"sequentialminus\": [[0.0, \"#0d0887\"], [0.1111111111111111, \"#46039f\"], [0.2222222222222222, \"#7201a8\"], [0.3333333333333333, \"#9c179e\"], [0.4444444444444444, \"#bd3786\"], [0.5555555555555556, \"#d8576b\"], [0.6666666666666666, \"#ed7953\"], [0.7777777777777778, \"#fb9f3a\"], [0.8888888888888888, \"#fdca26\"], [1.0, \"#f0f921\"]]}, \"colorway\": [\"#636efa\", \"#EF553B\", \"#00cc96\", \"#ab63fa\", \"#FFA15A\", \"#19d3f3\", \"#FF6692\", \"#B6E880\", \"#FF97FF\", \"#FECB52\"], \"font\": {\"color\": \"#2a3f5f\"}, \"geo\": {\"bgcolor\": \"white\", \"lakecolor\": \"white\", \"landcolor\": \"#E5ECF6\", \"showlakes\": true, \"showland\": true, \"subunitcolor\": \"white\"}, \"hoverlabel\": {\"align\": \"left\"}, \"hovermode\": \"closest\", \"mapbox\": {\"style\": \"light\"}, \"paper_bgcolor\": \"white\", \"plot_bgcolor\": \"#E5ECF6\", \"polar\": {\"angularaxis\": {\"gridcolor\": \"white\", \"linecolor\": \"white\", \"ticks\": \"\"}, \"bgcolor\": \"#E5ECF6\", \"radialaxis\": {\"gridcolor\": \"white\", \"linecolor\": \"white\", \"ticks\": \"\"}}, \"scene\": {\"xaxis\": {\"backgroundcolor\": \"#E5ECF6\", \"gridcolor\": \"white\", \"gridwidth\": 2, \"linecolor\": \"white\", \"showbackground\": true, \"ticks\": \"\", \"zerolinecolor\": \"white\"}, \"yaxis\": {\"backgroundcolor\": \"#E5ECF6\", \"gridcolor\": \"white\", \"gridwidth\": 2, \"linecolor\": \"white\", \"showbackground\": true, \"ticks\": \"\", \"zerolinecolor\": \"white\"}, \"zaxis\": {\"backgroundcolor\": \"#E5ECF6\", \"gridcolor\": \"white\", \"gridwidth\": 2, \"linecolor\": \"white\", \"showbackground\": true, \"ticks\": \"\", \"zerolinecolor\": \"white\"}}, \"shapedefaults\": {\"line\": {\"color\": \"#2a3f5f\"}}, \"ternary\": {\"aaxis\": {\"gridcolor\": \"white\", \"linecolor\": \"white\", \"ticks\": \"\"}, \"baxis\": {\"gridcolor\": \"white\", \"linecolor\": \"white\", \"ticks\": \"\"}, \"bgcolor\": \"#E5ECF6\", \"caxis\": {\"gridcolor\": \"white\", \"linecolor\": \"white\", \"ticks\": \"\"}}, \"title\": {\"x\": 0.05}, \"xaxis\": {\"automargin\": true, \"gridcolor\": \"white\", \"linecolor\": \"white\", \"ticks\": \"\", \"title\": {\"standoff\": 15}, \"zerolinecolor\": \"white\", \"zerolinewidth\": 2}, \"yaxis\": {\"automargin\": true, \"gridcolor\": \"white\", \"linecolor\": \"white\", \"ticks\": \"\", \"title\": {\"standoff\": 15}, \"zerolinecolor\": \"white\", \"zerolinewidth\": 2}}}, \"xaxis\": {\"anchor\": \"y\", \"domain\": [0.0, 1.0], \"title\": {\"text\": \"Average Nighttime mean\"}}, \"yaxis\": {\"anchor\": \"x\", \"domain\": [0.0, 1.0], \"title\": {\"text\": \"Population Density\"}}},\n",
              "                        {\"responsive\": true}\n",
              "                    ).then(function(){\n",
              "                            \n",
              "var gd = document.getElementById('d70f4f85-037a-414f-905e-19559500f53a');\n",
              "var x = new MutationObserver(function (mutations, observer) {{\n",
              "        var display = window.getComputedStyle(gd).display;\n",
              "        if (!display || display === 'none') {{\n",
              "            console.log([gd, 'removed!']);\n",
              "            Plotly.purge(gd);\n",
              "            observer.disconnect();\n",
              "        }}\n",
              "}});\n",
              "\n",
              "// Listen for the removal of the full notebook cells\n",
              "var notebookContainer = gd.closest('#notebook-container');\n",
              "if (notebookContainer) {{\n",
              "    x.observe(notebookContainer, {childList: true});\n",
              "}}\n",
              "\n",
              "// Listen for the clearing of the current output cell\n",
              "var outputEl = gd.closest('.output');\n",
              "if (outputEl) {{\n",
              "    x.observe(outputEl, {childList: true});\n",
              "}}\n",
              "\n",
              "                        })\n",
              "                };\n",
              "                \n",
              "            </script>\n",
              "        </div>\n",
              "</body>\n",
              "</html>"
            ]
          },
          "metadata": {
            "tags": []
          }
        }
      ]
    },
    {
      "cell_type": "code",
      "metadata": {
        "id": "P4NZpPorrW24"
      },
      "source": [
        ""
      ],
      "id": "P4NZpPorrW24",
      "execution_count": 27,
      "outputs": []
    }
  ]
}