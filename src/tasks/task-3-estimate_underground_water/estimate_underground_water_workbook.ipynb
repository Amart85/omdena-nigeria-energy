{
 "cells": [
  {
   "cell_type": "markdown",
   "metadata": {},
   "source": [
    "#### Import relevant libraries"
   ]
  },
  {
   "cell_type": "code",
   "execution_count": 1,
   "metadata": {},
   "outputs": [],
   "source": [
    "import pandas as pd\n",
    "import numpy as np\n",
    "import matplotlib.pyplot as plt\n",
    "from sklearn.cluster import KMeans\n",
    "import seaborn as sns"
   ]
  },
  {
   "cell_type": "markdown",
   "metadata": {},
   "source": [
    "#### import water data"
   ]
  },
  {
   "cell_type": "code",
   "execution_count": 2,
   "metadata": {},
   "outputs": [
    {
     "data": {
      "text/html": [
       "<div>\n",
       "<style scoped>\n",
       "    .dataframe tbody tr th:only-of-type {\n",
       "        vertical-align: middle;\n",
       "    }\n",
       "\n",
       "    .dataframe tbody tr th {\n",
       "        vertical-align: top;\n",
       "    }\n",
       "\n",
       "    .dataframe thead th {\n",
       "        text-align: right;\n",
       "    }\n",
       "</style>\n",
       "<table border=\"1\" class=\"dataframe\">\n",
       "  <thead>\n",
       "    <tr style=\"text-align: right;\">\n",
       "      <th></th>\n",
       "      <th>water_point_type</th>\n",
       "      <th>YEAR of Survey</th>\n",
       "      <th>community</th>\n",
       "      <th>breakdown</th>\n",
       "      <th>lift_mechanism</th>\n",
       "      <th>sector</th>\n",
       "      <th>facility_name</th>\n",
       "      <th>unique</th>\n",
       "      <th>lga</th>\n",
       "      <th>latitude</th>\n",
       "      <th>longitude</th>\n",
       "      <th>Unnamed: 11</th>\n",
       "    </tr>\n",
       "  </thead>\n",
       "  <tbody>\n",
       "    <tr>\n",
       "      <th>0</th>\n",
       "      <td>Tap</td>\n",
       "      <td>2012</td>\n",
       "      <td>Ohazu Egbelu</td>\n",
       "      <td>Functional</td>\n",
       "      <td>NaN</td>\n",
       "      <td>water</td>\n",
       "      <td>Water Point</td>\n",
       "      <td>abia</td>\n",
       "      <td>aba</td>\n",
       "      <td>5.084141</td>\n",
       "      <td>7.344743</td>\n",
       "      <td>NaN</td>\n",
       "    </tr>\n",
       "    <tr>\n",
       "      <th>1</th>\n",
       "      <td>Tap</td>\n",
       "      <td>2012</td>\n",
       "      <td>Eziukwu</td>\n",
       "      <td>Functional</td>\n",
       "      <td>NaN</td>\n",
       "      <td>water</td>\n",
       "      <td>Water Point</td>\n",
       "      <td>abia</td>\n",
       "      <td>aba</td>\n",
       "      <td>5.110569</td>\n",
       "      <td>7.364257</td>\n",
       "      <td>NaN</td>\n",
       "    </tr>\n",
       "    <tr>\n",
       "      <th>2</th>\n",
       "      <td>Tap</td>\n",
       "      <td>2012</td>\n",
       "      <td>Egbelu Ohazu</td>\n",
       "      <td>Functional</td>\n",
       "      <td>NaN</td>\n",
       "      <td>water</td>\n",
       "      <td>Water Point</td>\n",
       "      <td>abia</td>\n",
       "      <td>aba</td>\n",
       "      <td>5.084135</td>\n",
       "      <td>7.344219</td>\n",
       "      <td>NaN</td>\n",
       "    </tr>\n",
       "    <tr>\n",
       "      <th>3</th>\n",
       "      <td>Tap</td>\n",
       "      <td>2012</td>\n",
       "      <td>Eziukwu Aba</td>\n",
       "      <td>Functional</td>\n",
       "      <td>NaN</td>\n",
       "      <td>water</td>\n",
       "      <td>Water Point</td>\n",
       "      <td>abia</td>\n",
       "      <td>aba</td>\n",
       "      <td>5.108267</td>\n",
       "      <td>7.361805</td>\n",
       "      <td>NaN</td>\n",
       "    </tr>\n",
       "    <tr>\n",
       "      <th>4</th>\n",
       "      <td>Tap</td>\n",
       "      <td>2012</td>\n",
       "      <td>Eziukwu Aba</td>\n",
       "      <td>Functional</td>\n",
       "      <td>NaN</td>\n",
       "      <td>water</td>\n",
       "      <td>Water Point</td>\n",
       "      <td>abia</td>\n",
       "      <td>aba</td>\n",
       "      <td>5.098391</td>\n",
       "      <td>7.344580</td>\n",
       "      <td>NaN</td>\n",
       "    </tr>\n",
       "  </tbody>\n",
       "</table>\n",
       "</div>"
      ],
      "text/plain": [
       "  water_point_type  YEAR of Survey     community   breakdown lift_mechanism  \\\n",
       "0              Tap            2012  Ohazu Egbelu  Functional            NaN   \n",
       "1              Tap            2012       Eziukwu  Functional            NaN   \n",
       "2              Tap            2012  Egbelu Ohazu  Functional            NaN   \n",
       "3              Tap            2012   Eziukwu Aba  Functional            NaN   \n",
       "4              Tap            2012   Eziukwu Aba  Functional            NaN   \n",
       "\n",
       "  sector facility_name unique  lga  latitude  longitude Unnamed: 11  \n",
       "0  water   Water Point   abia  aba  5.084141   7.344743         NaN  \n",
       "1  water   Water Point   abia  aba  5.110569   7.364257         NaN  \n",
       "2  water   Water Point   abia  aba  5.084135   7.344219         NaN  \n",
       "3  water   Water Point   abia  aba  5.108267   7.361805         NaN  \n",
       "4  water   Water Point   abia  aba  5.098391   7.344580         NaN  "
      ]
     },
     "execution_count": 2,
     "metadata": {},
     "output_type": "execute_result"
    }
   ],
   "source": [
    "excel_water_data = pd.ExcelFile(\"Nigeria_water_data.xlsx\")\n",
    "water_data = excel_water_data.parse(\"water_data\")\n",
    "water_data.head()"
   ]
  },
  {
   "cell_type": "markdown",
   "metadata": {},
   "source": [
    "## Data Cleaning"
   ]
  },
  {
   "cell_type": "code",
   "execution_count": 3,
   "metadata": {},
   "outputs": [],
   "source": [
    "#think some columns here are unnecessary... might still drop some later\n",
    "#but dropping these should do for now\n",
    "water_data = water_data.drop([\"Unnamed: 11\",\"community\",\"sector\",\"facility_name\",\"lift_mechanism\"],axis = 1)\n"
   ]
  },
  {
   "cell_type": "code",
   "execution_count": 4,
   "metadata": {},
   "outputs": [],
   "source": [
    "# change unique to State\n",
    "water_data = water_data.rename({\"unique\":\"State\"},axis=1)"
   ]
  },
  {
   "cell_type": "code",
   "execution_count": 5,
   "metadata": {},
   "outputs": [
    {
     "data": {
      "text/html": [
       "<div>\n",
       "<style scoped>\n",
       "    .dataframe tbody tr th:only-of-type {\n",
       "        vertical-align: middle;\n",
       "    }\n",
       "\n",
       "    .dataframe tbody tr th {\n",
       "        vertical-align: top;\n",
       "    }\n",
       "\n",
       "    .dataframe thead th {\n",
       "        text-align: right;\n",
       "    }\n",
       "</style>\n",
       "<table border=\"1\" class=\"dataframe\">\n",
       "  <thead>\n",
       "    <tr style=\"text-align: right;\">\n",
       "      <th></th>\n",
       "      <th>water_point_type</th>\n",
       "      <th>YEAR of Survey</th>\n",
       "      <th>breakdown</th>\n",
       "      <th>State</th>\n",
       "      <th>lga</th>\n",
       "      <th>latitude</th>\n",
       "      <th>longitude</th>\n",
       "    </tr>\n",
       "  </thead>\n",
       "  <tbody>\n",
       "    <tr>\n",
       "      <th>count</th>\n",
       "      <td>132057</td>\n",
       "      <td>132510.000000</td>\n",
       "      <td>131554</td>\n",
       "      <td>132510</td>\n",
       "      <td>132510</td>\n",
       "      <td>132510.000000</td>\n",
       "      <td>132510.000000</td>\n",
       "    </tr>\n",
       "    <tr>\n",
       "      <th>unique</th>\n",
       "      <td>12</td>\n",
       "      <td>NaN</td>\n",
       "      <td>8</td>\n",
       "      <td>37</td>\n",
       "      <td>620</td>\n",
       "      <td>NaN</td>\n",
       "      <td>NaN</td>\n",
       "    </tr>\n",
       "    <tr>\n",
       "      <th>top</th>\n",
       "      <td>Tap</td>\n",
       "      <td>NaN</td>\n",
       "      <td>Functional</td>\n",
       "      <td>jigawa</td>\n",
       "      <td>river</td>\n",
       "      <td>NaN</td>\n",
       "      <td>NaN</td>\n",
       "    </tr>\n",
       "    <tr>\n",
       "      <th>freq</th>\n",
       "      <td>44907</td>\n",
       "      <td>NaN</td>\n",
       "      <td>84460</td>\n",
       "      <td>11467</td>\n",
       "      <td>3109</td>\n",
       "      <td>NaN</td>\n",
       "      <td>NaN</td>\n",
       "    </tr>\n",
       "    <tr>\n",
       "      <th>mean</th>\n",
       "      <td>NaN</td>\n",
       "      <td>2011.840201</td>\n",
       "      <td>NaN</td>\n",
       "      <td>NaN</td>\n",
       "      <td>NaN</td>\n",
       "      <td>9.272408</td>\n",
       "      <td>7.197793</td>\n",
       "    </tr>\n",
       "    <tr>\n",
       "      <th>std</th>\n",
       "      <td>NaN</td>\n",
       "      <td>0.405879</td>\n",
       "      <td>NaN</td>\n",
       "      <td>NaN</td>\n",
       "      <td>NaN</td>\n",
       "      <td>2.625872</td>\n",
       "      <td>2.337404</td>\n",
       "    </tr>\n",
       "    <tr>\n",
       "      <th>min</th>\n",
       "      <td>NaN</td>\n",
       "      <td>2009.000000</td>\n",
       "      <td>NaN</td>\n",
       "      <td>NaN</td>\n",
       "      <td>NaN</td>\n",
       "      <td>4.282018</td>\n",
       "      <td>2.706824</td>\n",
       "    </tr>\n",
       "    <tr>\n",
       "      <th>25%</th>\n",
       "      <td>NaN</td>\n",
       "      <td>2012.000000</td>\n",
       "      <td>NaN</td>\n",
       "      <td>NaN</td>\n",
       "      <td>NaN</td>\n",
       "      <td>7.182107</td>\n",
       "      <td>5.183902</td>\n",
       "    </tr>\n",
       "    <tr>\n",
       "      <th>50%</th>\n",
       "      <td>NaN</td>\n",
       "      <td>2012.000000</td>\n",
       "      <td>NaN</td>\n",
       "      <td>NaN</td>\n",
       "      <td>NaN</td>\n",
       "      <td>9.017254</td>\n",
       "      <td>7.318745</td>\n",
       "    </tr>\n",
       "    <tr>\n",
       "      <th>75%</th>\n",
       "      <td>NaN</td>\n",
       "      <td>2012.000000</td>\n",
       "      <td>NaN</td>\n",
       "      <td>NaN</td>\n",
       "      <td>NaN</td>\n",
       "      <td>11.919237</td>\n",
       "      <td>8.744324</td>\n",
       "    </tr>\n",
       "    <tr>\n",
       "      <th>max</th>\n",
       "      <td>NaN</td>\n",
       "      <td>2012.000000</td>\n",
       "      <td>NaN</td>\n",
       "      <td>NaN</td>\n",
       "      <td>NaN</td>\n",
       "      <td>13.829095</td>\n",
       "      <td>14.669870</td>\n",
       "    </tr>\n",
       "  </tbody>\n",
       "</table>\n",
       "</div>"
      ],
      "text/plain": [
       "       water_point_type  YEAR of Survey   breakdown   State     lga  \\\n",
       "count            132057   132510.000000      131554  132510  132510   \n",
       "unique               12             NaN           8      37     620   \n",
       "top                 Tap             NaN  Functional  jigawa   river   \n",
       "freq              44907             NaN       84460   11467    3109   \n",
       "mean                NaN     2011.840201         NaN     NaN     NaN   \n",
       "std                 NaN        0.405879         NaN     NaN     NaN   \n",
       "min                 NaN     2009.000000         NaN     NaN     NaN   \n",
       "25%                 NaN     2012.000000         NaN     NaN     NaN   \n",
       "50%                 NaN     2012.000000         NaN     NaN     NaN   \n",
       "75%                 NaN     2012.000000         NaN     NaN     NaN   \n",
       "max                 NaN     2012.000000         NaN     NaN     NaN   \n",
       "\n",
       "             latitude      longitude  \n",
       "count   132510.000000  132510.000000  \n",
       "unique            NaN            NaN  \n",
       "top               NaN            NaN  \n",
       "freq              NaN            NaN  \n",
       "mean         9.272408       7.197793  \n",
       "std          2.625872       2.337404  \n",
       "min          4.282018       2.706824  \n",
       "25%          7.182107       5.183902  \n",
       "50%          9.017254       7.318745  \n",
       "75%         11.919237       8.744324  \n",
       "max         13.829095      14.669870  "
      ]
     },
     "execution_count": 5,
     "metadata": {},
     "output_type": "execute_result"
    }
   ],
   "source": [
    "water_data.describe(include=\"all\")"
   ]
  },
  {
   "cell_type": "code",
   "execution_count": 6,
   "metadata": {},
   "outputs": [
    {
     "data": {
      "text/plain": [
       "water_point_type    453\n",
       "YEAR of Survey        0\n",
       "breakdown           956\n",
       "State                 0\n",
       "lga                   0\n",
       "latitude              0\n",
       "longitude             0\n",
       "dtype: int64"
      ]
     },
     "execution_count": 6,
     "metadata": {},
     "output_type": "execute_result"
    }
   ],
   "source": [
    "water_data.isna().sum()"
   ]
  },
  {
   "cell_type": "code",
   "execution_count": 7,
   "metadata": {},
   "outputs": [
    {
     "data": {
      "text/plain": [
       "water_point_type        12\n",
       "YEAR of Survey           4\n",
       "breakdown                8\n",
       "State                   37\n",
       "lga                    620\n",
       "latitude            129984\n",
       "longitude           130152\n",
       "dtype: int64"
      ]
     },
     "execution_count": 7,
     "metadata": {},
     "output_type": "execute_result"
    }
   ],
   "source": [
    "water_data.nunique()"
   ]
  },
  {
   "cell_type": "markdown",
   "metadata": {},
   "source": [
    "## EDA"
   ]
  },
  {
   "cell_type": "code",
   "execution_count": null,
   "metadata": {},
   "outputs": [],
   "source": []
  },
  {
   "cell_type": "code",
   "execution_count": 8,
   "metadata": {},
   "outputs": [
    {
     "data": {
      "text/plain": [
       "Tap                                       44907\n",
       "Borehole                                  28123\n",
       "Unimproved Well                           26793\n",
       "Handpump                                  15966\n",
       "Unimproved                                 6185\n",
       "Overhead Tank                              4223\n",
       "Don't Know                                 3621\n",
       "Unimproved Large Diameter Well             1291\n",
       "Untreated Surface Water                     495\n",
       "Unprotected Spring                          410\n",
       "Unimproved Rainwater Harvesting System       24\n",
       "Rainwater Harvesting System                  19\n",
       "Name: water_point_type, dtype: int64"
      ]
     },
     "execution_count": 8,
     "metadata": {},
     "output_type": "execute_result"
    }
   ],
   "source": [
    "# I think there should be a relationship between the two categorcal variables\n",
    "#  breakdown and water_point_type\n",
    "water_data.water_point_type.value_counts()"
   ]
  },
  {
   "cell_type": "code",
   "execution_count": 9,
   "metadata": {},
   "outputs": [
    {
     "data": {
      "text/plain": [
       "Functional            84460\n",
       "Mechanical Issue      23479\n",
       "Poorly Constructed     6842\n",
       "Dry Well               4667\n",
       "Don't Know             4574\n",
       "Under Construction     4299\n",
       "Poor Water Quality     3069\n",
       "Other                   164\n",
       "Name: breakdown, dtype: int64"
      ]
     },
     "execution_count": 9,
     "metadata": {},
     "output_type": "execute_result"
    }
   ],
   "source": [
    "water_data.breakdown.value_counts()"
   ]
  },
  {
   "cell_type": "code",
   "execution_count": 10,
   "metadata": {},
   "outputs": [],
   "source": [
    "#reduce unique values\n",
    "# going to replace some of the above values with a more general term as I feel\n",
    "# they are almost the same thing\n",
    "water_data.water_point_type = water_data.water_point_type.replace(dict.fromkeys([\"Unimproved Well\",\"Unimproved Large Diameter Well\",\"Untreated Surface Water\",\n",
    "                                                                                 \"Unprotected Spring\",\"Unimproved Rainwater Harvesting System\",\n",
    "                                                                                 \"Rainwater Harvesting System\"],\"Unimproved\"))\n",
    "# creating more NaN values as these values are not specific\n",
    "water_data.breakdown = water_data.breakdown.replace({\"Don't Know\":float(\"NaN\"),\"nan\":float(\"NaN\"),\"Other\":float(\"NaN\"),\n",
    "                                                     \"Poorly Constructed\":\"Mechanical Issue\"})\n",
    "\n"
   ]
  },
  {
   "cell_type": "markdown",
   "metadata": {},
   "source": [
    "##### check how above affected these cat variables"
   ]
  },
  {
   "cell_type": "code",
   "execution_count": 11,
   "metadata": {},
   "outputs": [
    {
     "data": {
      "text/plain": [
       "Tap              44907\n",
       "Unimproved       35217\n",
       "Borehole         28123\n",
       "Handpump         15966\n",
       "Overhead Tank     4223\n",
       "Don't Know        3621\n",
       "Name: water_point_type, dtype: int64"
      ]
     },
     "execution_count": 11,
     "metadata": {},
     "output_type": "execute_result"
    }
   ],
   "source": [
    "water_data.water_point_type.value_counts()"
   ]
  },
  {
   "cell_type": "code",
   "execution_count": 12,
   "metadata": {},
   "outputs": [
    {
     "data": {
      "text/plain": [
       "Functional            84460\n",
       "Mechanical Issue      30321\n",
       "Dry Well               4667\n",
       "Under Construction     4299\n",
       "Poor Water Quality     3069\n",
       "Name: breakdown, dtype: int64"
      ]
     },
     "execution_count": 12,
     "metadata": {},
     "output_type": "execute_result"
    }
   ],
   "source": [
    "water_data.breakdown.value_counts()"
   ]
  },
  {
   "cell_type": "code",
   "execution_count": 13,
   "metadata": {},
   "outputs": [
    {
     "data": {
      "text/plain": [
       "water_point_type     453\n",
       "YEAR of Survey         0\n",
       "breakdown           5694\n",
       "State                  0\n",
       "lga                    0\n",
       "latitude               0\n",
       "longitude              0\n",
       "dtype: int64"
      ]
     },
     "execution_count": 13,
     "metadata": {},
     "output_type": "execute_result"
    }
   ],
   "source": [
    "#missing values should have increased in breakdown let's check\n",
    "water_data.isna().sum()"
   ]
  },
  {
   "cell_type": "code",
   "execution_count": 14,
   "metadata": {},
   "outputs": [],
   "source": [
    "# I feel i can drop na\n",
    "water_data = water_data.dropna()"
   ]
  },
  {
   "cell_type": "code",
   "execution_count": 15,
   "metadata": {},
   "outputs": [
    {
     "data": {
      "text/plain": [
       "water_point_type    0\n",
       "YEAR of Survey      0\n",
       "breakdown           0\n",
       "State               0\n",
       "lga                 0\n",
       "latitude            0\n",
       "longitude           0\n",
       "dtype: int64"
      ]
     },
     "execution_count": 15,
     "metadata": {},
     "output_type": "execute_result"
    }
   ],
   "source": [
    "water_data.isna().sum()"
   ]
  },
  {
   "cell_type": "markdown",
   "metadata": {},
   "source": [
    "##### cross tab of breakdown and water_point_type"
   ]
  },
  {
   "cell_type": "code",
   "execution_count": 16,
   "metadata": {},
   "outputs": [],
   "source": [
    "breakdown_type_crosstab = pd.crosstab(index=water_data[\"water_point_type\"], \n",
    "                           columns=water_data[\"breakdown\"])"
   ]
  },
  {
   "cell_type": "code",
   "execution_count": 17,
   "metadata": {},
   "outputs": [
    {
     "data": {
      "text/html": [
       "<style  type=\"text/css\" >\n",
       "    #T_2fb394ae_e3e5_11eb_92e8_685b357f5721row0_col0 {\n",
       "            background-color:  #dfef66;\n",
       "            color:  #000000;\n",
       "        }    #T_2fb394ae_e3e5_11eb_92e8_685b357f5721row0_col1 {\n",
       "            background-color:  #6bb566;\n",
       "            color:  #000000;\n",
       "        }    #T_2fb394ae_e3e5_11eb_92e8_685b357f5721row0_col2 {\n",
       "            background-color:  #71b866;\n",
       "            color:  #000000;\n",
       "        }    #T_2fb394ae_e3e5_11eb_92e8_685b357f5721row0_col3 {\n",
       "            background-color:  #b6db66;\n",
       "            color:  #000000;\n",
       "        }    #T_2fb394ae_e3e5_11eb_92e8_685b357f5721row0_col4 {\n",
       "            background-color:  #a2d066;\n",
       "            color:  #000000;\n",
       "        }    #T_2fb394ae_e3e5_11eb_92e8_685b357f5721row1_col0 {\n",
       "            background-color:  #fbfd66;\n",
       "            color:  #000000;\n",
       "        }    #T_2fb394ae_e3e5_11eb_92e8_685b357f5721row1_col1 {\n",
       "            background-color:  #ffff66;\n",
       "            color:  #000000;\n",
       "        }    #T_2fb394ae_e3e5_11eb_92e8_685b357f5721row1_col2 {\n",
       "            background-color:  #ffff66;\n",
       "            color:  #000000;\n",
       "        }    #T_2fb394ae_e3e5_11eb_92e8_685b357f5721row1_col3 {\n",
       "            background-color:  #fefe66;\n",
       "            color:  #000000;\n",
       "        }    #T_2fb394ae_e3e5_11eb_92e8_685b357f5721row1_col4 {\n",
       "            background-color:  #ffff66;\n",
       "            color:  #000000;\n",
       "        }    #T_2fb394ae_e3e5_11eb_92e8_685b357f5721row2_col0 {\n",
       "            background-color:  #e6f266;\n",
       "            color:  #000000;\n",
       "        }    #T_2fb394ae_e3e5_11eb_92e8_685b357f5721row2_col1 {\n",
       "            background-color:  #b6db66;\n",
       "            color:  #000000;\n",
       "        }    #T_2fb394ae_e3e5_11eb_92e8_685b357f5721row2_col2 {\n",
       "            background-color:  #b0d866;\n",
       "            color:  #000000;\n",
       "        }    #T_2fb394ae_e3e5_11eb_92e8_685b357f5721row2_col3 {\n",
       "            background-color:  #e3f166;\n",
       "            color:  #000000;\n",
       "        }    #T_2fb394ae_e3e5_11eb_92e8_685b357f5721row2_col4 {\n",
       "            background-color:  #f5fa66;\n",
       "            color:  #000000;\n",
       "        }    #T_2fb394ae_e3e5_11eb_92e8_685b357f5721row3_col0 {\n",
       "            background-color:  #ffff66;\n",
       "            color:  #000000;\n",
       "        }    #T_2fb394ae_e3e5_11eb_92e8_685b357f5721row3_col1 {\n",
       "            background-color:  #fcfe66;\n",
       "            color:  #000000;\n",
       "        }    #T_2fb394ae_e3e5_11eb_92e8_685b357f5721row3_col2 {\n",
       "            background-color:  #f8fc66;\n",
       "            color:  #000000;\n",
       "        }    #T_2fb394ae_e3e5_11eb_92e8_685b357f5721row3_col3 {\n",
       "            background-color:  #ffff66;\n",
       "            color:  #000000;\n",
       "        }    #T_2fb394ae_e3e5_11eb_92e8_685b357f5721row3_col4 {\n",
       "            background-color:  #fafc66;\n",
       "            color:  #000000;\n",
       "        }    #T_2fb394ae_e3e5_11eb_92e8_685b357f5721row4_col0 {\n",
       "            background-color:  #e8f466;\n",
       "            color:  #000000;\n",
       "        }    #T_2fb394ae_e3e5_11eb_92e8_685b357f5721row4_col1 {\n",
       "            background-color:  #1f8f66;\n",
       "            color:  #000000;\n",
       "        }    #T_2fb394ae_e3e5_11eb_92e8_685b357f5721row4_col2 {\n",
       "            background-color:  #008066;\n",
       "            color:  #f1f1f1;\n",
       "        }    #T_2fb394ae_e3e5_11eb_92e8_685b357f5721row4_col3 {\n",
       "            background-color:  #9cce66;\n",
       "            color:  #000000;\n",
       "        }    #T_2fb394ae_e3e5_11eb_92e8_685b357f5721row4_col4 {\n",
       "            background-color:  #008066;\n",
       "            color:  #f1f1f1;\n",
       "        }    #T_2fb394ae_e3e5_11eb_92e8_685b357f5721row5_col0 {\n",
       "            background-color:  #008066;\n",
       "            color:  #f1f1f1;\n",
       "        }    #T_2fb394ae_e3e5_11eb_92e8_685b357f5721row5_col1 {\n",
       "            background-color:  #008066;\n",
       "            color:  #f1f1f1;\n",
       "        }    #T_2fb394ae_e3e5_11eb_92e8_685b357f5721row5_col2 {\n",
       "            background-color:  #fefe66;\n",
       "            color:  #000000;\n",
       "        }    #T_2fb394ae_e3e5_11eb_92e8_685b357f5721row5_col3 {\n",
       "            background-color:  #008066;\n",
       "            color:  #f1f1f1;\n",
       "        }    #T_2fb394ae_e3e5_11eb_92e8_685b357f5721row5_col4 {\n",
       "            background-color:  #fcfe66;\n",
       "            color:  #000000;\n",
       "        }</style><table id=\"T_2fb394ae_e3e5_11eb_92e8_685b357f5721\" ><thead>    <tr>        <th class=\"index_name level0\" >breakdown</th>        <th class=\"col_heading level0 col0\" >Dry Well</th>        <th class=\"col_heading level0 col1\" >Functional</th>        <th class=\"col_heading level0 col2\" >Mechanical Issue</th>        <th class=\"col_heading level0 col3\" >Poor Water Quality</th>        <th class=\"col_heading level0 col4\" >Under Construction</th>    </tr>    <tr>        <th class=\"index_name level0\" >water_point_type</th>        <th class=\"blank\" ></th>        <th class=\"blank\" ></th>        <th class=\"blank\" ></th>        <th class=\"blank\" ></th>        <th class=\"blank\" ></th>    </tr></thead><tbody>\n",
       "                <tr>\n",
       "                        <th id=\"T_2fb394ae_e3e5_11eb_92e8_685b357f5721level0_row0\" class=\"row_heading level0 row0\" >Borehole</th>\n",
       "                        <td id=\"T_2fb394ae_e3e5_11eb_92e8_685b357f5721row0_col0\" class=\"data row0 col0\" >446</td>\n",
       "                        <td id=\"T_2fb394ae_e3e5_11eb_92e8_685b357f5721row0_col1\" class=\"data row0 col1\" >17210</td>\n",
       "                        <td id=\"T_2fb394ae_e3e5_11eb_92e8_685b357f5721row0_col2\" class=\"data row0 col2\" >8066</td>\n",
       "                        <td id=\"T_2fb394ae_e3e5_11eb_92e8_685b357f5721row0_col3\" class=\"data row0 col3\" >492</td>\n",
       "                        <td id=\"T_2fb394ae_e3e5_11eb_92e8_685b357f5721row0_col4\" class=\"data row0 col4\" >943</td>\n",
       "            </tr>\n",
       "            <tr>\n",
       "                        <th id=\"T_2fb394ae_e3e5_11eb_92e8_685b357f5721level0_row1\" class=\"row_heading level0 row1\" >Don't Know</th>\n",
       "                        <td id=\"T_2fb394ae_e3e5_11eb_92e8_685b357f5721row1_col0\" class=\"data row1 col0\" >77</td>\n",
       "                        <td id=\"T_2fb394ae_e3e5_11eb_92e8_685b357f5721row1_col1\" class=\"data row1 col1\" >1834</td>\n",
       "                        <td id=\"T_2fb394ae_e3e5_11eb_92e8_685b357f5721row1_col2\" class=\"data row1 col2\" >1040</td>\n",
       "                        <td id=\"T_2fb394ae_e3e5_11eb_92e8_685b357f5721row1_col3\" class=\"data row1 col3\" >69</td>\n",
       "                        <td id=\"T_2fb394ae_e3e5_11eb_92e8_685b357f5721row1_col4\" class=\"data row1 col4\" >248</td>\n",
       "            </tr>\n",
       "            <tr>\n",
       "                        <th id=\"T_2fb394ae_e3e5_11eb_92e8_685b357f5721level0_row2\" class=\"row_heading level0 row2\" >Handpump</th>\n",
       "                        <td id=\"T_2fb394ae_e3e5_11eb_92e8_685b357f5721row2_col0\" class=\"data row2 col0\" >358</td>\n",
       "                        <td id=\"T_2fb394ae_e3e5_11eb_92e8_685b357f5721row2_col1\" class=\"data row2 col1\" >9502</td>\n",
       "                        <td id=\"T_2fb394ae_e3e5_11eb_92e8_685b357f5721row2_col2\" class=\"data row2 col2\" >4978</td>\n",
       "                        <td id=\"T_2fb394ae_e3e5_11eb_92e8_685b357f5721row2_col3\" class=\"data row2 col3\" >225</td>\n",
       "                        <td id=\"T_2fb394ae_e3e5_11eb_92e8_685b357f5721row2_col4\" class=\"data row2 col4\" >325</td>\n",
       "            </tr>\n",
       "            <tr>\n",
       "                        <th id=\"T_2fb394ae_e3e5_11eb_92e8_685b357f5721level0_row3\" class=\"row_heading level0 row3\" >Overhead Tank</th>\n",
       "                        <td id=\"T_2fb394ae_e3e5_11eb_92e8_685b357f5721row3_col0\" class=\"data row3 col0\" >18</td>\n",
       "                        <td id=\"T_2fb394ae_e3e5_11eb_92e8_685b357f5721row3_col1\" class=\"data row3 col1\" >2218</td>\n",
       "                        <td id=\"T_2fb394ae_e3e5_11eb_92e8_685b357f5721row3_col2\" class=\"data row3 col2\" >1401</td>\n",
       "                        <td id=\"T_2fb394ae_e3e5_11eb_92e8_685b357f5721row3_col3\" class=\"data row3 col3\" >58</td>\n",
       "                        <td id=\"T_2fb394ae_e3e5_11eb_92e8_685b357f5721row3_col4\" class=\"data row3 col4\" >287</td>\n",
       "            </tr>\n",
       "            <tr>\n",
       "                        <th id=\"T_2fb394ae_e3e5_11eb_92e8_685b357f5721level0_row4\" class=\"row_heading level0 row4\" >Tap</th>\n",
       "                        <td id=\"T_2fb394ae_e3e5_11eb_92e8_685b357f5721row4_col0\" class=\"data row4 col0\" >332</td>\n",
       "                        <td id=\"T_2fb394ae_e3e5_11eb_92e8_685b357f5721row4_col1\" class=\"data row4 col1\" >25127</td>\n",
       "                        <td id=\"T_2fb394ae_e3e5_11eb_92e8_685b357f5721row4_col2\" class=\"data row4 col2\" >13689</td>\n",
       "                        <td id=\"T_2fb394ae_e3e5_11eb_92e8_685b357f5721row4_col3\" class=\"data row4 col3\" >648</td>\n",
       "                        <td id=\"T_2fb394ae_e3e5_11eb_92e8_685b357f5721row4_col4\" class=\"data row4 col4\" >2157</td>\n",
       "            </tr>\n",
       "            <tr>\n",
       "                        <th id=\"T_2fb394ae_e3e5_11eb_92e8_685b357f5721level0_row5\" class=\"row_heading level0 row5\" >Unimproved</th>\n",
       "                        <td id=\"T_2fb394ae_e3e5_11eb_92e8_685b357f5721row5_col0\" class=\"data row5 col0\" >3426</td>\n",
       "                        <td id=\"T_2fb394ae_e3e5_11eb_92e8_685b357f5721row5_col1\" class=\"data row5 col1\" >28363</td>\n",
       "                        <td id=\"T_2fb394ae_e3e5_11eb_92e8_685b357f5721row5_col2\" class=\"data row5 col2\" >1122</td>\n",
       "                        <td id=\"T_2fb394ae_e3e5_11eb_92e8_685b357f5721row5_col3\" class=\"data row5 col3\" >1572</td>\n",
       "                        <td id=\"T_2fb394ae_e3e5_11eb_92e8_685b357f5721row5_col4\" class=\"data row5 col4\" >274</td>\n",
       "            </tr>\n",
       "    </tbody></table>"
      ],
      "text/plain": [
       "<pandas.io.formats.style.Styler at 0x7fef50796c10>"
      ]
     },
     "execution_count": 17,
     "metadata": {},
     "output_type": "execute_result"
    }
   ],
   "source": [
    "breakdown_type_crosstab.style.background_gradient(cmap='summer_r')"
   ]
  },
  {
   "cell_type": "code",
   "execution_count": 18,
   "metadata": {},
   "outputs": [
    {
     "data": {
      "text/plain": [
       "<matplotlib.axes._subplots.AxesSubplot at 0x7fef51bd1af0>"
      ]
     },
     "execution_count": 18,
     "metadata": {},
     "output_type": "execute_result"
    },
    {
     "data": {
      "image/png": "[encoded data removed]",
      "text/plain": [
       "<Figure size 432x288 with 1 Axes>"
      ]
     },
     "metadata": {
      "needs_background": "light"
     },
     "output_type": "display_data"
    }
   ],
   "source": [
    "breakdown_type_crosstab.plot.bar(stacked=True)"
   ]
  },
  {
   "cell_type": "code",
   "execution_count": null,
   "metadata": {},
   "outputs": [],
   "source": [
    "# To help analysis later on I'd just make this breakdown into numbers\n",
    "# water_data.breakdown = water_data.breakdown.replace({'Dry Well':0,'Under Construction':1,'Poor Water Quality':3,\n",
    "#                                                     'Functional':4, 'Mechanical Issue':2, \"nan\":5,})\n",
    "# for i in water_data.breakdown.unique():\n",
    "#   if i in range(0,5):\n",
    "#     int(i)"
   ]
  }
 ],
 "metadata": {
  "kernelspec": {
   "display_name": "Python 3",
   "language": "python",
   "name": "python3"
  },
  "language_info": {
   "codemirror_mode": {
    "name": "ipython",
    "version": 3
   },
   "file_extension": ".py",
   "mimetype": "text/x-python",
   "name": "python",
   "nbconvert_exporter": "python",
   "pygments_lexer": "ipython3",
   "version": "3.8.3"
  }
 },
 "nbformat": 4,
 "nbformat_minor": 4
}
