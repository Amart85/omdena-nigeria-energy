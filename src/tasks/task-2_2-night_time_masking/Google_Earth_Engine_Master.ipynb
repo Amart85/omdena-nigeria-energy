{
 "cells": [
  {
   "cell_type": "markdown",
   "id": "_evbOdpSABZJ",
   "metadata": {
    "id": "_evbOdpSABZJ"
   },
   "source": [
    "# Night time mask task for Omdena Nigeria"
   ]
  },
  {
   "cell_type": "markdown",
   "id": "h-ZRZkYF_jaK",
   "metadata": {
    "id": "h-ZRZkYF_jaK"
   },
   "source": [
    "This contains all the code for the night time mask from map viewing to extracting data from regions in Nigeria (which in this case are the local governments in the country). Please, reach out of you have any questions."
   ]
  },
  {
   "cell_type": "markdown",
   "id": "VjSbIWajtTA4",
   "metadata": {
    "id": "VjSbIWajtTA4"
   },
   "source": [
    "## Intialization\n"
   ]
  },
  {
   "cell_type": "code",
   "execution_count": null,
   "id": "653e0511",
   "metadata": {
    "id": "653e0511"
   },
   "outputs": [],
   "source": [
    "try:\n",
    "    import geemap, ee\n",
    "except ModuleNotFoundError:\n",
    "    if 'google.colab' in str(get_ipython()):\n",
    "        print(\"package not found, installing w/ pip in Google Colab...\") ## for google collab\n",
    "        !pip install geemap\n",
    "    else:\n",
    "        print(\"package not found, installing w/ conda...\")\n",
    "        !conda install mamba -c conda-forge -y   ## for your local directory\n",
    "        !mamba install geemap -c conda-forge -y\n",
    "    import geemap, ee"
   ]
  },
  {
   "cell_type": "code",
   "execution_count": null,
   "id": "2656c919",
   "metadata": {
    "id": "2656c919"
   },
   "outputs": [],
   "source": [
    "try:\n",
    "        ee.Initialize()    ## This is done anytime you want to use the google earth engine API.\n",
    "except Exception as e:\n",
    "        ee.Authenticate()  ## To help google earth engine link your account\n",
    "        ee.Initialize()"
   ]
  },
  {
   "cell_type": "code",
   "execution_count": null,
   "id": "6M5gnK5guQaU",
   "metadata": {
    "colab": {
     "base_uri": "https://localhost:8080/"
    },
    "id": "6M5gnK5guQaU",
    "outputId": "263d2289-e405-4a24-bf8d-531fe1aa07c6"
   },
   "outputs": [],
   "source": [
    "from google.colab import drive\n",
    "drive.mount('/content/drive/')\n"
   ]
  },
  {
   "cell_type": "code",
   "execution_count": null,
   "id": "UanOz6IAuXvs",
   "metadata": {
    "id": "UanOz6IAuXvs"
   },
   "outputs": [],
   "source": [
    "from google.colab import auth\n",
    "auth.authenticate_user()"
   ]
  },
  {
   "cell_type": "code",
   "execution_count": null,
   "id": "f88ef6dc",
   "metadata": {
    "colab": {
     "base_uri": "https://localhost:8080/",
     "height": 601
    },
    "id": "f88ef6dc",
    "outputId": "17c020cc-da27-4ce0-912d-bc10152d4c9a"
   },
   "outputs": [],
   "source": [
    "# set our initial map parameters for Abuja, Nigeria\n",
    "center_lat = 9.0\n",
    "center_lon = 7.4\n",
    "zoomlevel=6\n",
    "\n",
    "# initialize our map\n",
    "myFirstMap = geemap.Map(center=[center_lat,center_lon], zoom=zoomlevel)\n",
    "\n",
    "# display our map\n",
    "myFirstMap.addLayerControl()\n",
    "myFirstMap"
   ]
  },
  {
   "cell_type": "code",
   "execution_count": null,
   "id": "jGpiIg11vbhb",
   "metadata": {
    "colab": {
     "base_uri": "https://localhost:8080/"
    },
    "id": "jGpiIg11vbhb",
    "outputId": "7b92d8f2-7bc7-4a39-e9f8-fb56e60bba54"
   },
   "outputs": [],
   "source": [
    "from google.colab import drive\n",
    "drive.mount('/content/drive')"
   ]
  },
  {
   "cell_type": "markdown",
   "id": "caf37d39",
   "metadata": {
    "id": "caf37d39"
   },
   "source": [
    "## Night maps"
   ]
  },
  {
   "cell_type": "code",
   "execution_count": null,
   "id": "5de4bb64",
   "metadata": {
    "colab": {
     "base_uri": "https://localhost:8080/"
    },
    "id": "5de4bb64",
    "outputId": "3b8860a6-b421-443f-ef0a-47003e275834"
   },
   "outputs": [],
   "source": [
    "start_date = '2019-01-01'\n",
    "end_date =  '2019-12-31'\n",
    "\n",
    "\n",
    "##VIIRS Nighttime Day/Night Band Composites Version 1\n",
    "\n",
    "dataset = ee.ImageCollection('NOAA/VIIRS/DNB/MONTHLY_V1/VCMCFG').filter(ee.Filter.date(start_date, end_date))\n",
    "\n",
    "print(f\"there are {dataset.size().getInfo()} images in this collection. One per month.\")  ## Shows how many images in our collection.\n",
    "\n",
    "start_date = '2020-01-01'\n",
    "end_date =  '2020-12-31'"
   ]
  },
  {
   "cell_type": "code",
   "execution_count": null,
   "id": "77444433",
   "metadata": {
    "colab": {
     "base_uri": "https://localhost:8080/",
     "height": 601
    },
    "id": "77444433",
    "outputId": "2d36cd00-9f1f-4aa7-db34-61bb3b73cefc"
   },
   "outputs": [],
   "source": [
    "##VIIRS Nighttime Day/Night Band Composites Version 1\n",
    "\n",
    "dataset = ee.ImageCollection('NOAA/VIIRS/DNB/MONTHLY_V1/VCMCFG').filter(ee.Filter.date(start_date, end_date))\n",
    "nighttime = dataset.select('avg_rad')\n",
    "nighttimeVis = {min: 0.0, max: 100.0};\n",
    "myFirstMap.setCenter(center_lat, center_lon, zoomlevel);\n",
    "myFirstMap.addLayer(nighttime, nighttimeVis, '2020 Nighttime')\n",
    "\n",
    "# display our night time map\n",
    "myFirstMap.addLayerControl()\n",
    "myFirstMap\n"
   ]
  },
  {
   "cell_type": "markdown",
   "id": "dd01d7b5",
   "metadata": {
    "id": "dd01d7b5"
   },
   "source": [
    "## Masked Maps\n",
    "\n",
    "This section is for masked Maps. Masked Maps are Maps that negative and Zero values have been filtered out."
   ]
  },
  {
   "cell_type": "code",
   "execution_count": null,
   "id": "d2aba4e4",
   "metadata": {
    "colab": {
     "base_uri": "https://localhost:8080/",
     "height": 601
    },
    "id": "d2aba4e4",
    "outputId": "817e161c-eab7-4eee-da85-9d6a3352ad14"
   },
   "outputs": [],
   "source": [
    "### Mask\n",
    "\n",
    "start_date = '2020-01-01'\n",
    "end_date =  '2020-12-31'\n",
    "\n",
    "mySecondMap = geemap.Map()\n",
    "\n",
    "##VIIRS Nighttime Day/Night Band Composites Version 1\n",
    "\n",
    "dataset = ee.ImageCollection('NOAA/VIIRS/DNB/MONTHLY_V1/VCMCFG').filter(ee.Filter.date(start_date, end_date))\n",
    "nighttime = dataset.select('avg_rad').median() ##Median is used when masking\n",
    "nighttimeVis = {min: 0.0, max: 60.0};\n",
    "mySecondMap.setCenter(center_lat, center_lon, zoomlevel);\n",
    "mySecondMap.addLayer(nighttime.mask(nighttime), nighttimeVis, '2020 Mask', opacity=0.75)  ##mask function called here.\n",
    "\n",
    "mySecondMap"
   ]
  },
  {
   "cell_type": "markdown",
   "id": "65f1587a",
   "metadata": {
    "id": "65f1587a"
   },
   "source": [
    "## Adding BaseMap"
   ]
  },
  {
   "cell_type": "code",
   "execution_count": null,
   "id": "cb6ed822",
   "metadata": {
    "colab": {
     "base_uri": "https://localhost:8080/",
     "height": 601
    },
    "id": "cb6ed822",
    "outputId": "c92b5a0e-f626-403e-de99-cf976b5cb6f6"
   },
   "outputs": [],
   "source": [
    "### Adding BaseMap\n",
    "\n",
    "start_date = '2020-01-01'\n",
    "end_date =  '2020-12-31'\n",
    "\n",
    "myThirdMap = geemap.Map()\n",
    "\n",
    "myThirdMap.add_basemap(\"SATELLITE\") ## BaseMap just means another layer of Map. \n",
    "## You can call different Maps as stored in the databases. You can read more on this. \n",
    "## Satellite BaseMap shows a typography of the Earth - kinda- from space.\n",
    "\n",
    "\n",
    "dataset = ee.ImageCollection('NOAA/VIIRS/DNB/MONTHLY_V1/VCMCFG').filter(ee.Filter.date(start_date, end_date))\n",
    "nighttime = dataset.select('avg_rad').median()\n",
    "nighttimeVis = {min: 0.0, max: 60.0};\n",
    "myThirdMap.setCenter(center_lat, center_lon, zoomlevel);\n",
    "myThirdMap.addLayer(nighttime.mask(nighttime), nighttimeVis, '2020 Mask', opacity=0.75)\n",
    "\n",
    "myThirdMap"
   ]
  },
  {
   "cell_type": "markdown",
   "id": "5339174b",
   "metadata": {
    "id": "5339174b"
   },
   "source": [
    "\n",
    "## Exporting night time image\n",
    "\n",
    "In this section, we will be analyzing our nightime image and try to get data from them."
   ]
  },
  {
   "cell_type": "code",
   "execution_count": null,
   "id": "68136593",
   "metadata": {
    "id": "68136593"
   },
   "outputs": [],
   "source": [
    "import os\n",
    "import geemap\n",
    "import ee"
   ]
  },
  {
   "cell_type": "code",
   "execution_count": null,
   "id": "37f18344",
   "metadata": {
    "id": "37f18344"
   },
   "outputs": [],
   "source": [
    "try:\n",
    "        ee.Initialize()    ## This is done anytime you want to use the google earth engine API.\n",
    "except Exception as e:\n",
    "        ee.Authenticate()  ## To help google earth engine link your account\n",
    "        ee.Initialize()"
   ]
  },
  {
   "cell_type": "code",
   "execution_count": null,
   "id": "90b82728",
   "metadata": {
    "colab": {
     "base_uri": "https://localhost:8080/",
     "height": 601
    },
    "id": "90b82728",
    "outputId": "6dde967c-3fb5-4eaa-bdda-2620c55dffbb"
   },
   "outputs": [],
   "source": [
    "# set our initial map parameters for Abuja, Nigeria\n",
    "center_lat = 9.0\n",
    "center_lon = 7.4\n",
    "zoomlevel=6\n",
    "\n",
    "# initialize our map\n",
    "myFirstMap = geemap.Map(center=[center_lat,center_lon], zoom=zoomlevel)\n",
    "\n",
    "# display our map\n",
    "myFirstMap.addLayerControl()\n",
    "myFirstMap"
   ]
  },
  {
   "cell_type": "code",
   "execution_count": null,
   "id": "f2f67287",
   "metadata": {
    "colab": {
     "base_uri": "https://localhost:8080/",
     "height": 601
    },
    "id": "f2f67287",
    "outputId": "e0645517-4c74-4326-a330-375252d68552"
   },
   "outputs": [],
   "source": [
    "## Displaying nighttime image\n",
    "\n",
    "start_date = '2016-01-01'\n",
    "end_date =  '2016-12-31'\n",
    "\n",
    "\n",
    "## Creating night-time image from VIIRS dataset\n",
    "dataset = ee.ImageCollection('NOAA/VIIRS/DNB/MONTHLY_V1/VCMCFG').filter(ee.Filter.date(start_date, end_date))\n",
    "nighttime = dataset.select('avg_rad')\n",
    "nighttime_image = nighttime.median()\n",
    "nighttimeVis = {min: 0.0, max: 100.0};\n",
    "myFirstMap.setCenter(center_lat, center_lon, zoomlevel);\n",
    "myFirstMap.addLayer(nighttime_image.mask(nighttime_image), nighttimeVis, '2016 Nighttime Mask')\n",
    "\n",
    "\n",
    "# display our night time map\n",
    "myFirstMap.addLayerControl()\n",
    "myFirstMap"
   ]
  },
  {
   "cell_type": "code",
   "execution_count": null,
   "id": "42041549",
   "metadata": {
    "id": "42041549"
   },
   "outputs": [],
   "source": [
    "## run night mask first and draw the box before running this or you can use the cordinates approach. This approach is \n",
    "## commented\n",
    "## feature = mySecondMap.draw_last_feature\n",
    "## feature\n",
    "\n",
    "\n",
    "geom = ee.Geometry.Polygon([[[7.809796,4.887219],\n",
    "                                 [7.809796,5.160274],\n",
    "                                 [8.402061,5.160274],\n",
    "                                 [8.402061,4.887219],\n",
    "                                 [7.809796,4.887219]]])\n",
    "feature = ee.Feature(geom, {})\n",
    "\n",
    "## ROI is region of interest\n",
    "roi = feature.geometry()"
   ]
  },
  {
   "cell_type": "code",
   "execution_count": null,
   "id": "29f54b65",
   "metadata": {
    "id": "29f54b65"
   },
   "outputs": [],
   "source": [
    "## ascertain path to download image\n",
    "path = \"/content/drive/MyDrive/Google Earth Engine/Downloaded Maps\"\n",
    "\n",
    "filename = os.path.join(out_dir, \"NigeriaMask2016.tif\")"
   ]
  },
  {
   "cell_type": "code",
   "execution_count": null,
   "id": "6d4cba72",
   "metadata": {
    "colab": {
     "base_uri": "https://localhost:8080/"
    },
    "id": "6d4cba72",
    "outputId": "fff19f83-230e-4c72-b596-b9ed29a477d1"
   },
   "outputs": [],
   "source": [
    "###Export function\n",
    "\n",
    "geemap.ee_export_image(nighttime_image, filename= filename, scale= 100, region = roi, file_per_band=False,)"
   ]
  },
  {
   "cell_type": "markdown",
   "id": "231d63cd",
   "metadata": {
    "id": "231d63cd"
   },
   "source": [
    "---"
   ]
  },
  {
   "cell_type": "markdown",
   "id": "42fe4980",
   "metadata": {
    "id": "42fe4980"
   },
   "source": [
    "## Night time image analysis"
   ]
  },
  {
   "cell_type": "markdown",
   "id": "8e4f03e2",
   "metadata": {
    "id": "8e4f03e2"
   },
   "source": [
    "Using VIIRS as the raster input, examine its attributes, plot a histogram showing the distribution of the night time intesity (avg_rad), and showing a simple masking technique to remove non habitable areas.\n",
    "\n",
    "The raster is already bounded from GEE."
   ]
  },
  {
   "cell_type": "markdown",
   "id": "6ca9e7f4",
   "metadata": {
    "id": "6ca9e7f4"
   },
   "source": [
    "1  Open Source Python Notebook using simple Rasterio library to examine raster"
   ]
  },
  {
   "cell_type": "markdown",
   "id": "dcf3fb42",
   "metadata": {
    "id": "dcf3fb42"
   },
   "source": [
    "1.1  Extract a raster file and examine its attributes as well as examine a single band from that raster then show the image.¶\n",
    "Check version & install libraries."
   ]
  },
  {
   "cell_type": "code",
   "execution_count": null,
   "id": "VsRLsdrr0vru",
   "metadata": {
    "colab": {
     "base_uri": "https://localhost:8080/"
    },
    "id": "VsRLsdrr0vru",
    "outputId": "1a0ab0e1-5046-45f3-d73b-3e2433404c8d"
   },
   "outputs": [],
   "source": [
    "!pip install rasterio\n",
    "!pip install rioxarray "
   ]
  },
  {
   "cell_type": "code",
   "execution_count": null,
   "id": "7b990bb8",
   "metadata": {
    "id": "7b990bb8"
   },
   "outputs": [],
   "source": [
    "# standard library\n",
    "import os\n",
    "from pprint import pprint\n",
    "\n",
    "# common library\n",
    "import numpy as np \n",
    "import pandas as  pd\n",
    "import matplotlib.pyplot as plt\n",
    "import seaborn as sns\n",
    "%matplotlib inline\n",
    "\n",
    "# GIS libraries\n",
    "import rasterio\n",
    "from rasterio.plot import show\n",
    "from rasterio.plot import show_hist\n",
    "import xarray as xr\n",
    "import rioxarray as rxr"
   ]
  },
  {
   "cell_type": "code",
   "execution_count": null,
   "id": "cb2e5995",
   "metadata": {
    "id": "cb2e5995"
   },
   "outputs": [],
   "source": [
    "## Read the just downloaded map\n",
    "\n",
    "data = \"/content/drive/MyDrive/Google Earth Engine/Downloaded Maps/NigeriaMask2016.tif\""
   ]
  },
  {
   "cell_type": "code",
   "execution_count": null,
   "id": "f720a936",
   "metadata": {
    "id": "f720a936"
   },
   "outputs": [],
   "source": [
    "# Open the file:\n",
    "raster = rasterio.open(data)"
   ]
  },
  {
   "cell_type": "code",
   "execution_count": null,
   "id": "cf718c03",
   "metadata": {
    "colab": {
     "base_uri": "https://localhost:8080/"
    },
    "id": "cf718c03",
    "outputId": "8ceda5c5-d0a9-42cf-a886-c0b57d4b86de"
   },
   "outputs": [],
   "source": [
    "# from rasterio doc: attributes\n",
    "print(f'Raster shape:\\t\\t {raster.shape}')\n",
    "print(f'Raster band count:\\t {raster.count}')\n",
    "print(f'Raster data types:\\t {raster.dtypes} ')\n",
    "print(f'Raster valid data mask:\\t {raster.nodatavals}')\n",
    "print(f'Raster not valid mask:\\t {raster.nodata}')"
   ]
  },
  {
   "cell_type": "code",
   "execution_count": null,
   "id": "9270ab08",
   "metadata": {
    "colab": {
     "base_uri": "https://localhost:8080/",
     "height": 202
    },
    "id": "9270ab08",
    "outputId": "5060d1c2-37ee-4bb7-98c0-28cd9e21979c"
   },
   "outputs": [],
   "source": [
    "# the plot dimensions show the longitude, x, and lattitude, y\n",
    "show(raster);"
   ]
  },
  {
   "cell_type": "markdown",
   "id": "f16850f4",
   "metadata": {
    "id": "f16850f4"
   },
   "source": [
    "### Bands  \n",
    "\n",
    "From the metadata information block above, \"count\" shows 1 meaning only 1 band in this raster.  Using 1-based array index, showing the band information."
   ]
  },
  {
   "cell_type": "code",
   "execution_count": null,
   "id": "7f7b152d",
   "metadata": {
    "colab": {
     "base_uri": "https://localhost:8080/"
    },
    "id": "7f7b152d",
    "outputId": "4032e919-c46e-4b2d-af6f-05fe81f3cff4"
   },
   "outputs": [],
   "source": [
    "# get the band and inspect\n",
    "band = raster.read(1)\n",
    "\n",
    "## Descriptions of band\n",
    "print(f'Band size:\\t{band.shape}')\n",
    "print(f'Band dimensions:\\t{band.ndim}')\n",
    "print(f'Band data type:\\t{type(band)}')"
   ]
  },
  {
   "cell_type": "code",
   "execution_count": null,
   "id": "5cc3f313",
   "metadata": {
    "colab": {
     "base_uri": "https://localhost:8080/"
    },
    "id": "5cc3f313",
    "outputId": "cc7ae8e5-d580-4ee1-af45-f3fa8746cd25"
   },
   "outputs": [],
   "source": [
    "band"
   ]
  },
  {
   "cell_type": "code",
   "execution_count": null,
   "id": "f97a3b96",
   "metadata": {
    "id": "f97a3b96"
   },
   "outputs": [],
   "source": [
    "# band has nan values on certain pixels, look at non-nan values\n",
    "# band is a 2D ndarray, to examine values, it will flatten to 1D\n",
    "# using to inspect stats only\n",
    "count = band[~(np.isnan(band))] "
   ]
  },
  {
   "cell_type": "code",
   "execution_count": null,
   "id": "826d04bd",
   "metadata": {
    "colab": {
     "base_uri": "https://localhost:8080/"
    },
    "id": "826d04bd",
    "outputId": "fdcc1727-44ec-4d23-8c18-896777305f86"
   },
   "outputs": [],
   "source": [
    "# stats\n",
    "print(f'\\tmin: {count.min()},\\n \\tmean: {count.mean()},\\n\\tmedian: {np.median(count)},\\n\\tmax: {count.max()}')"
   ]
  },
  {
   "cell_type": "code",
   "execution_count": null,
   "id": "1490d6be",
   "metadata": {
    "colab": {
     "base_uri": "https://localhost:8080/",
     "height": 253
    },
    "id": "1490d6be",
    "outputId": "33acea50-074b-4f17-d1ff-8dec802a5d33"
   },
   "outputs": [],
   "source": [
    "# pink seems to show the light colors better than other colors\n",
    "fig, ax = plt.subplots()\n",
    "img = ax.imshow(band[:, :], cmap='pink')\n",
    "fig.colorbar(img, ax=ax);\n",
    "ax.set_xlabel('pixel dimensions')\n",
    "ax.set_ylabel('pixel dimensions')\n",
    "ax.set_title('Night time mask avg DNB radiance values for 2016');"
   ]
  },
  {
   "cell_type": "markdown",
   "id": "e70cf770",
   "metadata": {
    "id": "e70cf770"
   },
   "source": [
    "### Histogram "
   ]
  },
  {
   "cell_type": "code",
   "execution_count": null,
   "id": "8bf246c9",
   "metadata": {
    "colab": {
     "base_uri": "https://localhost:8080/",
     "height": 449
    },
    "id": "8bf246c9",
    "outputId": "b75892f3-fa87-4b87-ffd0-f7cb3b07488c"
   },
   "outputs": [],
   "source": [
    "# this may take several minutes\n",
    "plt.hist(band)"
   ]
  },
  {
   "cell_type": "markdown",
   "id": "62d59604",
   "metadata": {
    "id": "62d59604"
   },
   "source": [
    "### Extracting Data from images"
   ]
  },
  {
   "cell_type": "code",
   "execution_count": null,
   "id": "411c3c68",
   "metadata": {
    "id": "411c3c68"
   },
   "outputs": [],
   "source": [
    "# Open DTM and DSM files\n",
    "raster2 = rxr.open_rasterio(data, masked=True).squeeze()"
   ]
  },
  {
   "cell_type": "code",
   "execution_count": null,
   "id": "d2a46e9f",
   "metadata": {
    "id": "d2a46e9f"
   },
   "outputs": [],
   "source": [
    "## Drop null values\n",
    "var1 = raster2.to_dataframe('results').dropna(how='all')"
   ]
  },
  {
   "cell_type": "code",
   "execution_count": null,
   "id": "a4433a7e",
   "metadata": {
    "id": "a4433a7e"
   },
   "outputs": [],
   "source": [
    "var1 = var1.dropna()"
   ]
  },
  {
   "cell_type": "code",
   "execution_count": null,
   "id": "3d8c12d0",
   "metadata": {
    "id": "3d8c12d0"
   },
   "outputs": [],
   "source": [
    "# Check nodata value for array\n",
    "raster2.rio.nodata\n"
   ]
  },
  {
   "cell_type": "code",
   "execution_count": null,
   "id": "0f4fb08e",
   "metadata": {
    "colab": {
     "base_uri": "https://localhost:8080/",
     "height": 246
    },
    "id": "0f4fb08e",
    "outputId": "6841a5fd-8db8-4aaf-8082-43ae9a61578d"
   },
   "outputs": [],
   "source": [
    "raster2"
   ]
  },
  {
   "cell_type": "code",
   "execution_count": null,
   "id": "31e31238",
   "metadata": {
    "id": "31e31238"
   },
   "outputs": [],
   "source": [
    "## Exporting data to a file\n",
    "var1.to_csv(\"/content/drive/MyDrive/Google Earth Engine/Downloaded Data/data_extract.csv\")"
   ]
  },
  {
   "cell_type": "markdown",
   "id": "978b17ec",
   "metadata": {
    "id": "978b17ec"
   },
   "source": [
    "## Zonal statistics\n",
    "### Working with shapefiles"
   ]
  },
  {
   "cell_type": "code",
   "execution_count": null,
   "id": "yhBxNbi66NdZ",
   "metadata": {
    "colab": {
     "base_uri": "https://localhost:8080/"
    },
    "id": "yhBxNbi66NdZ",
    "outputId": "4cf94b6e-86e0-4579-c6d9-12bed77cc830"
   },
   "outputs": [],
   "source": [
    "!pip install geopandas\n",
    "!pip install pyshp"
   ]
  },
  {
   "cell_type": "code",
   "execution_count": null,
   "id": "f0a3b274",
   "metadata": {
    "id": "f0a3b274"
   },
   "outputs": [],
   "source": [
    "import geopandas as gpd"
   ]
  },
  {
   "cell_type": "code",
   "execution_count": null,
   "id": "91c102b8",
   "metadata": {
    "colab": {
     "base_uri": "https://localhost:8080/",
     "height": 601
    },
    "id": "91c102b8",
    "outputId": "8ac8bde8-fc61-4d39-abb1-73f217531faa"
   },
   "outputs": [],
   "source": [
    "###Mask\n",
    "\n",
    "start_date = '2016-01-01'\n",
    "end_date =  '2016-12-31'\n",
    "\n",
    "mySecondMap = geemap.Map()\n",
    "\n",
    "##VIIRS Nighttime Day/Night Band Composites Version 1\n",
    "\n",
    "dataset = ee.ImageCollection('NOAA/VIIRS/DNB/MONTHLY_V1/VCMCFG').filter(ee.Filter.date(start_date, end_date))\n",
    "nighttime = dataset.select('avg_rad').median() ##Median is used when masking\n",
    "nighttimeVis = {min: 0.0, max: 60.0};\n",
    "mySecondMap.setCenter(center_lat, center_lon, zoomlevel);\n",
    "mySecondMap.addLayer(nighttime.mask(nighttime), nighttimeVis, '2016 Mask', opacity=0.75)  ##mask function called here.\n",
    "\n",
    "mySecondMap"
   ]
  },
  {
   "cell_type": "code",
   "execution_count": null,
   "id": "775357aa",
   "metadata": {
    "colab": {
     "base_uri": "https://localhost:8080/",
     "height": 281
    },
    "id": "775357aa",
    "outputId": "f7b360ae-c657-43b3-9f31-c1ba396773a2"
   },
   "outputs": [],
   "source": [
    "## Quick look at the shape file\n",
    "gdf = gpd.read_file(\"/content/drive/MyDrive/Google Earth Engine/Nigeria_LGA/LGA.shp\")\n",
    "gdf.plot()"
   ]
  },
  {
   "cell_type": "code",
   "execution_count": null,
   "id": "5866974f",
   "metadata": {
    "colab": {
     "base_uri": "https://localhost:8080/",
     "height": 601
    },
    "id": "5866974f",
    "outputId": "396a89f1-4cb1-4659-e2fa-8639325caaf3"
   },
   "outputs": [],
   "source": [
    "## conda install pyshp to help view shapefile on map\n",
    "## conda install -c conda-forge pyshp if Attribute Error\n",
    "\n",
    "\n",
    "nigeria_shp = \"/content/drive/MyDrive/Google Earth Engine/Nigeria_LGA/LGA.shp\"\n",
    "nigeria = geemap.shp_to_ee(nigeria_shp)\n",
    "mySecondMap.addLayer(nigeria, {}, 'Nigeria')\n",
    "\n",
    "##Look at Map\n",
    "mySecondMap"
   ]
  },
  {
   "cell_type": "code",
   "execution_count": null,
   "id": "885372b7",
   "metadata": {
    "id": "885372b7"
   },
   "outputs": [],
   "source": [
    "out_dir = \"/content/drive/MyDrive/Google Earth Engine/Downloaded Data\""
   ]
  },
  {
   "cell_type": "code",
   "execution_count": null,
   "id": "ebb403d0",
   "metadata": {
    "colab": {
     "base_uri": "https://localhost:8080/"
    },
    "id": "ebb403d0",
    "outputId": "94b9d96d-267c-4d33-b584-f3701a1f5666"
   },
   "outputs": [],
   "source": [
    "out_dem_stats = os.path.join(out_dir, 'dem_stats2.csv')  \n",
    "\n",
    "# Allowed output formats: csv, shp, json, kml, kmz\n",
    "# Allowed statistics type: MEAN, MAXIMUM, MINIMUM, MEDIAN, STD, MIN_MAX, VARIANCE, SUM\n",
    "geemap.zonal_statistics(nighttime, nigeria, out_dem_stats, statistics_type='MEAN', scale=1000)"
   ]
  },
  {
   "cell_type": "code",
   "execution_count": null,
   "id": "6413c3c8",
   "metadata": {
    "id": "6413c3c8"
   },
   "outputs": [],
   "source": []
  },
  {
   "cell_type": "markdown",
   "id": "36a11d01",
   "metadata": {
    "id": "36a11d01"
   },
   "source": [
    "---"
   ]
  }
 ],
 "metadata": {
  "colab": {
   "collapsed_sections": [
    "e70cf770"
   ],
   "name": "Google Earth Engine Master.ipynb",
   "provenance": [],
   "toc_visible": true
  },
  "kernelspec": {
   "display_name": "Python 3",
   "language": "python",
   "name": "python3"
  },
  "language_info": {
   "codemirror_mode": {
    "name": "ipython",
    "version": 3
   },
   "file_extension": ".py",
   "mimetype": "text/x-python",
   "name": "python",
   "nbconvert_exporter": "python",
   "pygments_lexer": "ipython3",
   "version": "3.9.5"
  },
  "toc": {
   "base_numbering": 1,
   "nav_menu": {},
   "number_sections": true,
   "sideBar": true,
   "skip_h1_title": false,
   "title_cell": "Table of Contents",
   "title_sidebar": "Contents",
   "toc_cell": false,
   "toc_position": {},
   "toc_section_display": true,
   "toc_window_display": false
  }
 },
 "nbformat": 4,
 "nbformat_minor": 5
}
