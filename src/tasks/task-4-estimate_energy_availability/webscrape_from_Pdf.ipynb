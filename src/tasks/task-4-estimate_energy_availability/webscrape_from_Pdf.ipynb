{
  "nbformat": 4,
  "nbformat_minor": 0,
  "metadata": {
    "colab": {
      "name": "webscrape_from_Pdf.ipynb",
      "provenance": [],
      "collapsed_sections": []
    },
    "kernelspec": {
      "name": "python3",
      "display_name": "Python 3"
    },
    "language_info": {
      "name": "python"
    }
  },
  "cells": [
    {
      "cell_type": "code",
      "metadata": {
        "colab": {
          "base_uri": "https://localhost:8080/"
        },
        "id": "GZzf-Uy83jZm",
        "outputId": "b61fe4a6-bfe6-42d5-b15d-097f67dc978b"
      },
      "source": [
        "from google.colab import drive\n",
        "drive.mount('/content/drive')"
      ],
      "execution_count": 1,
      "outputs": [
        {
          "output_type": "stream",
          "text": [
            "Mounted at /content/drive\n"
          ],
          "name": "stdout"
        }
      ]
    },
    {
      "cell_type": "code",
      "metadata": {
        "colab": {
          "base_uri": "https://localhost:8080/"
        },
        "id": "ENhzYkVnjzEd",
        "outputId": "cc946257-d3bb-44db-b38c-697cdb09a567"
      },
      "source": [
        "#Install tabula-py library\n",
        "!pip install tabula-py"
      ],
      "execution_count": 2,
      "outputs": [
        {
          "output_type": "stream",
          "text": [
            "Collecting tabula-py\n",
            "\u001b[?25l  Downloading https://files.pythonhosted.org/packages/cf/29/d6cb0d77ef46d84d35cffa09cf42c73b373aea664d28604eab6818f8a47c/tabula_py-2.2.0-py3-none-any.whl (11.7MB)\n",
            "\u001b[K     |████████████████████████████████| 11.7MB 241kB/s \n",
            "\u001b[?25hRequirement already satisfied: numpy in /usr/local/lib/python3.7/dist-packages (from tabula-py) (1.19.5)\n",
            "Requirement already satisfied: pandas>=0.25.3 in /usr/local/lib/python3.7/dist-packages (from tabula-py) (1.1.5)\n",
            "Collecting distro\n",
            "  Downloading https://files.pythonhosted.org/packages/25/b7/b3c4270a11414cb22c6352ebc7a83aaa3712043be29daa05018fd5a5c956/distro-1.5.0-py2.py3-none-any.whl\n",
            "Requirement already satisfied: pytz>=2017.2 in /usr/local/lib/python3.7/dist-packages (from pandas>=0.25.3->tabula-py) (2018.9)\n",
            "Requirement already satisfied: python-dateutil>=2.7.3 in /usr/local/lib/python3.7/dist-packages (from pandas>=0.25.3->tabula-py) (2.8.1)\n",
            "Requirement already satisfied: six>=1.5 in /usr/local/lib/python3.7/dist-packages (from python-dateutil>=2.7.3->pandas>=0.25.3->tabula-py) (1.15.0)\n",
            "Installing collected packages: distro, tabula-py\n",
            "Successfully installed distro-1.5.0 tabula-py-2.2.0\n"
          ],
          "name": "stdout"
        }
      ]
    },
    {
      "cell_type": "code",
      "metadata": {
        "id": "bOoBaJbaj2Et"
      },
      "source": [
        "#import tabula\n",
        "import tabula"
      ],
      "execution_count": 3,
      "outputs": []
    },
    {
      "cell_type": "code",
      "metadata": {
        "colab": {
          "base_uri": "https://localhost:8080/",
          "height": 362
        },
        "id": "iACOPtpwj2H5",
        "outputId": "7715e429-4b49-414e-e4c1-cd68074a1ecb"
      },
      "source": [
        "file = \"/content/drive/MyDrive/solar_irradiance_dataset-main.pdf\"\n",
        "table = tabula.read_pdf(file,pages=7,multiple_tables=False)\n",
        "table[0].head(10)"
      ],
      "execution_count": 24,
      "outputs": [
        {
          "output_type": "execute_result",
          "data": {
            "text/html": [
              "<div>\n",
              "<style scoped>\n",
              "    .dataframe tbody tr th:only-of-type {\n",
              "        vertical-align: middle;\n",
              "    }\n",
              "\n",
              "    .dataframe tbody tr th {\n",
              "        vertical-align: top;\n",
              "    }\n",
              "\n",
              "    .dataframe thead th {\n",
              "        text-align: right;\n",
              "    }\n",
              "</style>\n",
              "<table border=\"1\" class=\"dataframe\">\n",
              "  <thead>\n",
              "    <tr style=\"text-align: right;\">\n",
              "      <th></th>\n",
              "      <th>Year</th>\n",
              "      <th>Month</th>\n",
              "      <th>Quarter</th>\n",
              "      <th>Ibadan</th>\n",
              "      <th>Sokoto</th>\n",
              "      <th>Port Harcourt</th>\n",
              "    </tr>\n",
              "  </thead>\n",
              "  <tbody>\n",
              "    <tr>\n",
              "      <th>50</th>\n",
              "      <td>2015</td>\n",
              "      <td>Mar</td>\n",
              "      <td>Q1</td>\n",
              "      <td>175.3990</td>\n",
              "      <td>269.7174</td>\n",
              "      <td>169.0348</td>\n",
              "    </tr>\n",
              "    <tr>\n",
              "      <th>51</th>\n",
              "      <td>2015</td>\n",
              "      <td>Apr</td>\n",
              "      <td>Q2</td>\n",
              "      <td>177.2122</td>\n",
              "      <td>293.1761</td>\n",
              "      <td>157.4829</td>\n",
              "    </tr>\n",
              "    <tr>\n",
              "      <th>52</th>\n",
              "      <td>2015</td>\n",
              "      <td>May</td>\n",
              "      <td>Q2</td>\n",
              "      <td>178.2418</td>\n",
              "      <td>274.8512</td>\n",
              "      <td>145.4870</td>\n",
              "    </tr>\n",
              "    <tr>\n",
              "      <th>53</th>\n",
              "      <td>2015</td>\n",
              "      <td>Jun</td>\n",
              "      <td>Q2</td>\n",
              "      <td>131.3527</td>\n",
              "      <td>256.4359</td>\n",
              "      <td>124.2063</td>\n",
              "    </tr>\n",
              "    <tr>\n",
              "      <th>54</th>\n",
              "      <td>2015</td>\n",
              "      <td>Jul</td>\n",
              "      <td>Q3</td>\n",
              "      <td>106.9620</td>\n",
              "      <td>227.5436</td>\n",
              "      <td>101.6585</td>\n",
              "    </tr>\n",
              "    <tr>\n",
              "      <th>55</th>\n",
              "      <td>2015</td>\n",
              "      <td>Aug</td>\n",
              "      <td>Q3</td>\n",
              "      <td>105.1376</td>\n",
              "      <td>201.4077</td>\n",
              "      <td>112.5626</td>\n",
              "    </tr>\n",
              "    <tr>\n",
              "      <th>56</th>\n",
              "      <td>2015</td>\n",
              "      <td>Sep</td>\n",
              "      <td>Q3</td>\n",
              "      <td>110.3959</td>\n",
              "      <td>218.6873</td>\n",
              "      <td>128.3276</td>\n",
              "    </tr>\n",
              "    <tr>\n",
              "      <th>57</th>\n",
              "      <td>2015</td>\n",
              "      <td>Oct</td>\n",
              "      <td>Q4</td>\n",
              "      <td>132.8434</td>\n",
              "      <td>244.4301</td>\n",
              "      <td>156.8578</td>\n",
              "    </tr>\n",
              "    <tr>\n",
              "      <th>58</th>\n",
              "      <td>2015</td>\n",
              "      <td>Nov</td>\n",
              "      <td>Q4</td>\n",
              "      <td>152.7041</td>\n",
              "      <td>250.2541</td>\n",
              "      <td>187.9975</td>\n",
              "    </tr>\n",
              "    <tr>\n",
              "      <th>59</th>\n",
              "      <td>2015</td>\n",
              "      <td>Dec</td>\n",
              "      <td>Q4</td>\n",
              "      <td>172.3018</td>\n",
              "      <td>209.2145</td>\n",
              "      <td>231.9561</td>\n",
              "    </tr>\n",
              "  </tbody>\n",
              "</table>\n",
              "</div>"
            ],
            "text/plain": [
              "    Year Month Quarter    Ibadan    Sokoto  Port Harcourt\n",
              "50  2015   Mar      Q1  175.3990  269.7174       169.0348\n",
              "51  2015   Apr      Q2  177.2122  293.1761       157.4829\n",
              "52  2015   May      Q2  178.2418  274.8512       145.4870\n",
              "53  2015   Jun      Q2  131.3527  256.4359       124.2063\n",
              "54  2015   Jul      Q3  106.9620  227.5436       101.6585\n",
              "55  2015   Aug      Q3  105.1376  201.4077       112.5626\n",
              "56  2015   Sep      Q3  110.3959  218.6873       128.3276\n",
              "57  2015   Oct      Q4  132.8434  244.4301       156.8578\n",
              "58  2015   Nov      Q4  152.7041  250.2541       187.9975\n",
              "59  2015   Dec      Q4  172.3018  209.2145       231.9561"
            ]
          },
          "metadata": {
            "tags": []
          },
          "execution_count": 24
        }
      ]
    },
    {
      "cell_type": "code",
      "metadata": {
        "colab": {
          "base_uri": "https://localhost:8080/",
          "height": 362
        },
        "id": "3SUxUV-lp9i0",
        "outputId": "82189dac-865b-4287-9455-d61c3db3a1f6"
      },
      "source": [
        "#check output of table\n",
        "table[0].tail(10)"
      ],
      "execution_count": 25,
      "outputs": [
        {
          "output_type": "execute_result",
          "data": {
            "text/html": [
              "<div>\n",
              "<style scoped>\n",
              "    .dataframe tbody tr th:only-of-type {\n",
              "        vertical-align: middle;\n",
              "    }\n",
              "\n",
              "    .dataframe tbody tr th {\n",
              "        vertical-align: top;\n",
              "    }\n",
              "\n",
              "    .dataframe thead th {\n",
              "        text-align: right;\n",
              "    }\n",
              "</style>\n",
              "<table border=\"1\" class=\"dataframe\">\n",
              "  <thead>\n",
              "    <tr style=\"text-align: right;\">\n",
              "      <th></th>\n",
              "      <th>Year</th>\n",
              "      <th>Month</th>\n",
              "      <th>Quarter</th>\n",
              "      <th>Ibadan</th>\n",
              "      <th>Sokoto</th>\n",
              "      <th>Port Harcourt</th>\n",
              "    </tr>\n",
              "  </thead>\n",
              "  <tbody>\n",
              "    <tr>\n",
              "      <th>0</th>\n",
              "      <td>2011</td>\n",
              "      <td>Jan</td>\n",
              "      <td>Q1</td>\n",
              "      <td>152.95440</td>\n",
              "      <td>216.6395</td>\n",
              "      <td>195.3404</td>\n",
              "    </tr>\n",
              "    <tr>\n",
              "      <th>1</th>\n",
              "      <td>2011</td>\n",
              "      <td>Feb</td>\n",
              "      <td>Q1</td>\n",
              "      <td>167.18160</td>\n",
              "      <td>221.9066</td>\n",
              "      <td>173.1943</td>\n",
              "    </tr>\n",
              "    <tr>\n",
              "      <th>2</th>\n",
              "      <td>2011</td>\n",
              "      <td>Mar</td>\n",
              "      <td>Q1</td>\n",
              "      <td>179.93890</td>\n",
              "      <td>244.9392</td>\n",
              "      <td>180.4480</td>\n",
              "    </tr>\n",
              "    <tr>\n",
              "      <th>3</th>\n",
              "      <td>2011</td>\n",
              "      <td>Apr</td>\n",
              "      <td>Q2</td>\n",
              "      <td>162.21800</td>\n",
              "      <td>242.0993</td>\n",
              "      <td>182.9117</td>\n",
              "    </tr>\n",
              "    <tr>\n",
              "      <th>4</th>\n",
              "      <td>2011</td>\n",
              "      <td>May</td>\n",
              "      <td>Q2</td>\n",
              "      <td>154.39700</td>\n",
              "      <td>232.1683</td>\n",
              "      <td>160.7612</td>\n",
              "    </tr>\n",
              "    <tr>\n",
              "      <th>5</th>\n",
              "      <td>2011</td>\n",
              "      <td>Jun</td>\n",
              "      <td>Q2</td>\n",
              "      <td>126.53000</td>\n",
              "      <td>189.8827</td>\n",
              "      <td>131.3527</td>\n",
              "    </tr>\n",
              "    <tr>\n",
              "      <th>6</th>\n",
              "      <td>2011</td>\n",
              "      <td>Jul</td>\n",
              "      <td>Q3</td>\n",
              "      <td>90.88166</td>\n",
              "      <td>168.1862</td>\n",
              "      <td>121.4725</td>\n",
              "    </tr>\n",
              "    <tr>\n",
              "      <th>7</th>\n",
              "      <td>2011</td>\n",
              "      <td>Aug</td>\n",
              "      <td>Q3</td>\n",
              "      <td>91.89994</td>\n",
              "      <td>163.3494</td>\n",
              "      <td>114.3021</td>\n",
              "    </tr>\n",
              "    <tr>\n",
              "      <th>8</th>\n",
              "      <td>2011</td>\n",
              "      <td>Sep</td>\n",
              "      <td>Q3</td>\n",
              "      <td>112.58800</td>\n",
              "      <td>218.2928</td>\n",
              "      <td>134.7724</td>\n",
              "    </tr>\n",
              "    <tr>\n",
              "      <th>9</th>\n",
              "      <td>2011</td>\n",
              "      <td>Oct</td>\n",
              "      <td>Q4</td>\n",
              "      <td>141.07450</td>\n",
              "      <td>231.2348</td>\n",
              "      <td>141.5836</td>\n",
              "    </tr>\n",
              "  </tbody>\n",
              "</table>\n",
              "</div>"
            ],
            "text/plain": [
              "   Year Month Quarter     Ibadan    Sokoto  Port Harcourt\n",
              "0  2011   Jan      Q1  152.95440  216.6395       195.3404\n",
              "1  2011   Feb      Q1  167.18160  221.9066       173.1943\n",
              "2  2011   Mar      Q1  179.93890  244.9392       180.4480\n",
              "3  2011   Apr      Q2  162.21800  242.0993       182.9117\n",
              "4  2011   May      Q2  154.39700  232.1683       160.7612\n",
              "5  2011   Jun      Q2  126.53000  189.8827       131.3527\n",
              "6  2011   Jul      Q3   90.88166  168.1862       121.4725\n",
              "7  2011   Aug      Q3   91.89994  163.3494       114.3021\n",
              "8  2011   Sep      Q3  112.58800  218.2928       134.7724\n",
              "9  2011   Oct      Q4  141.07450  231.2348       141.5836"
            ]
          },
          "metadata": {
            "tags": []
          },
          "execution_count": 25
        }
      ]
    },
    {
      "cell_type": "code",
      "metadata": {
        "id": "MT1Uw2dij2Pb"
      },
      "source": [
        "tabula.convert_into(file,\"/content/drive/MyDrive/Raw/solar_irradiance.csv\",pages=7,output_format=\"csv\")"
      ],
      "execution_count": 28,
      "outputs": []
    }
  ]
}